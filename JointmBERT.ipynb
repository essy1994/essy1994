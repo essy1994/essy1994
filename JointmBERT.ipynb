{
  "cells": [
    {
      "cell_type": "markdown",
      "metadata": {
        "id": "view-in-github",
        "colab_type": "text"
      },
      "source": [
        "<a href=\"https://colab.research.google.com/github/essy1994/essy1994/blob/master/JointmBERT.ipynb\" target=\"_parent\"><img src=\"https://colab.research.google.com/assets/colab-badge.svg\" alt=\"Open In Colab\"/></a>"
      ]
    },
    {
      "cell_type": "code",
      "execution_count": 1,
      "metadata": {
        "colab": {
          "base_uri": "https://localhost:8080/"
        },
        "id": "AWusIgdObskV",
        "outputId": "15136ad9-4ee6-48e5-bef0-9658451701ee"
      },
      "outputs": [
        {
          "output_type": "stream",
          "name": "stdout",
          "text": [
            "Mounted at /content/drive\n"
          ]
        }
      ],
      "source": [
        "from google.colab import drive\n",
        "drive.mount('/content/drive')"
      ]
    },
    {
      "cell_type": "code",
      "execution_count": 2,
      "metadata": {
        "id": "FRIrLtyAkO2u"
      },
      "outputs": [],
      "source": [
        "# !nvidia-smi"
      ]
    },
    {
      "cell_type": "code",
      "execution_count": 3,
      "metadata": {
        "colab": {
          "base_uri": "https://localhost:8080/"
        },
        "id": "nOowDdspRyUc",
        "outputId": "759ced7f-326d-4a33-df0c-f9a69739691e"
      },
      "outputs": [
        {
          "output_type": "stream",
          "name": "stdout",
          "text": [
            "\u001b[?25l\r\u001b[K     |███████▌                        | 10 kB 35.8 MB/s eta 0:00:01\r\u001b[K     |███████████████                 | 20 kB 43.2 MB/s eta 0:00:01\r\u001b[K     |██████████████████████▌         | 30 kB 46.7 MB/s eta 0:00:01\r\u001b[K     |██████████████████████████████  | 40 kB 44.2 MB/s eta 0:00:01\r\u001b[K     |████████████████████████████████| 43 kB 1.9 MB/s \n",
            "\u001b[?25h  Building wheel for seqeval (setup.py) ... \u001b[?25l\u001b[?25hdone\n",
            "\u001b[K     |████████████████████████████████| 674 kB 31.7 MB/s \n",
            "\u001b[K     |████████████████████████████████| 1.3 MB 63.8 MB/s \n",
            "\u001b[K     |████████████████████████████████| 880 kB 71.3 MB/s \n",
            "\u001b[K     |████████████████████████████████| 7.5 MB 33.8 MB/s \n",
            "\u001b[?25h  Building wheel for sacremoses (setup.py) ... \u001b[?25l\u001b[?25hdone\n"
          ]
        }
      ],
      "source": [
        "!pip install seqeval -qqq\n",
        "# TODO: update this notebook to work with the latest version of transformers\n",
        "!pip install -q transformers==2.11.0"
      ]
    },
    {
      "cell_type": "code",
      "execution_count": 4,
      "metadata": {
        "colab": {
          "base_uri": "https://localhost:8080/",
          "height": 35
        },
        "id": "jfbzohmskRzZ",
        "outputId": "2fab469a-fb70-434d-f485-c1e29e3a9fa2"
      },
      "outputs": [
        {
          "output_type": "execute_result",
          "data": {
            "text/plain": [
              "'2.9.2'"
            ],
            "application/vnd.google.colaboratory.intrinsic+json": {
              "type": "string"
            }
          },
          "metadata": {},
          "execution_count": 4
        }
      ],
      "source": [
        "import tensorflow as tf\n",
        "tf.__version__"
      ]
    },
    {
      "cell_type": "markdown",
      "metadata": {
        "id": "XUIbeqcldJiX"
      },
      "source": [
        "#Importing Libraries"
      ]
    },
    {
      "cell_type": "code",
      "execution_count": 5,
      "metadata": {
        "id": "jbhE0jzNRvJk"
      },
      "outputs": [],
      "source": [
        "import os\n",
        "from tqdm import tqdm\n",
        "import pandas as pd\n",
        "import numpy as np\n",
        "from sklearn.preprocessing import LabelEncoder\n",
        "from transformers import BertTokenizer, TFBertModel\n",
        "import warnings\n",
        "warnings.filterwarnings('ignore')\n",
        "from tensorflow.keras.layers import Dropout, Dense\n",
        "from tensorflow.keras.optimizers import Adam\n",
        "from tensorflow.keras.losses import SparseCategoricalCrossentropy\n",
        "from tensorflow.keras.metrics import SparseCategoricalAccuracy\n",
        "from tensorflow.keras.preprocessing.text import Tokenizer\n",
        "from tensorflow.keras.callbacks import EarlyStopping, ReduceLROnPlateau, LearningRateScheduler, ModelCheckpoint, TensorBoard\n",
        "from seqeval.metrics import classification_report\n",
        "from transformers import TFAutoModel\n",
        "from tensorflow.keras.layers import Dropout, Dense\n",
        "import matplotlib.pyplot as plt\n",
        "from tensorflow.keras.optimizers import Adam\n",
        "from tensorflow.keras.losses import SparseCategoricalCrossentropy\n",
        "from tensorflow.keras.metrics import SparseCategoricalAccuracy\n",
        "import shutil\n",
        "import pickle\n",
        "from seqeval.metrics import classification_report\n",
        "\n",
        "from sklearn.model_selection import train_test_split\n",
        "\n",
        "from sklearn.metrics import accuracy_score, precision_score, recall_score"
      ]
    },
    {
      "cell_type": "markdown",
      "metadata": {
        "id": "JcQruOIhbL__"
      },
      "source": [
        "#Loading Data"
      ]
    },
    {
      "cell_type": "code",
      "execution_count": 6,
      "metadata": {
        "id": "BvOfTo0c0Be-"
      },
      "outputs": [],
      "source": [
        "df = pd.read_excel(\"/content/drive/MyDrive/JP Morgan/Data/translated_set/corrected slot labels data/translated_swa_test_slot_labels.xlsx\")"
      ]
    },
    {
      "cell_type": "code",
      "execution_count": 7,
      "metadata": {
        "colab": {
          "base_uri": "https://localhost:8080/"
        },
        "id": "3Ft3m8KlFfnp",
        "outputId": "8b340b29-3cca-40df-9c71-022afa5e8136"
      },
      "outputs": [
        {
          "output_type": "execute_result",
          "data": {
            "text/plain": [
              "(893, 6)"
            ]
          },
          "metadata": {},
          "execution_count": 7
        }
      ],
      "source": [
        "df.shape"
      ]
    },
    {
      "cell_type": "code",
      "execution_count": 8,
      "metadata": {
        "colab": {
          "base_uri": "https://localhost:8080/",
          "height": 226
        },
        "id": "4WiJmwg_vS2k",
        "outputId": "35fd9c64-80b6-4e82-9303-4a6e1802d69e"
      },
      "outputs": [
        {
          "output_type": "execute_result",
          "data": {
            "text/plain": [
              "                                           utterance  \\\n",
              "0  what are the flights from tacoma to miami that...   \n",
              "1    what flights arrive at love field on june sixth   \n",
              "\n",
              "                                         slot_labels  intent  \\\n",
              "0  O O O O O B-fromloc.city_name O B-toloc.city_n...  flight   \n",
              "1  O O O O B-toloc.airport_name I-toloc.airport_n...  flight   \n",
              "\n",
              "                                       utterance_swa  \\\n",
              "0  ni safari gani za ndege kutoka tacoma hadi mia...   \n",
              "1  ni ndege gani zinazofika kwenye uwanja wa love...   \n",
              "\n",
              "                                     slot_labels_swa intent_swa  \n",
              "0  O O O O O O B-kutoka_mji_jina O B-hadi_mji_jin...      ndege  \n",
              "1  O O O O O O O B-hadi_uwanja_wa_ndege_jina I-ha...      ndege  "
            ],
            "text/html": [
              "\n",
              "  <div id=\"df-4093d1ff-bb75-41e7-9e17-a5e3076fe527\">\n",
              "    <div class=\"colab-df-container\">\n",
              "      <div>\n",
              "<style scoped>\n",
              "    .dataframe tbody tr th:only-of-type {\n",
              "        vertical-align: middle;\n",
              "    }\n",
              "\n",
              "    .dataframe tbody tr th {\n",
              "        vertical-align: top;\n",
              "    }\n",
              "\n",
              "    .dataframe thead th {\n",
              "        text-align: right;\n",
              "    }\n",
              "</style>\n",
              "<table border=\"1\" class=\"dataframe\">\n",
              "  <thead>\n",
              "    <tr style=\"text-align: right;\">\n",
              "      <th></th>\n",
              "      <th>utterance</th>\n",
              "      <th>slot_labels</th>\n",
              "      <th>intent</th>\n",
              "      <th>utterance_swa</th>\n",
              "      <th>slot_labels_swa</th>\n",
              "      <th>intent_swa</th>\n",
              "    </tr>\n",
              "  </thead>\n",
              "  <tbody>\n",
              "    <tr>\n",
              "      <th>0</th>\n",
              "      <td>what are the flights from tacoma to miami that...</td>\n",
              "      <td>O O O O O B-fromloc.city_name O B-toloc.city_n...</td>\n",
              "      <td>flight</td>\n",
              "      <td>ni safari gani za ndege kutoka tacoma hadi mia...</td>\n",
              "      <td>O O O O O O B-kutoka_mji_jina O B-hadi_mji_jin...</td>\n",
              "      <td>ndege</td>\n",
              "    </tr>\n",
              "    <tr>\n",
              "      <th>1</th>\n",
              "      <td>what flights arrive at love field on june sixth</td>\n",
              "      <td>O O O O B-toloc.airport_name I-toloc.airport_n...</td>\n",
              "      <td>flight</td>\n",
              "      <td>ni ndege gani zinazofika kwenye uwanja wa love...</td>\n",
              "      <td>O O O O O O O B-hadi_uwanja_wa_ndege_jina I-ha...</td>\n",
              "      <td>ndege</td>\n",
              "    </tr>\n",
              "  </tbody>\n",
              "</table>\n",
              "</div>\n",
              "      <button class=\"colab-df-convert\" onclick=\"convertToInteractive('df-4093d1ff-bb75-41e7-9e17-a5e3076fe527')\"\n",
              "              title=\"Convert this dataframe to an interactive table.\"\n",
              "              style=\"display:none;\">\n",
              "        \n",
              "  <svg xmlns=\"http://www.w3.org/2000/svg\" height=\"24px\"viewBox=\"0 0 24 24\"\n",
              "       width=\"24px\">\n",
              "    <path d=\"M0 0h24v24H0V0z\" fill=\"none\"/>\n",
              "    <path d=\"M18.56 5.44l.94 2.06.94-2.06 2.06-.94-2.06-.94-.94-2.06-.94 2.06-2.06.94zm-11 1L8.5 8.5l.94-2.06 2.06-.94-2.06-.94L8.5 2.5l-.94 2.06-2.06.94zm10 10l.94 2.06.94-2.06 2.06-.94-2.06-.94-.94-2.06-.94 2.06-2.06.94z\"/><path d=\"M17.41 7.96l-1.37-1.37c-.4-.4-.92-.59-1.43-.59-.52 0-1.04.2-1.43.59L10.3 9.45l-7.72 7.72c-.78.78-.78 2.05 0 2.83L4 21.41c.39.39.9.59 1.41.59.51 0 1.02-.2 1.41-.59l7.78-7.78 2.81-2.81c.8-.78.8-2.07 0-2.86zM5.41 20L4 18.59l7.72-7.72 1.47 1.35L5.41 20z\"/>\n",
              "  </svg>\n",
              "      </button>\n",
              "      \n",
              "  <style>\n",
              "    .colab-df-container {\n",
              "      display:flex;\n",
              "      flex-wrap:wrap;\n",
              "      gap: 12px;\n",
              "    }\n",
              "\n",
              "    .colab-df-convert {\n",
              "      background-color: #E8F0FE;\n",
              "      border: none;\n",
              "      border-radius: 50%;\n",
              "      cursor: pointer;\n",
              "      display: none;\n",
              "      fill: #1967D2;\n",
              "      height: 32px;\n",
              "      padding: 0 0 0 0;\n",
              "      width: 32px;\n",
              "    }\n",
              "\n",
              "    .colab-df-convert:hover {\n",
              "      background-color: #E2EBFA;\n",
              "      box-shadow: 0px 1px 2px rgba(60, 64, 67, 0.3), 0px 1px 3px 1px rgba(60, 64, 67, 0.15);\n",
              "      fill: #174EA6;\n",
              "    }\n",
              "\n",
              "    [theme=dark] .colab-df-convert {\n",
              "      background-color: #3B4455;\n",
              "      fill: #D2E3FC;\n",
              "    }\n",
              "\n",
              "    [theme=dark] .colab-df-convert:hover {\n",
              "      background-color: #434B5C;\n",
              "      box-shadow: 0px 1px 3px 1px rgba(0, 0, 0, 0.15);\n",
              "      filter: drop-shadow(0px 1px 2px rgba(0, 0, 0, 0.3));\n",
              "      fill: #FFFFFF;\n",
              "    }\n",
              "  </style>\n",
              "\n",
              "      <script>\n",
              "        const buttonEl =\n",
              "          document.querySelector('#df-4093d1ff-bb75-41e7-9e17-a5e3076fe527 button.colab-df-convert');\n",
              "        buttonEl.style.display =\n",
              "          google.colab.kernel.accessAllowed ? 'block' : 'none';\n",
              "\n",
              "        async function convertToInteractive(key) {\n",
              "          const element = document.querySelector('#df-4093d1ff-bb75-41e7-9e17-a5e3076fe527');\n",
              "          const dataTable =\n",
              "            await google.colab.kernel.invokeFunction('convertToInteractive',\n",
              "                                                     [key], {});\n",
              "          if (!dataTable) return;\n",
              "\n",
              "          const docLinkHtml = 'Like what you see? Visit the ' +\n",
              "            '<a target=\"_blank\" href=https://colab.research.google.com/notebooks/data_table.ipynb>data table notebook</a>'\n",
              "            + ' to learn more about interactive tables.';\n",
              "          element.innerHTML = '';\n",
              "          dataTable['output_type'] = 'display_data';\n",
              "          await google.colab.output.renderOutput(dataTable, element);\n",
              "          const docLink = document.createElement('div');\n",
              "          docLink.innerHTML = docLinkHtml;\n",
              "          element.appendChild(docLink);\n",
              "        }\n",
              "      </script>\n",
              "    </div>\n",
              "  </div>\n",
              "  "
            ]
          },
          "metadata": {},
          "execution_count": 8
        }
      ],
      "source": [
        "df.head(2)"
      ]
    },
    {
      "cell_type": "code",
      "execution_count": 9,
      "metadata": {
        "id": "rxtwtVrrhRdg"
      },
      "outputs": [],
      "source": [
        "df.rename(columns = {'utterance_swa\t':'words','slot_labels_swa':'word_labels','intent_swa':'intent_label'}, inplace = True)"
      ]
    },
    {
      "cell_type": "code",
      "execution_count": 10,
      "metadata": {
        "id": "NjiUuXsrHzI2"
      },
      "outputs": [],
      "source": [
        "# df.head(2)"
      ]
    },
    {
      "cell_type": "code",
      "execution_count": 11,
      "metadata": {
        "colab": {
          "base_uri": "https://localhost:8080/",
          "height": 226
        },
        "id": "oA3453r9hjXf",
        "outputId": "d6678063-5e46-4f7e-9b8a-062791907efd"
      },
      "outputs": [
        {
          "output_type": "execute_result",
          "data": {
            "text/plain": [
              "                                           utterance  \\\n",
              "0  what are the flights from tacoma to miami that...   \n",
              "1    what flights arrive at love field on june sixth   \n",
              "\n",
              "                                         slot_labels  intent  \\\n",
              "0  O O O O O B-fromloc.city_name O B-toloc.city_n...  flight   \n",
              "1  O O O O B-toloc.airport_name I-toloc.airport_n...  flight   \n",
              "\n",
              "                                         word_labels intent_label  \\\n",
              "0  O O O O O O B-kutoka_mji_jina O B-hadi_mji_jin...        ndege   \n",
              "1  O O O O O O O B-hadi_uwanja_wa_ndege_jina I-ha...        ndege   \n",
              "\n",
              "                                               words  \n",
              "0  ni safari gani za ndege kutoka tacoma hadi mia...  \n",
              "1  ni ndege gani zinazofika kwenye uwanja wa love...  "
            ],
            "text/html": [
              "\n",
              "  <div id=\"df-2d51a629-229d-4306-9c54-b0ad3dff8373\">\n",
              "    <div class=\"colab-df-container\">\n",
              "      <div>\n",
              "<style scoped>\n",
              "    .dataframe tbody tr th:only-of-type {\n",
              "        vertical-align: middle;\n",
              "    }\n",
              "\n",
              "    .dataframe tbody tr th {\n",
              "        vertical-align: top;\n",
              "    }\n",
              "\n",
              "    .dataframe thead th {\n",
              "        text-align: right;\n",
              "    }\n",
              "</style>\n",
              "<table border=\"1\" class=\"dataframe\">\n",
              "  <thead>\n",
              "    <tr style=\"text-align: right;\">\n",
              "      <th></th>\n",
              "      <th>utterance</th>\n",
              "      <th>slot_labels</th>\n",
              "      <th>intent</th>\n",
              "      <th>word_labels</th>\n",
              "      <th>intent_label</th>\n",
              "      <th>words</th>\n",
              "    </tr>\n",
              "  </thead>\n",
              "  <tbody>\n",
              "    <tr>\n",
              "      <th>0</th>\n",
              "      <td>what are the flights from tacoma to miami that...</td>\n",
              "      <td>O O O O O B-fromloc.city_name O B-toloc.city_n...</td>\n",
              "      <td>flight</td>\n",
              "      <td>O O O O O O B-kutoka_mji_jina O B-hadi_mji_jin...</td>\n",
              "      <td>ndege</td>\n",
              "      <td>ni safari gani za ndege kutoka tacoma hadi mia...</td>\n",
              "    </tr>\n",
              "    <tr>\n",
              "      <th>1</th>\n",
              "      <td>what flights arrive at love field on june sixth</td>\n",
              "      <td>O O O O B-toloc.airport_name I-toloc.airport_n...</td>\n",
              "      <td>flight</td>\n",
              "      <td>O O O O O O O B-hadi_uwanja_wa_ndege_jina I-ha...</td>\n",
              "      <td>ndege</td>\n",
              "      <td>ni ndege gani zinazofika kwenye uwanja wa love...</td>\n",
              "    </tr>\n",
              "  </tbody>\n",
              "</table>\n",
              "</div>\n",
              "      <button class=\"colab-df-convert\" onclick=\"convertToInteractive('df-2d51a629-229d-4306-9c54-b0ad3dff8373')\"\n",
              "              title=\"Convert this dataframe to an interactive table.\"\n",
              "              style=\"display:none;\">\n",
              "        \n",
              "  <svg xmlns=\"http://www.w3.org/2000/svg\" height=\"24px\"viewBox=\"0 0 24 24\"\n",
              "       width=\"24px\">\n",
              "    <path d=\"M0 0h24v24H0V0z\" fill=\"none\"/>\n",
              "    <path d=\"M18.56 5.44l.94 2.06.94-2.06 2.06-.94-2.06-.94-.94-2.06-.94 2.06-2.06.94zm-11 1L8.5 8.5l.94-2.06 2.06-.94-2.06-.94L8.5 2.5l-.94 2.06-2.06.94zm10 10l.94 2.06.94-2.06 2.06-.94-2.06-.94-.94-2.06-.94 2.06-2.06.94z\"/><path d=\"M17.41 7.96l-1.37-1.37c-.4-.4-.92-.59-1.43-.59-.52 0-1.04.2-1.43.59L10.3 9.45l-7.72 7.72c-.78.78-.78 2.05 0 2.83L4 21.41c.39.39.9.59 1.41.59.51 0 1.02-.2 1.41-.59l7.78-7.78 2.81-2.81c.8-.78.8-2.07 0-2.86zM5.41 20L4 18.59l7.72-7.72 1.47 1.35L5.41 20z\"/>\n",
              "  </svg>\n",
              "      </button>\n",
              "      \n",
              "  <style>\n",
              "    .colab-df-container {\n",
              "      display:flex;\n",
              "      flex-wrap:wrap;\n",
              "      gap: 12px;\n",
              "    }\n",
              "\n",
              "    .colab-df-convert {\n",
              "      background-color: #E8F0FE;\n",
              "      border: none;\n",
              "      border-radius: 50%;\n",
              "      cursor: pointer;\n",
              "      display: none;\n",
              "      fill: #1967D2;\n",
              "      height: 32px;\n",
              "      padding: 0 0 0 0;\n",
              "      width: 32px;\n",
              "    }\n",
              "\n",
              "    .colab-df-convert:hover {\n",
              "      background-color: #E2EBFA;\n",
              "      box-shadow: 0px 1px 2px rgba(60, 64, 67, 0.3), 0px 1px 3px 1px rgba(60, 64, 67, 0.15);\n",
              "      fill: #174EA6;\n",
              "    }\n",
              "\n",
              "    [theme=dark] .colab-df-convert {\n",
              "      background-color: #3B4455;\n",
              "      fill: #D2E3FC;\n",
              "    }\n",
              "\n",
              "    [theme=dark] .colab-df-convert:hover {\n",
              "      background-color: #434B5C;\n",
              "      box-shadow: 0px 1px 3px 1px rgba(0, 0, 0, 0.15);\n",
              "      filter: drop-shadow(0px 1px 2px rgba(0, 0, 0, 0.3));\n",
              "      fill: #FFFFFF;\n",
              "    }\n",
              "  </style>\n",
              "\n",
              "      <script>\n",
              "        const buttonEl =\n",
              "          document.querySelector('#df-2d51a629-229d-4306-9c54-b0ad3dff8373 button.colab-df-convert');\n",
              "        buttonEl.style.display =\n",
              "          google.colab.kernel.accessAllowed ? 'block' : 'none';\n",
              "\n",
              "        async function convertToInteractive(key) {\n",
              "          const element = document.querySelector('#df-2d51a629-229d-4306-9c54-b0ad3dff8373');\n",
              "          const dataTable =\n",
              "            await google.colab.kernel.invokeFunction('convertToInteractive',\n",
              "                                                     [key], {});\n",
              "          if (!dataTable) return;\n",
              "\n",
              "          const docLinkHtml = 'Like what you see? Visit the ' +\n",
              "            '<a target=\"_blank\" href=https://colab.research.google.com/notebooks/data_table.ipynb>data table notebook</a>'\n",
              "            + ' to learn more about interactive tables.';\n",
              "          element.innerHTML = '';\n",
              "          dataTable['output_type'] = 'display_data';\n",
              "          await google.colab.output.renderOutput(dataTable, element);\n",
              "          const docLink = document.createElement('div');\n",
              "          docLink.innerHTML = docLinkHtml;\n",
              "          element.appendChild(docLink);\n",
              "        }\n",
              "      </script>\n",
              "    </div>\n",
              "  </div>\n",
              "  "
            ]
          },
          "metadata": {},
          "execution_count": 11
        }
      ],
      "source": [
        "df[\"words\"] = df[\"utterance_swa\"]\n",
        "del df[\"utterance_swa\"]\n",
        "df.head(2)"
      ]
    },
    {
      "cell_type": "code",
      "execution_count": 12,
      "metadata": {
        "id": "qJEzCeu2H823"
      },
      "outputs": [],
      "source": [
        "# df.head(2)"
      ]
    },
    {
      "cell_type": "code",
      "execution_count": 13,
      "metadata": {
        "id": "QH1bhCNBcaE6"
      },
      "outputs": [],
      "source": [
        "df_train, df_valid = train_test_split(df, test_size=0.2)"
      ]
    },
    {
      "cell_type": "code",
      "execution_count": 14,
      "metadata": {
        "colab": {
          "base_uri": "https://localhost:8080/",
          "height": 208
        },
        "id": "t58xcFNfcmzI",
        "outputId": "7f9f03e0-9193-45c7-9d7a-0724778c5279"
      },
      "outputs": [
        {
          "output_type": "execute_result",
          "data": {
            "text/plain": [
              "                           utterance  \\\n",
              "33               which airline is us   \n",
              "717  dallas to houston after 1201 am   \n",
              "\n",
              "                                           slot_labels   intent  \\\n",
              "33                                O O O B-airline_code  airline   \n",
              "717  B-fromloc.city_name O B-toloc.city_name B-depa...   flight   \n",
              "\n",
              "                                           word_labels      intent_label  \\\n",
              "33                            B-ndege_kanuni O O O O O  shirika_la_ndege   \n",
              "717  B-kutoka_mji_jina O B-hadi.mji_jina B-kuondoka...             ndege   \n",
              "\n",
              "                                                 words  \n",
              "33                         us ni shirika gani la ndege  \n",
              "717  dallas hadi hoston baada ya sita na dakika moj...  "
            ],
            "text/html": [
              "\n",
              "  <div id=\"df-47280cf2-fccb-42e2-87f1-5968af628dbc\">\n",
              "    <div class=\"colab-df-container\">\n",
              "      <div>\n",
              "<style scoped>\n",
              "    .dataframe tbody tr th:only-of-type {\n",
              "        vertical-align: middle;\n",
              "    }\n",
              "\n",
              "    .dataframe tbody tr th {\n",
              "        vertical-align: top;\n",
              "    }\n",
              "\n",
              "    .dataframe thead th {\n",
              "        text-align: right;\n",
              "    }\n",
              "</style>\n",
              "<table border=\"1\" class=\"dataframe\">\n",
              "  <thead>\n",
              "    <tr style=\"text-align: right;\">\n",
              "      <th></th>\n",
              "      <th>utterance</th>\n",
              "      <th>slot_labels</th>\n",
              "      <th>intent</th>\n",
              "      <th>word_labels</th>\n",
              "      <th>intent_label</th>\n",
              "      <th>words</th>\n",
              "    </tr>\n",
              "  </thead>\n",
              "  <tbody>\n",
              "    <tr>\n",
              "      <th>33</th>\n",
              "      <td>which airline is us</td>\n",
              "      <td>O O O B-airline_code</td>\n",
              "      <td>airline</td>\n",
              "      <td>B-ndege_kanuni O O O O O</td>\n",
              "      <td>shirika_la_ndege</td>\n",
              "      <td>us ni shirika gani la ndege</td>\n",
              "    </tr>\n",
              "    <tr>\n",
              "      <th>717</th>\n",
              "      <td>dallas to houston after 1201 am</td>\n",
              "      <td>B-fromloc.city_name O B-toloc.city_name B-depa...</td>\n",
              "      <td>flight</td>\n",
              "      <td>B-kutoka_mji_jina O B-hadi.mji_jina B-kuondoka...</td>\n",
              "      <td>ndege</td>\n",
              "      <td>dallas hadi hoston baada ya sita na dakika moj...</td>\n",
              "    </tr>\n",
              "  </tbody>\n",
              "</table>\n",
              "</div>\n",
              "      <button class=\"colab-df-convert\" onclick=\"convertToInteractive('df-47280cf2-fccb-42e2-87f1-5968af628dbc')\"\n",
              "              title=\"Convert this dataframe to an interactive table.\"\n",
              "              style=\"display:none;\">\n",
              "        \n",
              "  <svg xmlns=\"http://www.w3.org/2000/svg\" height=\"24px\"viewBox=\"0 0 24 24\"\n",
              "       width=\"24px\">\n",
              "    <path d=\"M0 0h24v24H0V0z\" fill=\"none\"/>\n",
              "    <path d=\"M18.56 5.44l.94 2.06.94-2.06 2.06-.94-2.06-.94-.94-2.06-.94 2.06-2.06.94zm-11 1L8.5 8.5l.94-2.06 2.06-.94-2.06-.94L8.5 2.5l-.94 2.06-2.06.94zm10 10l.94 2.06.94-2.06 2.06-.94-2.06-.94-.94-2.06-.94 2.06-2.06.94z\"/><path d=\"M17.41 7.96l-1.37-1.37c-.4-.4-.92-.59-1.43-.59-.52 0-1.04.2-1.43.59L10.3 9.45l-7.72 7.72c-.78.78-.78 2.05 0 2.83L4 21.41c.39.39.9.59 1.41.59.51 0 1.02-.2 1.41-.59l7.78-7.78 2.81-2.81c.8-.78.8-2.07 0-2.86zM5.41 20L4 18.59l7.72-7.72 1.47 1.35L5.41 20z\"/>\n",
              "  </svg>\n",
              "      </button>\n",
              "      \n",
              "  <style>\n",
              "    .colab-df-container {\n",
              "      display:flex;\n",
              "      flex-wrap:wrap;\n",
              "      gap: 12px;\n",
              "    }\n",
              "\n",
              "    .colab-df-convert {\n",
              "      background-color: #E8F0FE;\n",
              "      border: none;\n",
              "      border-radius: 50%;\n",
              "      cursor: pointer;\n",
              "      display: none;\n",
              "      fill: #1967D2;\n",
              "      height: 32px;\n",
              "      padding: 0 0 0 0;\n",
              "      width: 32px;\n",
              "    }\n",
              "\n",
              "    .colab-df-convert:hover {\n",
              "      background-color: #E2EBFA;\n",
              "      box-shadow: 0px 1px 2px rgba(60, 64, 67, 0.3), 0px 1px 3px 1px rgba(60, 64, 67, 0.15);\n",
              "      fill: #174EA6;\n",
              "    }\n",
              "\n",
              "    [theme=dark] .colab-df-convert {\n",
              "      background-color: #3B4455;\n",
              "      fill: #D2E3FC;\n",
              "    }\n",
              "\n",
              "    [theme=dark] .colab-df-convert:hover {\n",
              "      background-color: #434B5C;\n",
              "      box-shadow: 0px 1px 3px 1px rgba(0, 0, 0, 0.15);\n",
              "      filter: drop-shadow(0px 1px 2px rgba(0, 0, 0, 0.3));\n",
              "      fill: #FFFFFF;\n",
              "    }\n",
              "  </style>\n",
              "\n",
              "      <script>\n",
              "        const buttonEl =\n",
              "          document.querySelector('#df-47280cf2-fccb-42e2-87f1-5968af628dbc button.colab-df-convert');\n",
              "        buttonEl.style.display =\n",
              "          google.colab.kernel.accessAllowed ? 'block' : 'none';\n",
              "\n",
              "        async function convertToInteractive(key) {\n",
              "          const element = document.querySelector('#df-47280cf2-fccb-42e2-87f1-5968af628dbc');\n",
              "          const dataTable =\n",
              "            await google.colab.kernel.invokeFunction('convertToInteractive',\n",
              "                                                     [key], {});\n",
              "          if (!dataTable) return;\n",
              "\n",
              "          const docLinkHtml = 'Like what you see? Visit the ' +\n",
              "            '<a target=\"_blank\" href=https://colab.research.google.com/notebooks/data_table.ipynb>data table notebook</a>'\n",
              "            + ' to learn more about interactive tables.';\n",
              "          element.innerHTML = '';\n",
              "          dataTable['output_type'] = 'display_data';\n",
              "          await google.colab.output.renderOutput(dataTable, element);\n",
              "          const docLink = document.createElement('div');\n",
              "          docLink.innerHTML = docLinkHtml;\n",
              "          element.appendChild(docLink);\n",
              "        }\n",
              "      </script>\n",
              "    </div>\n",
              "  </div>\n",
              "  "
            ]
          },
          "metadata": {},
          "execution_count": 14
        }
      ],
      "source": [
        "df_train.head(2)"
      ]
    },
    {
      "cell_type": "code",
      "execution_count": 15,
      "metadata": {
        "colab": {
          "base_uri": "https://localhost:8080/",
          "height": 208
        },
        "id": "KhKLOxQFSFKT",
        "outputId": "42c36920-9cec-42b2-8208-7b700bb5f11d"
      },
      "outputs": [
        {
          "output_type": "execute_result",
          "data": {
            "text/plain": [
              "                                      utterance  \\\n",
              "744  show me the airports serviced by tower air   \n",
              "617                          what airline is hp   \n",
              "\n",
              "                                   slot_labels   intent  \\\n",
              "744  O O O O O O B-airline_name I-airline_name  airport   \n",
              "617                       O O O B-airline_code  airline   \n",
              "\n",
              "                               word_labels      intent_label  \\\n",
              "744  O O O O O O B-ndege_jina I-ndege_jina   uwanja_wa_ndege   \n",
              "617               B-ndege_kanuni O O O O O  shirika_la_ndege   \n",
              "\n",
              "                                                 words  \n",
              "744  nionyeshe viwanja vya ndege vinavyohudumiwa na...  \n",
              "617                        hp ni shirika gani la ndege  "
            ],
            "text/html": [
              "\n",
              "  <div id=\"df-f6f10c49-3553-4bf2-99f2-00a48c47fab1\">\n",
              "    <div class=\"colab-df-container\">\n",
              "      <div>\n",
              "<style scoped>\n",
              "    .dataframe tbody tr th:only-of-type {\n",
              "        vertical-align: middle;\n",
              "    }\n",
              "\n",
              "    .dataframe tbody tr th {\n",
              "        vertical-align: top;\n",
              "    }\n",
              "\n",
              "    .dataframe thead th {\n",
              "        text-align: right;\n",
              "    }\n",
              "</style>\n",
              "<table border=\"1\" class=\"dataframe\">\n",
              "  <thead>\n",
              "    <tr style=\"text-align: right;\">\n",
              "      <th></th>\n",
              "      <th>utterance</th>\n",
              "      <th>slot_labels</th>\n",
              "      <th>intent</th>\n",
              "      <th>word_labels</th>\n",
              "      <th>intent_label</th>\n",
              "      <th>words</th>\n",
              "    </tr>\n",
              "  </thead>\n",
              "  <tbody>\n",
              "    <tr>\n",
              "      <th>744</th>\n",
              "      <td>show me the airports serviced by tower air</td>\n",
              "      <td>O O O O O O B-airline_name I-airline_name</td>\n",
              "      <td>airport</td>\n",
              "      <td>O O O O O O B-ndege_jina I-ndege_jina</td>\n",
              "      <td>uwanja_wa_ndege</td>\n",
              "      <td>nionyeshe viwanja vya ndege vinavyohudumiwa na...</td>\n",
              "    </tr>\n",
              "    <tr>\n",
              "      <th>617</th>\n",
              "      <td>what airline is hp</td>\n",
              "      <td>O O O B-airline_code</td>\n",
              "      <td>airline</td>\n",
              "      <td>B-ndege_kanuni O O O O O</td>\n",
              "      <td>shirika_la_ndege</td>\n",
              "      <td>hp ni shirika gani la ndege</td>\n",
              "    </tr>\n",
              "  </tbody>\n",
              "</table>\n",
              "</div>\n",
              "      <button class=\"colab-df-convert\" onclick=\"convertToInteractive('df-f6f10c49-3553-4bf2-99f2-00a48c47fab1')\"\n",
              "              title=\"Convert this dataframe to an interactive table.\"\n",
              "              style=\"display:none;\">\n",
              "        \n",
              "  <svg xmlns=\"http://www.w3.org/2000/svg\" height=\"24px\"viewBox=\"0 0 24 24\"\n",
              "       width=\"24px\">\n",
              "    <path d=\"M0 0h24v24H0V0z\" fill=\"none\"/>\n",
              "    <path d=\"M18.56 5.44l.94 2.06.94-2.06 2.06-.94-2.06-.94-.94-2.06-.94 2.06-2.06.94zm-11 1L8.5 8.5l.94-2.06 2.06-.94-2.06-.94L8.5 2.5l-.94 2.06-2.06.94zm10 10l.94 2.06.94-2.06 2.06-.94-2.06-.94-.94-2.06-.94 2.06-2.06.94z\"/><path d=\"M17.41 7.96l-1.37-1.37c-.4-.4-.92-.59-1.43-.59-.52 0-1.04.2-1.43.59L10.3 9.45l-7.72 7.72c-.78.78-.78 2.05 0 2.83L4 21.41c.39.39.9.59 1.41.59.51 0 1.02-.2 1.41-.59l7.78-7.78 2.81-2.81c.8-.78.8-2.07 0-2.86zM5.41 20L4 18.59l7.72-7.72 1.47 1.35L5.41 20z\"/>\n",
              "  </svg>\n",
              "      </button>\n",
              "      \n",
              "  <style>\n",
              "    .colab-df-container {\n",
              "      display:flex;\n",
              "      flex-wrap:wrap;\n",
              "      gap: 12px;\n",
              "    }\n",
              "\n",
              "    .colab-df-convert {\n",
              "      background-color: #E8F0FE;\n",
              "      border: none;\n",
              "      border-radius: 50%;\n",
              "      cursor: pointer;\n",
              "      display: none;\n",
              "      fill: #1967D2;\n",
              "      height: 32px;\n",
              "      padding: 0 0 0 0;\n",
              "      width: 32px;\n",
              "    }\n",
              "\n",
              "    .colab-df-convert:hover {\n",
              "      background-color: #E2EBFA;\n",
              "      box-shadow: 0px 1px 2px rgba(60, 64, 67, 0.3), 0px 1px 3px 1px rgba(60, 64, 67, 0.15);\n",
              "      fill: #174EA6;\n",
              "    }\n",
              "\n",
              "    [theme=dark] .colab-df-convert {\n",
              "      background-color: #3B4455;\n",
              "      fill: #D2E3FC;\n",
              "    }\n",
              "\n",
              "    [theme=dark] .colab-df-convert:hover {\n",
              "      background-color: #434B5C;\n",
              "      box-shadow: 0px 1px 3px 1px rgba(0, 0, 0, 0.15);\n",
              "      filter: drop-shadow(0px 1px 2px rgba(0, 0, 0, 0.3));\n",
              "      fill: #FFFFFF;\n",
              "    }\n",
              "  </style>\n",
              "\n",
              "      <script>\n",
              "        const buttonEl =\n",
              "          document.querySelector('#df-f6f10c49-3553-4bf2-99f2-00a48c47fab1 button.colab-df-convert');\n",
              "        buttonEl.style.display =\n",
              "          google.colab.kernel.accessAllowed ? 'block' : 'none';\n",
              "\n",
              "        async function convertToInteractive(key) {\n",
              "          const element = document.querySelector('#df-f6f10c49-3553-4bf2-99f2-00a48c47fab1');\n",
              "          const dataTable =\n",
              "            await google.colab.kernel.invokeFunction('convertToInteractive',\n",
              "                                                     [key], {});\n",
              "          if (!dataTable) return;\n",
              "\n",
              "          const docLinkHtml = 'Like what you see? Visit the ' +\n",
              "            '<a target=\"_blank\" href=https://colab.research.google.com/notebooks/data_table.ipynb>data table notebook</a>'\n",
              "            + ' to learn more about interactive tables.';\n",
              "          element.innerHTML = '';\n",
              "          dataTable['output_type'] = 'display_data';\n",
              "          await google.colab.output.renderOutput(dataTable, element);\n",
              "          const docLink = document.createElement('div');\n",
              "          docLink.innerHTML = docLinkHtml;\n",
              "          element.appendChild(docLink);\n",
              "        }\n",
              "      </script>\n",
              "    </div>\n",
              "  </div>\n",
              "  "
            ]
          },
          "metadata": {},
          "execution_count": 15
        }
      ],
      "source": [
        "df_valid.head(2)"
      ]
    },
    {
      "cell_type": "markdown",
      "metadata": {
        "id": "8-RqFpLgqI6u"
      },
      "source": [
        "\n",
        "## A First Model: Intent Classification (Sentence Level)\n",
        "\n",
        "Let's ignore the slot filling task for now and let's try to build a sentence level classifier by fine-tuning a pre-trained Transformer-based model using the `huggingface/transformers` package that provides both TF2/Keras and Pytorch APIs.\n",
        "\n",
        "### The BERT Tokenizer\n",
        "\n",
        "First let's load a pre-trained tokenizer and test it on a test sentence from the training set:"
      ]
    },
    {
      "cell_type": "code",
      "execution_count": 16,
      "metadata": {
        "colab": {
          "base_uri": "https://localhost:8080/",
          "height": 49,
          "referenced_widgets": [
            "ae58c45ae2334c3892fddf0820d284d1",
            "b4da4004e00c4319ad4e98e84a62a927",
            "e149d079a82049c5a824f0c50d02b708",
            "8add4475e669463ca49f679e891a4ca0",
            "f5892d3195c74dd494478d9eb449158f",
            "58d92b9bb3ff4409b32ca4867bcaad2d",
            "06aea1a645df496da27aadbc5006e5f3",
            "6850f79c5ea0403d962b68bd2d554209",
            "6d3e2a905fda481e829e16b67b811b56",
            "2df79093d04c47289a8b06614c57a1c2",
            "bd2059e4fd47433eb900bccb3a5c5034"
          ]
        },
        "id": "8waNlSO-tkkP",
        "outputId": "a905b2fe-e541-45c5-8dd5-44f2e248f178"
      },
      "outputs": [
        {
          "output_type": "display_data",
          "data": {
            "text/plain": [
              "Downloading:   0%|          | 0.00/996k [00:00<?, ?B/s]"
            ],
            "application/vnd.jupyter.widget-view+json": {
              "version_major": 2,
              "version_minor": 0,
              "model_id": "ae58c45ae2334c3892fddf0820d284d1"
            }
          },
          "metadata": {}
        }
      ],
      "source": [
        "from transformers import BertTokenizer\n",
        "model_name = \"bert-base-multilingual-cased\"\n",
        "tokenizer = BertTokenizer.from_pretrained(model_name)"
      ]
    },
    {
      "cell_type": "markdown",
      "metadata": {
        "id": "E2kDm0-tbeXb"
      },
      "source": [
        "#Testing word tokenization using Bert"
      ]
    },
    {
      "cell_type": "code",
      "execution_count": 17,
      "metadata": {
        "colab": {
          "base_uri": "https://localhost:8080/",
          "height": 35
        },
        "id": "kfIeG0rvuywQ",
        "outputId": "16a1a691-916a-4ef9-974e-2763aa2137f2"
      },
      "outputs": [
        {
          "output_type": "execute_result",
          "data": {
            "text/plain": [
              "'us ni shirika gani la ndege'"
            ],
            "application/vnd.google.colaboratory.intrinsic+json": {
              "type": "string"
            }
          },
          "metadata": {},
          "execution_count": 17
        }
      ],
      "source": [
        "first_sentence = df_train.iloc[0][\"words\"]\n",
        "first_sentence"
      ]
    },
    {
      "cell_type": "code",
      "execution_count": 18,
      "metadata": {
        "colab": {
          "base_uri": "https://localhost:8080/"
        },
        "id": "T1NdNH7btohS",
        "outputId": "e22c35bd-f746-41d6-a4ad-0854e5367401"
      },
      "outputs": [
        {
          "output_type": "stream",
          "name": "stdout",
          "text": [
            "['[CLS]', 'us', 'ni', 'shi', '##rika', 'gan', '##i', 'la', 'nde', '##ge', '[SEP]']\n"
          ]
        }
      ],
      "source": [
        "encoding = tokenizer.encode(first_sentence)\n",
        "print(tokenizer.convert_ids_to_tokens(encoding))"
      ]
    },
    {
      "cell_type": "markdown",
      "metadata": {
        "id": "mV0nkrwDvVlc"
      },
      "source": [
        "It can be noticed that BERT uses subword tokens so the length of the tokenized sentence is likely to be larger than the number of words in the sentence.\n"
      ]
    },
    {
      "cell_type": "markdown",
      "metadata": {
        "id": "DXvGt8fAmW6o"
      },
      "source": [
        "Remarks:\n",
        "\n",
        "- The first token `[CLS]` is used by the pre-training task for sequence classification.\n",
        "- The last token `[SEP]` is a separator for the pre-training task that classifiies if a pair of sentences are consecutive in a corpus or not (next sentence prediction)."
      ]
    },
    {
      "cell_type": "markdown",
      "metadata": {
        "id": "wqgWOetUcemB"
      },
      "source": [
        "#Data Preprocessing"
      ]
    },
    {
      "cell_type": "markdown",
      "metadata": {
        "id": "EveW9CTmcjLT"
      },
      "source": [
        "Checking the length of sequences after tokenization, so that we could assign them to equal dummy vectors in the training set"
      ]
    },
    {
      "cell_type": "code",
      "execution_count": 19,
      "metadata": {
        "colab": {
          "base_uri": "https://localhost:8080/",
          "height": 298
        },
        "id": "HDRfHq45uXtE",
        "outputId": "d4fd87fb-3664-490a-f0b9-404e070d3cba"
      },
      "outputs": [
        {
          "output_type": "execute_result",
          "data": {
            "text/plain": [
              "Text(0.5, 1.0, 'max sequence length: 60')"
            ]
          },
          "metadata": {},
          "execution_count": 19
        },
        {
          "output_type": "display_data",
          "data": {
            "text/plain": [
              "<Figure size 432x288 with 1 Axes>"
            ],
            "image/png": "[encoded data removed]"
          },
          "metadata": {
            "needs_background": "light"
          }
        }
      ],
      "source": [
        "train_sequence_lengths = [len(tokenizer.encode(text))\n",
        "                          for text in df_train[\"words\"]]\n",
        "plt.hist(train_sequence_lengths, bins=30)\n",
        "plt.title(f\"max sequence length: {max(train_sequence_lengths)}\")"
      ]
    },
    {
      "cell_type": "markdown",
      "metadata": {
        "id": "e80rCfLZo0ms"
      },
      "source": [
        "[link text](https://)The mapping can be introspected in the `tokenizer.vocab` attribute:"
      ]
    },
    {
      "cell_type": "markdown",
      "metadata": {
        "id": "q399LhkCjCa8"
      },
      "source": [
        "### Encoding the Dataset with the Tokenizer\n",
        "\n",
        "Encoding the full train / valid and test sets with Bert tokenizer to get a padded integer numpy arrays:"
      ]
    },
    {
      "cell_type": "code",
      "execution_count": 20,
      "metadata": {
        "colab": {
          "base_uri": "https://localhost:8080/"
        },
        "id": "KI7fXQKmpQFY",
        "outputId": "6502db6c-8cc4-466a-c092-2340f842d29d"
      },
      "outputs": [
        {
          "output_type": "execute_result",
          "data": {
            "text/plain": [
              "array([[  101, 19626, 10414, ...,     0,     0,     0],\n",
              "       [  101, 11353, 10107, ...,     0,     0,     0],\n",
              "       [  101, 62137, 10213, ...,     0,     0,     0],\n",
              "       ...,\n",
              "       [  101, 16002, 20193, ...,     0,     0,     0],\n",
              "       [  101, 12411, 86267, ...,     0,     0,     0],\n",
              "       [  101, 62137, 10213, ...,     0,     0,     0]], dtype=int32)"
            ]
          },
          "metadata": {},
          "execution_count": 20
        }
      ],
      "source": [
        "import numpy as np\n",
        "\n",
        "def encode_dataset(tokenizer, text_sequences, max_length):\n",
        "    token_ids = np.zeros(shape=(len(text_sequences), max_length),\n",
        "                         dtype=np.int32)\n",
        "    for i, text_sequence in enumerate(text_sequences):\n",
        "        encoded = tokenizer.encode(text_sequence)\n",
        "        token_ids[i, 0:len(encoded)] = encoded\n",
        "    attention_masks = (token_ids != 0).astype(np.int32)\n",
        "    return {\"input_ids\": token_ids, \"attention_masks\": attention_masks}\n",
        "\n",
        "encoded_train = encode_dataset(tokenizer, df_train[\"words\"], 60)\n",
        "encoded_train[\"input_ids\"]"
      ]
    },
    {
      "cell_type": "code",
      "execution_count": 23,
      "metadata": {
        "colab": {
          "base_uri": "https://localhost:8080/"
        },
        "id": "MPZjHqv3rdY-",
        "outputId": "f4ebc109-ed06-40e4-b4b9-973a20af6edd"
      },
      "outputs": [
        {
          "output_type": "execute_result",
          "data": {
            "text/plain": [
              "array([[1, 1, 1, ..., 0, 0, 0],\n",
              "       [1, 1, 1, ..., 0, 0, 0],\n",
              "       [1, 1, 1, ..., 0, 0, 0],\n",
              "       ...,\n",
              "       [1, 1, 1, ..., 0, 0, 0],\n",
              "       [1, 1, 1, ..., 0, 0, 0],\n",
              "       [1, 1, 1, ..., 0, 0, 0]], dtype=int32)"
            ]
          },
          "metadata": {},
          "execution_count": 23
        }
      ],
      "source": [
        "encoded_train[\"attention_masks\"]"
      ]
    },
    {
      "cell_type": "code",
      "execution_count": 24,
      "metadata": {
        "id": "YLiTJg4Sqwuk"
      },
      "outputs": [],
      "source": [
        "encoded_valid = encode_dataset(tokenizer, df_valid[\"words\"], 60)\n",
        "# encoded_test = encode_dataset(tokenizer, df_test[\"words\"], 90)"
      ]
    },
    {
      "cell_type": "markdown",
      "metadata": {
        "id": "xIgGo8ECtvfy"
      },
      "source": [
        "### Encoding the Sequence Classification Targets\n",
        "\n",
        "To do so we build a simple mapping from the auxiliary files:"
      ]
    },
    {
      "cell_type": "code",
      "execution_count": 25,
      "metadata": {
        "id": "cBHehraHRilo"
      },
      "outputs": [],
      "source": [
        "seq_out_tokenizer = Tokenizer(filters='!\"#$%&()*+,/:;<=>?@[\\\\]^`{|}~\\t\\n', oov_token=\"UNK\",lower=False)"
      ]
    },
    {
      "cell_type": "code",
      "execution_count": 26,
      "metadata": {
        "id": "3q3p80CziFlm"
      },
      "outputs": [],
      "source": [
        "##Preprocessing\n",
        "\n",
        "df_train.fillna('O',inplace = True)\n",
        "\n",
        "df_valid.fillna('O',inplace = True)"
      ]
    },
    {
      "cell_type": "code",
      "execution_count": 27,
      "metadata": {
        "id": "m6z1Q9O5aBpQ"
      },
      "outputs": [],
      "source": [
        "seq_out_tokenizer.fit_on_texts(df_train[\"word_labels\"].tolist())"
      ]
    },
    {
      "cell_type": "code",
      "execution_count": 28,
      "metadata": {
        "id": "NZEXJYjaaC4U"
      },
      "outputs": [],
      "source": [
        "seq_out_tokenizer.fit_on_texts(df_valid[\"word_labels\"].tolist())"
      ]
    },
    {
      "cell_type": "code",
      "execution_count": 29,
      "metadata": {
        "colab": {
          "base_uri": "https://localhost:8080/"
        },
        "id": "HMaj59KkSs-k",
        "outputId": "1ea6aa6d-9320-4677-ef22-620fc16e3fc6"
      },
      "outputs": [
        {
          "output_type": "execute_result",
          "data": {
            "text/plain": [
              "140"
            ]
          },
          "metadata": {},
          "execution_count": 29
        }
      ],
      "source": [
        "seq_out_word_to_index = seq_out_tokenizer.word_index\n",
        "len(seq_out_word_to_index)"
      ]
    },
    {
      "cell_type": "code",
      "execution_count": 30,
      "metadata": {
        "colab": {
          "base_uri": "https://localhost:8080/"
        },
        "id": "07ERpux0Sz1H",
        "outputId": "58a187ee-1f86-45aa-be9b-603a192c8573"
      },
      "outputs": [
        {
          "output_type": "execute_result",
          "data": {
            "text/plain": [
              "{'UNK': 1,\n",
              " 'O': 2,\n",
              " 'B-hadi.mji_jina': 3,\n",
              " 'B-kutoka_mji_jina': 4,\n",
              " 'I-hadi.mji_jina': 5,\n",
              " 'B-kuondoka_terehe.siku_jina': 6,\n",
              " 'I-kutoka_mji_jina': 7,\n",
              " 'B-kuondoka_muda.kipindi_cha_siku': 8,\n",
              " 'B-ndege_jina': 9,\n",
              " 'I-safari_ya_kurudi': 10,\n",
              " 'B-kutoka.mji_jina': 11,\n",
              " 'B-hadi_mji_jina': 12,\n",
              " 'I-kufika_muda.muda': 13,\n",
              " 'B-ndege_kanuni': 14,\n",
              " 'I-kuondoka_muda.muda': 15,\n",
              " 'I-ndege_jina': 16,\n",
              " 'B-safari_ya_kurudi': 17,\n",
              " 'B-kuondoka_muda.muda_jamaa': 18,\n",
              " 'B-mji_jina': 19,\n",
              " 'B-kuondoka_muda.muda': 20,\n",
              " 'B-kuondoka_tarehe.siku_jina': 21,\n",
              " 'B-kufika_muda.muda': 22,\n",
              " 'I-ndege_acha': 23,\n",
              " 'B-gharama_jamaa': 24,\n",
              " 'I-hadi_mji_jina': 25,\n",
              " 'I-kategoria_aina': 26,\n",
              " 'I-gharama_jamaa': 27,\n",
              " 'I-kuondoka_terehe.siku_nambari': 28,\n",
              " 'B-chakula_nambari': 29,\n",
              " 'I-kutoka.mji_jina': 30,\n",
              " 'B-ndege_mod': 31,\n",
              " 'I-mji_jina': 32,\n",
              " 'B-ndege_acha': 33,\n",
              " 'B-kategoria_aina': 34,\n",
              " 'B-kufika_muda.muda_jamaa': 35,\n",
              " 'I-uchumi': 36,\n",
              " 'B-kuondoka_terehe.siku_nambari': 37,\n",
              " 'B-kuondoka_terehe.mwezi_jina': 38,\n",
              " 'I-kuondoka_tarehe.siku_nambari': 39,\n",
              " 'B-kuondoka_tarehe.siku_nambari': 40,\n",
              " 'B-msimbo_msingi_wa_nauli': 41,\n",
              " 'B-kuondoka_tarehe.mwezi_jina': 42,\n",
              " 'B-uwanjya_wa_ndege_jina': 43,\n",
              " 'B-kutoka_uwanja_wa_ndege_jina': 44,\n",
              " 'I-ndege_mod': 45,\n",
              " 'I-kuondoka_muda.kipindi_cha_siku': 46,\n",
              " 'B-acha_mji_jina': 47,\n",
              " 'B-ndege_days': 48,\n",
              " 'I-ndege_days': 49,\n",
              " 'B-uchumi': 50,\n",
              " 'B-kuondoka_terehe.tarehe_jamaa': 51,\n",
              " 'B-kufika_tarehe.siku_jina': 52,\n",
              " 'B-uwanjya_wa_ndege_kanuni': 53,\n",
              " 'B-kuondoka_tarehe.tarehe_jamaa': 54,\n",
              " 'B-kufika_muda.kuanza_muda': 55,\n",
              " 'B-kufika_muda.mwisho_muda': 56,\n",
              " 'I-kufika_muda.mwisho_muda': 57,\n",
              " 'B-kufika_muda.kipindi_cha_siku': 58,\n",
              " 'B-ndege_number': 59,\n",
              " 'B-bila_kurudi': 60,\n",
              " 'I-bila_kurudi': 61,\n",
              " 'I-mlo_maelezo': 62,\n",
              " 'B-depart_time.period_mod': 63,\n",
              " 'I-safari_kurudi': 64,\n",
              " 'I-safiri_bila_kurudi': 65,\n",
              " 'I-chakula_nambari_description': 66,\n",
              " 'I-acha_mji_jina': 67,\n",
              " 'B-usafiri_aina': 68,\n",
              " 'B-hadi.jina_la_jimbo': 69,\n",
              " 'I-kutoka_uwanja_wa_ndege_jina': 70,\n",
              " 'B-kutoka_uwanja_wa_ndege_kanuni': 71,\n",
              " 'B-kuunganisha': 72,\n",
              " 'I-uwanjya_wa_ndege_jina': 73,\n",
              " 'B-kuondoka_terehe.leo_jamaa': 74,\n",
              " 'B-hadi_uwanja_wa_ndege_kanuni': 75,\n",
              " 'B-kizuizi_kanuni': 76,\n",
              " 'B-hadi_uwanja_wa_ndege_jina': 77,\n",
              " 'B-chakula_nambari_description': 78,\n",
              " 'B-mlo_maelezo': 79,\n",
              " 'B-kipicha_cha_siku': 80,\n",
              " 'I-kizuizi_kanuni': 81,\n",
              " 'B-kufika_tarehe.siku_nambari': 82,\n",
              " 'B-safari_kurudi': 83,\n",
              " 'B-ndege_hali': 84,\n",
              " 'B-safiri_bila_kurudi': 85,\n",
              " 'B-kuondoka_terehe.mwaka': 86,\n",
              " 'B-au': 87,\n",
              " 'I-usafiri_aina': 88,\n",
              " 'B-kuondoka_saa.wakati_jamaa': 89,\n",
              " 'B-kuondoka_wakati.wakati': 90,\n",
              " 'I-kuondoka_wakati.wakati': 91,\n",
              " 'I-kufika_muda.kuanza_muda': 92,\n",
              " 'B-kurudi_tarehe.siku_jina': 93,\n",
              " 'B-kurudi_tarehe.siku_jamaa': 94,\n",
              " 'B-acha.mji_jina': 95,\n",
              " 'I-kipicha_cha_siku': 96,\n",
              " 'I-hadi_uwanja_wa_ndege_jina': 97,\n",
              " 'B-kufika_terehe.mwezi_jina': 98,\n",
              " 'B-ndege_nambari': 99,\n",
              " 'I-ndege_hali': 100,\n",
              " 'B-kuondoka_tarehe.leo_jamaa': 101,\n",
              " 'B-kutoka.jina_la_jimbo': 102,\n",
              " 'B-nauli_kiasi': 103,\n",
              " 'I-nauli_kiasi': 104,\n",
              " 'B-kuondoka_muda.kuanza_muda': 105,\n",
              " 'B-kuondoka_muda.mwisho_muda': 106,\n",
              " 'B-kuondoka.wakati_jamaa': 107,\n",
              " 'I-darasa_aina': 108,\n",
              " 'B-siku_kanuni': 109,\n",
              " 'B-kupitia.mji_jina': 110,\n",
              " 'B-kuondoka.jina_la_jimbo': 111,\n",
              " 'I-kufika_muda.muda_jamaa': 112,\n",
              " 'I-kuunganisha': 113,\n",
              " 'B-siku_jina': 114,\n",
              " 'B-kufika_muda.mwisho_muda.kipindi_cha_siku': 115,\n",
              " 'B-kufika_tarehe.tarehe_jamaa': 116,\n",
              " 'B-mapumziko': 117,\n",
              " 'B-kuodoka_tarehe.leo_jamaa': 118,\n",
              " 'B-kuweka_nafasi_aina': 119,\n",
              " 'I-acha.mji_jina': 120,\n",
              " 'I-kuondoka_muda.mwisho_muda': 121,\n",
              " 'I-B-kuondoka_tarehe.siku_jina': 122,\n",
              " 'B-bila_kukoma': 123,\n",
              " 'I-bila_kukoma': 124,\n",
              " 'B-hadi.jimbo_jina': 125,\n",
              " 'B-kufika_tarehe.mwezi_jina': 126,\n",
              " 'B-kutoka_mji_kanuni': 127,\n",
              " 'B-kuondoka_terehe.kesho': 128,\n",
              " 'B-darasa_aina': 129,\n",
              " 'I-kupitia.mji_jina': 130,\n",
              " 'B-kurudi_tarehe.tarehe_jamaa': 131,\n",
              " 'I-kurudi_tarehe.tarehe_jamaa': 132,\n",
              " 'B-uwanja_wa_ndege_jina': 133,\n",
              " 'B-acha_uwanja_wa_ndege_kanuni': 134,\n",
              " 'I-kurudi_tarehe.siku_jamaa': 135,\n",
              " 'B-kuondoka.mji_jina': 136,\n",
              " 'I-kuondoka.mji_jina': 137,\n",
              " 'B-kutoka_muda.kipindi_cha_siku': 138,\n",
              " 'B-bila_kikomo': 139,\n",
              " 'I-bila_kikomo': 140}"
            ]
          },
          "metadata": {},
          "execution_count": 30
        }
      ],
      "source": [
        "seq_out_word_to_index"
      ]
    },
    {
      "cell_type": "code",
      "execution_count": 31,
      "metadata": {
        "colab": {
          "base_uri": "https://localhost:8080/"
        },
        "id": "xqcSXpgOwcbX",
        "outputId": "6f5424d9-81cc-415c-c6f3-e0f04847238c"
      },
      "outputs": [
        {
          "output_type": "execute_result",
          "data": {
            "text/plain": [
              "{'ndege#atis_nauli_ya_ndege': 0,\n",
              " 'huduma_ya_ardhini': 1,\n",
              " 'ndege_nambari': 2,\n",
              " 'kiasi': 3,\n",
              " 'ufupisho': 4,\n",
              " 'umbali': 5,\n",
              " 'nauli_ya_ardhini': 6,\n",
              " 'Ndege': 7,\n",
              " 'siku_jina': 8,\n",
              " 'ndege': 9,\n",
              " 'mji': 10,\n",
              " 'uwezo': 11,\n",
              " 'shirika_la_ndege': 12,\n",
              " 'nauli_ya_ndege#atis_ndege': 13,\n",
              " 'nauli_ya_ndege': 14,\n",
              " 'uwanja_wa_ndege': 15,\n",
              " 'mlo': 16}"
            ]
          },
          "metadata": {},
          "execution_count": 31
        }
      ],
      "source": [
        "intent_names = set(df_train.intent_label)\n",
        "intent_map = dict((label, idx) for idx, label in enumerate(intent_names))\n",
        "intent_map"
      ]
    },
    {
      "cell_type": "code",
      "execution_count": 32,
      "metadata": {
        "id": "wFjLpaFxxQk6"
      },
      "outputs": [],
      "source": [
        "intent_train = df_train[\"intent_label\"].map(intent_map).values"
      ]
    },
    {
      "cell_type": "code",
      "execution_count": 33,
      "metadata": {
        "id": "aRbvVXuPndoN"
      },
      "outputs": [],
      "source": [
        "intent_valid = df_valid[\"intent_label\"].map(intent_map).values"
      ]
    },
    {
      "cell_type": "markdown",
      "metadata": {
        "id": "b5TuDZR26jwq"
      },
      "source": [
        "### Loading and Feeding a Pretrained BERT model\n",
        "\n",
        "Loading a pretrained BERT Large model using the [huggingface transformers](https://github.com/huggingface/transformers) package:"
      ]
    },
    {
      "cell_type": "code",
      "execution_count": 34,
      "metadata": {
        "colab": {
          "base_uri": "https://localhost:8080/",
          "height": 272,
          "referenced_widgets": [
            "d598a42566124a47b0008a0fffc567af",
            "3c87b230721741b2b10a859d7592e2f2",
            "5fd736e291054990a0f6acf1f298dec9",
            "a3c063f36b41417c908325803afbf15f",
            "2dc9d5e7f9c848d99245423dc8727a6d",
            "3a3a7bb163344769bf97188bcf54acad",
            "b182db4106b5498cab0c122a116c0606",
            "18a74418db1c47f9942e2c6946f08887",
            "a8e4d6ac18c9400aa808eb591e9d71d2",
            "977816fded1e49149542da046f09e8da",
            "c412912a9d6440a0b05cd15cab3a1b16",
            "50be28c1643f4691a10e2986078aa116",
            "cf57646f679349d59c225a2deadcb18c",
            "a750fc4d4e584997a7aea79d7807c3df",
            "e1b1420b68884f959c7be643af164298",
            "d35614cd8e0c4a3091f5bed21d332d5a",
            "415a5c519fae4f298c8d412434328ace",
            "c845a04e628c44d8bd633fbc31314a59",
            "0436ea18f33846a0ba319f92e05db598",
            "8fdce8287d464aca9d878b87d15d2916",
            "27f86b0990624afcb5383dcbc57ee4fa",
            "67c52b01765b486fb5e45c6d301aa23e"
          ]
        },
        "id": "73ZrDDm-0wYS",
        "outputId": "e844594f-5ef5-403e-b641-ca0e54c6683b"
      },
      "outputs": [
        {
          "output_type": "display_data",
          "data": {
            "text/plain": [
              "Downloading:   0%|          | 0.00/625 [00:00<?, ?B/s]"
            ],
            "application/vnd.jupyter.widget-view+json": {
              "version_major": 2,
              "version_minor": 0,
              "model_id": "d598a42566124a47b0008a0fffc567af"
            }
          },
          "metadata": {}
        },
        {
          "output_type": "display_data",
          "data": {
            "text/plain": [
              "Downloading:   0%|          | 0.00/1.08G [00:00<?, ?B/s]"
            ],
            "application/vnd.jupyter.widget-view+json": {
              "version_major": 2,
              "version_minor": 0,
              "model_id": "50be28c1643f4691a10e2986078aa116"
            }
          },
          "metadata": {}
        },
        {
          "output_type": "stream",
          "name": "stdout",
          "text": [
            "Model: \"tf_bert_model\"\n",
            "_________________________________________________________________\n",
            " Layer (type)                Output Shape              Param #   \n",
            "=================================================================\n",
            " bert (TFBertMainLayer)      multiple                  177853440 \n",
            "                                                                 \n",
            "=================================================================\n",
            "Total params: 177,853,440\n",
            "Trainable params: 177,853,440\n",
            "Non-trainable params: 0\n",
            "_________________________________________________________________\n"
          ]
        }
      ],
      "source": [
        "from transformers import TFAutoModel\n",
        "\n",
        "large_bert_model = TFAutoModel.from_pretrained(\"bert-base-multilingual-cased\")\n",
        "large_bert_model.summary()"
      ]
    },
    {
      "cell_type": "code",
      "execution_count": 35,
      "metadata": {
        "colab": {
          "base_uri": "https://localhost:8080/"
        },
        "id": "TwgRCE2h6QUT",
        "outputId": "74f4d86a-6746-46dc-baa6-65e65ac5e020"
      },
      "outputs": [
        {
          "output_type": "execute_result",
          "data": {
            "text/plain": [
              "{'input_ids': array([[  101, 10414, 16131, ...,     0,     0,     0],\n",
              "        [  101, 30171, 10414, ...,     0,     0,     0],\n",
              "        [  101, 10414, 23105, ...,     0,     0,     0],\n",
              "        ...,\n",
              "        [  101, 11057, 13369, ...,     0,     0,     0],\n",
              "        [  101, 16002, 20193, ...,     0,     0,     0],\n",
              "        [  101, 10414, 23105, ...,     0,     0,     0]], dtype=int32),\n",
              " 'attention_masks': array([[1, 1, 1, ..., 0, 0, 0],\n",
              "        [1, 1, 1, ..., 0, 0, 0],\n",
              "        [1, 1, 1, ..., 0, 0, 0],\n",
              "        ...,\n",
              "        [1, 1, 1, ..., 0, 0, 0],\n",
              "        [1, 1, 1, ..., 0, 0, 0],\n",
              "        [1, 1, 1, ..., 0, 0, 0]], dtype=int32)}"
            ]
          },
          "metadata": {},
          "execution_count": 35
        }
      ],
      "source": [
        "encoded_valid"
      ]
    },
    {
      "cell_type": "code",
      "execution_count": 36,
      "metadata": {
        "colab": {
          "base_uri": "https://localhost:8080/"
        },
        "id": "htMv_pQt5aYl",
        "outputId": "44c12f93-2466-4837-d11b-9f9cc5728517"
      },
      "outputs": [
        {
          "output_type": "execute_result",
          "data": {
            "text/plain": [
              "2"
            ]
          },
          "metadata": {},
          "execution_count": 36
        }
      ],
      "source": [
        "outputs = large_bert_model(encoded_valid)\n",
        "len(outputs)"
      ]
    },
    {
      "cell_type": "markdown",
      "metadata": {
        "id": "pkwN4INi8eSh"
      },
      "source": [
        "The **first ouput** of the BERT model is a tensor with shape: `(batch_size, seq_len, output_dim)` which computes **features for each token in the input sequence**:"
      ]
    },
    {
      "cell_type": "code",
      "execution_count": 37,
      "metadata": {
        "colab": {
          "base_uri": "https://localhost:8080/"
        },
        "id": "0PoQyA_A7CS4",
        "outputId": "81c33b25-09af-4bfe-b1ce-707a19cacb37"
      },
      "outputs": [
        {
          "output_type": "execute_result",
          "data": {
            "text/plain": [
              "TensorShape([179, 60, 768])"
            ]
          },
          "metadata": {},
          "execution_count": 37
        }
      ],
      "source": [
        "outputs[0].shape"
      ]
    },
    {
      "cell_type": "markdown",
      "metadata": {
        "id": "kxjU9Wpi8vyM"
      },
      "source": [
        "The **second output** of the BERT model is a tensor with shape `(batch_size, output_dim)` which is the vector representation of the special token `[CLS]`. This vector is typically used as a **pooled representation for the sequence as a whole**."
      ]
    },
    {
      "cell_type": "code",
      "execution_count": 38,
      "metadata": {
        "colab": {
          "base_uri": "https://localhost:8080/"
        },
        "id": "gbg9Yd6MTlQQ",
        "outputId": "798e91c8-2392-463a-afb4-cbd69eb07acb"
      },
      "outputs": [
        {
          "output_type": "execute_result",
          "data": {
            "text/plain": [
              "TensorShape([179, 768])"
            ]
          },
          "metadata": {},
          "execution_count": 38
        }
      ],
      "source": [
        "outputs[1].shape"
      ]
    },
    {
      "cell_type": "markdown",
      "metadata": {
        "id": "PoTr6Et0hoKm"
      },
      "source": [
        "#Mapping slots to the corresponding indexes"
      ]
    },
    {
      "cell_type": "code",
      "execution_count": 39,
      "metadata": {
        "colab": {
          "base_uri": "https://localhost:8080/"
        },
        "id": "PgYp8XkWMkpx",
        "outputId": "d5183cc5-cfbe-420a-f9af-aa3491f5fdfd"
      },
      "outputs": [
        {
          "output_type": "execute_result",
          "data": {
            "text/plain": [
              "['[PAD]',\n",
              " 'O',\n",
              " 'B-hadi.mji_jina',\n",
              " 'B-kutoka_mji_jina',\n",
              " 'I-hadi.mji_jina',\n",
              " 'B-kuondoka_terehe.siku_jina',\n",
              " 'I-kutoka_mji_jina',\n",
              " 'B-kuondoka_muda.kipindi_cha_siku',\n",
              " 'B-ndege_jina',\n",
              " 'I-safari_ya_kurudi',\n",
              " 'B-kutoka.mji_jina',\n",
              " 'B-hadi_mji_jina',\n",
              " 'I-kufika_muda.muda',\n",
              " 'B-ndege_kanuni',\n",
              " 'I-kuondoka_muda.muda',\n",
              " 'I-ndege_jina',\n",
              " 'B-safari_ya_kurudi',\n",
              " 'B-kuondoka_muda.muda_jamaa',\n",
              " 'B-mji_jina',\n",
              " 'B-kuondoka_muda.muda',\n",
              " 'B-kuondoka_tarehe.siku_jina',\n",
              " 'B-kufika_muda.muda',\n",
              " 'I-ndege_acha',\n",
              " 'B-gharama_jamaa',\n",
              " 'I-hadi_mji_jina',\n",
              " 'I-kategoria_aina',\n",
              " 'I-gharama_jamaa',\n",
              " 'I-kuondoka_terehe.siku_nambari',\n",
              " 'B-chakula_nambari',\n",
              " 'I-kutoka.mji_jina',\n",
              " 'B-ndege_mod',\n",
              " 'I-mji_jina',\n",
              " 'B-ndege_acha',\n",
              " 'B-kategoria_aina',\n",
              " 'B-kufika_muda.muda_jamaa',\n",
              " 'I-uchumi',\n",
              " 'B-kuondoka_terehe.siku_nambari',\n",
              " 'B-kuondoka_terehe.mwezi_jina',\n",
              " 'I-kuondoka_tarehe.siku_nambari',\n",
              " 'B-kuondoka_tarehe.siku_nambari',\n",
              " 'B-msimbo_msingi_wa_nauli',\n",
              " 'B-kuondoka_tarehe.mwezi_jina',\n",
              " 'B-uwanjya_wa_ndege_jina',\n",
              " 'B-kutoka_uwanja_wa_ndege_jina',\n",
              " 'I-ndege_mod',\n",
              " 'I-kuondoka_muda.kipindi_cha_siku',\n",
              " 'B-acha_mji_jina',\n",
              " 'B-ndege_days',\n",
              " 'I-ndege_days',\n",
              " 'B-uchumi',\n",
              " 'B-kuondoka_terehe.tarehe_jamaa',\n",
              " 'B-kufika_tarehe.siku_jina',\n",
              " 'B-uwanjya_wa_ndege_kanuni',\n",
              " 'B-kuondoka_tarehe.tarehe_jamaa',\n",
              " 'B-kufika_muda.kuanza_muda',\n",
              " 'B-kufika_muda.mwisho_muda',\n",
              " 'I-kufika_muda.mwisho_muda',\n",
              " 'B-kufika_muda.kipindi_cha_siku',\n",
              " 'B-ndege_number',\n",
              " 'B-bila_kurudi',\n",
              " 'I-bila_kurudi',\n",
              " 'I-mlo_maelezo',\n",
              " 'B-depart_time.period_mod',\n",
              " 'I-safari_kurudi',\n",
              " 'I-safiri_bila_kurudi',\n",
              " 'I-chakula_nambari_description',\n",
              " 'I-acha_mji_jina',\n",
              " 'B-usafiri_aina',\n",
              " 'B-hadi.jina_la_jimbo',\n",
              " 'I-kutoka_uwanja_wa_ndege_jina',\n",
              " 'B-kutoka_uwanja_wa_ndege_kanuni',\n",
              " 'B-kuunganisha',\n",
              " 'I-uwanjya_wa_ndege_jina',\n",
              " 'B-kuondoka_terehe.leo_jamaa',\n",
              " 'B-hadi_uwanja_wa_ndege_kanuni',\n",
              " 'B-kizuizi_kanuni',\n",
              " 'B-hadi_uwanja_wa_ndege_jina',\n",
              " 'B-chakula_nambari_description',\n",
              " 'B-mlo_maelezo',\n",
              " 'B-kipicha_cha_siku',\n",
              " 'I-kizuizi_kanuni',\n",
              " 'B-kufika_tarehe.siku_nambari',\n",
              " 'B-safari_kurudi',\n",
              " 'B-ndege_hali',\n",
              " 'B-safiri_bila_kurudi',\n",
              " 'B-kuondoka_terehe.mwaka',\n",
              " 'B-au',\n",
              " 'I-usafiri_aina',\n",
              " 'B-kuondoka_saa.wakati_jamaa',\n",
              " 'B-kuondoka_wakati.wakati',\n",
              " 'I-kuondoka_wakati.wakati',\n",
              " 'I-kufika_muda.kuanza_muda',\n",
              " 'B-kurudi_tarehe.siku_jina',\n",
              " 'B-kurudi_tarehe.siku_jamaa',\n",
              " 'B-acha.mji_jina',\n",
              " 'I-kipicha_cha_siku',\n",
              " 'I-hadi_uwanja_wa_ndege_jina',\n",
              " 'B-kufika_terehe.mwezi_jina',\n",
              " 'B-ndege_nambari',\n",
              " 'I-ndege_hali',\n",
              " 'B-kuondoka_tarehe.leo_jamaa',\n",
              " 'B-kutoka.jina_la_jimbo',\n",
              " 'B-nauli_kiasi',\n",
              " 'I-nauli_kiasi',\n",
              " 'B-kuondoka_muda.kuanza_muda',\n",
              " 'B-kuondoka_muda.mwisho_muda',\n",
              " 'B-kuondoka.wakati_jamaa',\n",
              " 'I-darasa_aina',\n",
              " 'B-siku_kanuni',\n",
              " 'B-kupitia.mji_jina',\n",
              " 'B-kuondoka.jina_la_jimbo',\n",
              " 'I-kufika_muda.muda_jamaa',\n",
              " 'I-kuunganisha',\n",
              " 'B-siku_jina',\n",
              " 'B-kufika_muda.mwisho_muda.kipindi_cha_siku',\n",
              " 'B-kufika_tarehe.tarehe_jamaa',\n",
              " 'B-mapumziko',\n",
              " 'B-kuodoka_tarehe.leo_jamaa',\n",
              " 'B-kuweka_nafasi_aina',\n",
              " 'I-acha.mji_jina',\n",
              " 'I-kuondoka_muda.mwisho_muda',\n",
              " 'I-B-kuondoka_tarehe.siku_jina',\n",
              " 'B-bila_kukoma',\n",
              " 'I-bila_kukoma',\n",
              " 'B-hadi.jimbo_jina',\n",
              " 'B-kufika_tarehe.mwezi_jina',\n",
              " 'B-kutoka_mji_kanuni',\n",
              " 'B-kuondoka_terehe.kesho',\n",
              " 'B-darasa_aina',\n",
              " 'I-kupitia.mji_jina',\n",
              " 'B-kurudi_tarehe.tarehe_jamaa',\n",
              " 'I-kurudi_tarehe.tarehe_jamaa',\n",
              " 'B-uwanja_wa_ndege_jina',\n",
              " 'B-acha_uwanja_wa_ndege_kanuni',\n",
              " 'I-kurudi_tarehe.siku_jamaa',\n",
              " 'B-kuondoka.mji_jina',\n",
              " 'I-kuondoka.mji_jina',\n",
              " 'B-kutoka_muda.kipindi_cha_siku',\n",
              " 'B-bila_kikomo',\n",
              " 'I-bila_kikomo']"
            ]
          },
          "metadata": {},
          "execution_count": 39
        }
      ],
      "source": [
        "slot_names = [\"[PAD]\"]\n",
        "slot_names += list(seq_out_word_to_index.keys())[1:]\n",
        "slot_names"
      ]
    },
    {
      "cell_type": "code",
      "execution_count": 49,
      "metadata": {
        "colab": {
          "base_uri": "https://localhost:8080/"
        },
        "id": "FngyzONckFR_",
        "outputId": "eb69dd36-21c5-4572-c767-ea8c5291988a"
      },
      "outputs": [
        {
          "output_type": "execute_result",
          "data": {
            "text/plain": [
              "{'[PAD]': 0,\n",
              " 'O': 1,\n",
              " 'B-hadi.mji_jina': 2,\n",
              " 'B-kutoka_mji_jina': 3,\n",
              " 'I-hadi.mji_jina': 4,\n",
              " 'B-kuondoka_terehe.siku_jina': 5,\n",
              " 'I-kutoka_mji_jina': 6,\n",
              " 'B-kuondoka_muda.kipindi_cha_siku': 7,\n",
              " 'B-ndege_jina': 8,\n",
              " 'I-safari_ya_kurudi': 9,\n",
              " 'B-kutoka.mji_jina': 10,\n",
              " 'B-hadi_mji_jina': 11,\n",
              " 'I-kufika_muda.muda': 12,\n",
              " 'B-ndege_kanuni': 13,\n",
              " 'I-kuondoka_muda.muda': 14,\n",
              " 'I-ndege_jina': 15,\n",
              " 'B-safari_ya_kurudi': 16,\n",
              " 'B-kuondoka_muda.muda_jamaa': 17,\n",
              " 'B-mji_jina': 18,\n",
              " 'B-kuondoka_muda.muda': 19,\n",
              " 'B-kuondoka_tarehe.siku_jina': 20,\n",
              " 'B-kufika_muda.muda': 21,\n",
              " 'I-ndege_acha': 22,\n",
              " 'B-gharama_jamaa': 23,\n",
              " 'I-hadi_mji_jina': 24,\n",
              " 'I-kategoria_aina': 25,\n",
              " 'I-gharama_jamaa': 26,\n",
              " 'I-kuondoka_terehe.siku_nambari': 27,\n",
              " 'B-chakula_nambari': 28,\n",
              " 'I-kutoka.mji_jina': 29,\n",
              " 'B-ndege_mod': 30,\n",
              " 'I-mji_jina': 31,\n",
              " 'B-ndege_acha': 32,\n",
              " 'B-kategoria_aina': 33,\n",
              " 'B-kufika_muda.muda_jamaa': 34,\n",
              " 'I-uchumi': 35,\n",
              " 'B-kuondoka_terehe.siku_nambari': 36,\n",
              " 'B-kuondoka_terehe.mwezi_jina': 37,\n",
              " 'I-kuondoka_tarehe.siku_nambari': 38,\n",
              " 'B-kuondoka_tarehe.siku_nambari': 39,\n",
              " 'B-msimbo_msingi_wa_nauli': 40,\n",
              " 'B-kuondoka_tarehe.mwezi_jina': 41,\n",
              " 'B-uwanjya_wa_ndege_jina': 42,\n",
              " 'B-kutoka_uwanja_wa_ndege_jina': 43,\n",
              " 'I-ndege_mod': 44,\n",
              " 'I-kuondoka_muda.kipindi_cha_siku': 45,\n",
              " 'B-acha_mji_jina': 46,\n",
              " 'B-ndege_days': 47,\n",
              " 'I-ndege_days': 48,\n",
              " 'B-uchumi': 49,\n",
              " 'B-kuondoka_terehe.tarehe_jamaa': 50,\n",
              " 'B-kufika_tarehe.siku_jina': 51,\n",
              " 'B-uwanjya_wa_ndege_kanuni': 52,\n",
              " 'B-kuondoka_tarehe.tarehe_jamaa': 53,\n",
              " 'B-kufika_muda.kuanza_muda': 54,\n",
              " 'B-kufika_muda.mwisho_muda': 55,\n",
              " 'I-kufika_muda.mwisho_muda': 56,\n",
              " 'B-kufika_muda.kipindi_cha_siku': 57,\n",
              " 'B-ndege_number': 58,\n",
              " 'B-bila_kurudi': 59,\n",
              " 'I-bila_kurudi': 60,\n",
              " 'I-mlo_maelezo': 61,\n",
              " 'B-depart_time.period_mod': 62,\n",
              " 'I-safari_kurudi': 63,\n",
              " 'I-safiri_bila_kurudi': 64,\n",
              " 'I-chakula_nambari_description': 65,\n",
              " 'I-acha_mji_jina': 66,\n",
              " 'B-usafiri_aina': 67,\n",
              " 'B-hadi.jina_la_jimbo': 68,\n",
              " 'I-kutoka_uwanja_wa_ndege_jina': 69,\n",
              " 'B-kutoka_uwanja_wa_ndege_kanuni': 70,\n",
              " 'B-kuunganisha': 71,\n",
              " 'I-uwanjya_wa_ndege_jina': 72,\n",
              " 'B-kuondoka_terehe.leo_jamaa': 73,\n",
              " 'B-hadi_uwanja_wa_ndege_kanuni': 74,\n",
              " 'B-kizuizi_kanuni': 75,\n",
              " 'B-hadi_uwanja_wa_ndege_jina': 76,\n",
              " 'B-chakula_nambari_description': 77,\n",
              " 'B-mlo_maelezo': 78,\n",
              " 'B-kipicha_cha_siku': 79,\n",
              " 'I-kizuizi_kanuni': 80,\n",
              " 'B-kufika_tarehe.siku_nambari': 81,\n",
              " 'B-safari_kurudi': 82,\n",
              " 'B-ndege_hali': 83,\n",
              " 'B-safiri_bila_kurudi': 84,\n",
              " 'B-kuondoka_terehe.mwaka': 85,\n",
              " 'B-au': 86,\n",
              " 'I-usafiri_aina': 87,\n",
              " 'B-kuondoka_saa.wakati_jamaa': 88,\n",
              " 'B-kuondoka_wakati.wakati': 89,\n",
              " 'I-kuondoka_wakati.wakati': 90,\n",
              " 'I-kufika_muda.kuanza_muda': 91,\n",
              " 'B-kurudi_tarehe.siku_jina': 92,\n",
              " 'B-kurudi_tarehe.siku_jamaa': 93,\n",
              " 'B-acha.mji_jina': 94,\n",
              " 'I-kipicha_cha_siku': 95,\n",
              " 'I-hadi_uwanja_wa_ndege_jina': 96,\n",
              " 'B-kufika_terehe.mwezi_jina': 97,\n",
              " 'B-ndege_nambari': 98,\n",
              " 'I-ndege_hali': 99,\n",
              " 'B-kuondoka_tarehe.leo_jamaa': 100,\n",
              " 'B-kutoka.jina_la_jimbo': 101,\n",
              " 'B-nauli_kiasi': 102,\n",
              " 'I-nauli_kiasi': 103,\n",
              " 'B-kuondoka_muda.kuanza_muda': 104,\n",
              " 'B-kuondoka_muda.mwisho_muda': 105,\n",
              " 'B-kuondoka.wakati_jamaa': 106,\n",
              " 'I-darasa_aina': 107,\n",
              " 'B-siku_kanuni': 108,\n",
              " 'B-kupitia.mji_jina': 109,\n",
              " 'B-kuondoka.jina_la_jimbo': 110,\n",
              " 'I-kufika_muda.muda_jamaa': 111,\n",
              " 'I-kuunganisha': 112,\n",
              " 'B-siku_jina': 113,\n",
              " 'B-kufika_muda.mwisho_muda.kipindi_cha_siku': 114,\n",
              " 'B-kufika_tarehe.tarehe_jamaa': 115,\n",
              " 'B-mapumziko': 116,\n",
              " 'B-kuodoka_tarehe.leo_jamaa': 117,\n",
              " 'B-kuweka_nafasi_aina': 118,\n",
              " 'I-acha.mji_jina': 119,\n",
              " 'I-kuondoka_muda.mwisho_muda': 120,\n",
              " 'I-B-kuondoka_tarehe.siku_jina': 121,\n",
              " 'B-bila_kukoma': 122,\n",
              " 'I-bila_kukoma': 123,\n",
              " 'B-hadi.jimbo_jina': 124,\n",
              " 'B-kufika_tarehe.mwezi_jina': 125,\n",
              " 'B-kutoka_mji_kanuni': 126,\n",
              " 'B-kuondoka_terehe.kesho': 127,\n",
              " 'B-darasa_aina': 128,\n",
              " 'I-kupitia.mji_jina': 129,\n",
              " 'B-kurudi_tarehe.tarehe_jamaa': 130,\n",
              " 'I-kurudi_tarehe.tarehe_jamaa': 131,\n",
              " 'B-uwanja_wa_ndege_jina': 132,\n",
              " 'B-acha_uwanja_wa_ndege_kanuni': 133,\n",
              " 'I-kurudi_tarehe.siku_jamaa': 134,\n",
              " 'B-kuondoka.mji_jina': 135,\n",
              " 'I-kuondoka.mji_jina': 136,\n",
              " 'B-kutoka_muda.kipindi_cha_siku': 137,\n",
              " 'B-bila_kikomo': 138,\n",
              " 'I-bila_kikomo': 139}"
            ]
          },
          "metadata": {},
          "execution_count": 49
        }
      ],
      "source": [
        "slot_map = {}\n",
        "for label in slot_names:\n",
        "    slot_map[label] = len(slot_map)\n",
        "slot_map"
      ]
    },
    {
      "cell_type": "markdown",
      "metadata": {
        "id": "v8CX6LxYmhRh"
      },
      "source": [
        "The following function generates token-aligned integer labels from the BIO word-level annotations. In particular, if a specific word is too long to be represented as a single token, we expand its label for all the tokens of that word while taking care of using \"B-\" labels only for the first token and then use \"I-\" for the matching slot type for subsequent tokens of the same word:"
      ]
    },
    {
      "cell_type": "code",
      "execution_count": 50,
      "metadata": {
        "id": "6LLkBWFJM6tr"
      },
      "outputs": [],
      "source": [
        "def encode_token_labels(text_sequences, slot_names, tokenizer, slot_map,max_length):\n",
        "  \n",
        "    encoded = np.zeros(shape=(len(text_sequences), max_length), dtype=np.int32)\n",
        "    for i, (text_sequence, word_labels) in enumerate(\n",
        "            zip(text_sequences, slot_names)):\n",
        "        encoded_labels = []\n",
        "        for word, word_label in zip(text_sequence.split(), word_labels.split()):\n",
        "            tokens = tokenizer.tokenize(word)\n",
        "            encoded_labels.append(slot_map[word_label])\n",
        "            expand_label = word_label.replace(\"B-\", \"I-\")\n",
        "            if not expand_label in slot_map:\n",
        "                expand_label = word_label\n",
        "            encoded_labels.extend([slot_map[expand_label]] * (len(tokens) - 1))\n",
        "        encoded[i, 1:len(encoded_labels) + 1] = encoded_labels\n",
        "    return encoded\n",
        "\n",
        "slot_train = encode_token_labels(\n",
        "    df_train[\"words\"], df_train[\"word_labels\"], tokenizer, slot_map, 60)\n",
        "slot_valid = encode_token_labels(\n",
        "    df_valid[\"words\"], df_valid[\"word_labels\"], tokenizer, slot_map, 60)\n",
        "# slot_test = encode_token_labels(\n",
        "#     df_test[\"words\"], df_test[\"word_labels\"], tokenizer, slot_map, 90)"
      ]
    },
    {
      "cell_type": "code",
      "execution_count": 51,
      "metadata": {
        "colab": {
          "base_uri": "https://localhost:8080/"
        },
        "id": "z1agpFmmA4fJ",
        "outputId": "ac9e1311-a939-4566-e555-56cfb15710b9"
      },
      "outputs": [
        {
          "output_type": "execute_result",
          "data": {
            "text/plain": [
              "array([ 0, 13,  1,  1,  1,  1,  1,  1,  1,  1,  0,  0,  0,  0,  0,  0,  0,\n",
              "        0,  0,  0,  0,  0,  0,  0,  0,  0,  0,  0,  0,  0,  0,  0,  0,  0,\n",
              "        0,  0,  0,  0,  0,  0,  0,  0,  0,  0,  0,  0,  0,  0,  0,  0,  0,\n",
              "        0,  0,  0,  0,  0,  0,  0,  0,  0], dtype=int32)"
            ]
          },
          "metadata": {},
          "execution_count": 51
        }
      ],
      "source": [
        "########################\n",
        "######### Debbuging proccess\n",
        "\n",
        "slot_train[0]"
      ]
    },
    {
      "cell_type": "code",
      "execution_count": 52,
      "metadata": {
        "colab": {
          "base_uri": "https://localhost:8080/"
        },
        "id": "aqjvB3jXCnfP",
        "outputId": "1f6b7648-4d49-4fa6-80c5-8d2517cbb070"
      },
      "outputs": [
        {
          "output_type": "execute_result",
          "data": {
            "text/plain": [
              "array([ 0,  1,  1,  1,  1,  1,  1,  1,  1,  1,  1,  1,  1,  1,  1,  1,  1,\n",
              "        1,  8, 15,  0,  0,  0,  0,  0,  0,  0,  0,  0,  0,  0,  0,  0,  0,\n",
              "        0,  0,  0,  0,  0,  0,  0,  0,  0,  0,  0,  0,  0,  0,  0,  0,  0,\n",
              "        0,  0,  0,  0,  0,  0,  0,  0,  0], dtype=int32)"
            ]
          },
          "metadata": {},
          "execution_count": 52
        }
      ],
      "source": [
        "slot_valid[0]"
      ]
    },
    {
      "cell_type": "code",
      "execution_count": 53,
      "metadata": {
        "id": "mYfBulefDZqu"
      },
      "outputs": [],
      "source": [
        "# slot_map"
      ]
    },
    {
      "cell_type": "code",
      "execution_count": 54,
      "metadata": {
        "id": "BOLFQGIgEmY-"
      },
      "outputs": [],
      "source": [
        "# # def encode_token_labels(text_sequences, slot_names, tokenizer, slot_map,max_length):\n",
        "\n",
        "# text_sequences = df_train[\"words\"]\n",
        "# slot_names = df_train[\"word_labels\"]\n",
        "# slot_map = slot_map\n",
        "# max_length  = 63\n",
        "\n",
        "# encoded = np.zeros(shape=(len(text_sequences), max_length), dtype=np.int32)\n",
        "# for i, (text_sequence, word_labels) in enumerate(\n",
        "#         zip(text_sequences, slot_names)):\n",
        "#     encoded_labels = []\n",
        "\n",
        "#     for word, word_label in zip(text_sequence.split(), word_labels.split()):\n",
        "\n",
        "#         tokens = tokenizer.tokenize(word)\n",
        "#         # print(word_label)\n",
        "\n",
        "#         encoded_labels.append(slot_map[word_label])\n",
        "\n",
        "#         expand_label = word_label.replace(\"B-\", \"I-\")\n",
        "\n",
        "#         if not expand_label in slot_map:\n",
        "\n",
        "#             expand_label = word_label\n",
        "#         encoded_labels.extend([slot_map[expand_label]] * (len(tokens) - 1))\n",
        "#     encoded[i, 1:len(encoded_labels) + 1] = encoded_labels\n",
        "\n",
        "# # print(encoded)\n",
        "\n",
        "# slot_train = encode_token_labels(\n",
        "#     df_train[\"words\"], df_train[\"word_labels\"], tokenizer, slot_map, 63)\n",
        "# slot_valid = encode_token_labels(\n",
        "#     df_valid[\"words\"], df_valid[\"word_labels\"], tokenizer, slot_map, 63)\n",
        "# slot_test = encode_token_labels(\n",
        "#     df_test[\"words\"], df_test[\"word_labels\"], tokenizer, slot_map, 63)"
      ]
    },
    {
      "cell_type": "code",
      "execution_count": 55,
      "metadata": {
        "id": "aIs1xOdkHU7Y"
      },
      "outputs": [],
      "source": [
        "# df_train[\"words\"][0]"
      ]
    },
    {
      "cell_type": "code",
      "execution_count": 56,
      "metadata": {
        "id": "L7WAu26sG75s"
      },
      "outputs": [],
      "source": [
        "# df_train[\"word_labels\"][0]"
      ]
    },
    {
      "cell_type": "code",
      "execution_count": 57,
      "metadata": {
        "colab": {
          "base_uri": "https://localhost:8080/"
        },
        "id": "NDgOINVrF8Un",
        "outputId": "70c8d736-fb20-4e6f-97ec-3a5d2c66260d"
      },
      "outputs": [
        {
          "output_type": "execute_result",
          "data": {
            "text/plain": [
              "1"
            ]
          },
          "metadata": {},
          "execution_count": 57
        }
      ],
      "source": [
        "slot_map['O']"
      ]
    },
    {
      "cell_type": "markdown",
      "metadata": {
        "id": "n33S5n-TnVjd"
      },
      "source": [
        "Note that the special tokens such as \"[PAD]\" and \"[SEP]\" and all padded positions recieve a 0 label."
      ]
    },
    {
      "cell_type": "markdown",
      "metadata": {
        "id": "LATnIrGKiMzO"
      },
      "source": [
        "#Joint Intent And Slot Filling Model"
      ]
    },
    {
      "cell_type": "code",
      "execution_count": 58,
      "metadata": {
        "id": "FwkvLq3KzU4G"
      },
      "outputs": [],
      "source": [
        "class JointIntentAndSlotFillingModel(tf.keras.Model):\n",
        "\n",
        "    def __init__(self, intent_num_labels=None, slot_num_labels=None,\n",
        "                 model_name=\"bert-base-multilingual-cased\", dropout_prob=0.1):\n",
        "        super().__init__(name=\"joint_intent_slot\")\n",
        "        self.bert = TFAutoModel.from_pretrained(model_name)\n",
        "        self.dropout = Dropout(dropout_prob)\n",
        "        self.intent_classifier = Dense(intent_num_labels,\n",
        "                                       name=\"intent_classifier\")\n",
        "        self.slot_classifier = Dense(slot_num_labels,\n",
        "                                     name=\"slot_classifier\")\n",
        "\n",
        "    def call(self, inputs, training=False):\n",
        "        sequence_output, pooled_output = self.bert(inputs, training=training)\n",
        "\n",
        "        # The first output of the main BERT layer has shape:\n",
        "        # (batch_size, max_length, output_dim)\n",
        "        sequence_output = self.dropout(sequence_output, training=training)\n",
        "        slot_logits = self.slot_classifier(sequence_output)\n",
        "\n",
        "        # The second output of the main BERT layer has shape:\n",
        "        # (batch_size, output_dim)\n",
        "        # and gives a \"pooled\" representation for the full sequence from the\n",
        "        # hidden state that corresponds to the \"[CLS]\" token.\n",
        "        pooled_output = self.dropout(pooled_output, training=training)\n",
        "        intent_logits = self.intent_classifier(pooled_output)\n",
        "\n",
        "        return slot_logits, intent_logits\n",
        "\n",
        "joint_model = JointIntentAndSlotFillingModel(intent_num_labels=len(intent_map), slot_num_labels=len(slot_map))\n",
        "        \n",
        "# joint_model.compile(optimizer=Adam(learning_rate=3e-5, epsilon=1e-08),loss=losses)\n"
      ]
    },
    {
      "cell_type": "code",
      "execution_count": 59,
      "metadata": {
        "id": "cCPRwf2Czf_d"
      },
      "outputs": [],
      "source": [
        "opt = Adam(learning_rate=3e-5, epsilon=1e-08)\n",
        "losses = [SparseCategoricalCrossentropy(from_logits=True),\n",
        "          SparseCategoricalCrossentropy(from_logits=True)]\n",
        "metrics = [SparseCategoricalAccuracy('accuracy')]\n",
        "joint_model.compile(optimizer=opt, loss=losses, metrics=metrics)"
      ]
    },
    {
      "cell_type": "code",
      "execution_count": 60,
      "metadata": {
        "id": "zdWv-2CxqjOh"
      },
      "outputs": [],
      "source": [
        "#########\n",
        "\n",
        "# checkpoint_path = \"/content/drive/MyDrive/JP Morgan/Data/model_ester_swa/cp.ckpt\"\n",
        "# checkpoint_dir = os.path.dirname(checkpoint_path)\n",
        "\n",
        "# # Create a callback that saves the model's weights\n",
        "# cp_callback = tf.keras.callbacks.ModelCheckpoint(filepath=checkpoint_path,\n",
        "#                                                  save_weights_only=True,\n",
        "#                                                  verbose=1)"
      ]
    },
    {
      "cell_type": "code",
      "execution_count": 61,
      "metadata": {
        "id": "2iaklleRsH88"
      },
      "outputs": [],
      "source": [
        "#### Loading Model weights for training \n",
        "\n",
        "################\n",
        "\n",
        "# joint_model.load_weights('/content/drive/MyDrive/JP Morgan/Data/model_ester_swa/cp.ckpt')"
      ]
    },
    {
      "cell_type": "code",
      "execution_count": 62,
      "metadata": {
        "colab": {
          "base_uri": "https://localhost:8080/"
        },
        "id": "Q8A0qr1K2Q-s",
        "outputId": "b241d3b1-ff1a-4e10-c661-4131862c0766"
      },
      "outputs": [
        {
          "output_type": "stream",
          "name": "stdout",
          "text": [
            "Epoch 1/15\n",
            "90/90 [==============================] - 34s 206ms/step - loss: 2.1587 - output_1_loss: 0.7631 - output_2_loss: 1.3956 - output_1_accuracy: 0.8569 - output_2_accuracy: 0.6919 - val_loss: nan - val_output_1_loss: 0.5061 - val_output_2_loss: nan - val_output_1_accuracy: 0.9020 - val_output_2_accuracy: 0.7765\n",
            "Epoch 2/15\n",
            "90/90 [==============================] - 16s 176ms/step - loss: 1.4299 - output_1_loss: 0.4639 - output_2_loss: 0.9661 - output_1_accuracy: 0.9094 - output_2_accuracy: 0.7409 - val_loss: nan - val_output_1_loss: 0.3780 - val_output_2_loss: nan - val_output_1_accuracy: 0.9263 - val_output_2_accuracy: 0.8603\n",
            "Epoch 3/15\n",
            "90/90 [==============================] - 16s 177ms/step - loss: 1.0450 - output_1_loss: 0.3716 - output_2_loss: 0.6734 - output_1_accuracy: 0.9257 - output_2_accuracy: 0.8277 - val_loss: nan - val_output_1_loss: 0.3467 - val_output_2_loss: nan - val_output_1_accuracy: 0.9339 - val_output_2_accuracy: 0.9106\n",
            "Epoch 4/15\n",
            "90/90 [==============================] - 19s 212ms/step - loss: 0.7490 - output_1_loss: 0.3244 - output_2_loss: 0.4245 - output_1_accuracy: 0.9343 - output_2_accuracy: 0.8922 - val_loss: nan - val_output_1_loss: 0.3122 - val_output_2_loss: nan - val_output_1_accuracy: 0.9393 - val_output_2_accuracy: 0.9274\n",
            "Epoch 5/15\n",
            "90/90 [==============================] - 16s 180ms/step - loss: 0.5814 - output_1_loss: 0.2896 - output_2_loss: 0.2918 - output_1_accuracy: 0.9391 - output_2_accuracy: 0.9300 - val_loss: nan - val_output_1_loss: 0.2877 - val_output_2_loss: nan - val_output_1_accuracy: 0.9434 - val_output_2_accuracy: 0.9497\n",
            "Epoch 6/15\n",
            "90/90 [==============================] - 16s 178ms/step - loss: 0.3919 - output_1_loss: 0.2571 - output_2_loss: 0.1348 - output_1_accuracy: 0.9459 - output_2_accuracy: 0.9734 - val_loss: nan - val_output_1_loss: 0.2715 - val_output_2_loss: nan - val_output_1_accuracy: 0.9449 - val_output_2_accuracy: 0.9274\n",
            "Epoch 7/15\n",
            "90/90 [==============================] - 16s 175ms/step - loss: 0.3526 - output_1_loss: 0.2329 - output_2_loss: 0.1197 - output_1_accuracy: 0.9492 - output_2_accuracy: 0.9790 - val_loss: nan - val_output_1_loss: 0.2605 - val_output_2_loss: nan - val_output_1_accuracy: 0.9495 - val_output_2_accuracy: 0.9609\n",
            "Epoch 8/15\n",
            "90/90 [==============================] - 17s 186ms/step - loss: 0.2696 - output_1_loss: 0.2069 - output_2_loss: 0.0627 - output_1_accuracy: 0.9535 - output_2_accuracy: 0.9888 - val_loss: nan - val_output_1_loss: 0.2459 - val_output_2_loss: nan - val_output_1_accuracy: 0.9516 - val_output_2_accuracy: 0.9497\n",
            "Epoch 9/15\n",
            "90/90 [==============================] - 18s 204ms/step - loss: 0.2221 - output_1_loss: 0.1823 - output_2_loss: 0.0398 - output_1_accuracy: 0.9581 - output_2_accuracy: 0.9930 - val_loss: nan - val_output_1_loss: 0.2351 - val_output_2_loss: nan - val_output_1_accuracy: 0.9522 - val_output_2_accuracy: 0.9553\n",
            "Epoch 10/15\n",
            "90/90 [==============================] - 16s 181ms/step - loss: 0.2259 - output_1_loss: 0.1762 - output_2_loss: 0.0497 - output_1_accuracy: 0.9599 - output_2_accuracy: 0.9902 - val_loss: nan - val_output_1_loss: 0.2400 - val_output_2_loss: nan - val_output_1_accuracy: 0.9532 - val_output_2_accuracy: 0.9609\n",
            "Epoch 11/15\n",
            "90/90 [==============================] - 16s 183ms/step - loss: 0.2493 - output_1_loss: 0.1583 - output_2_loss: 0.0910 - output_1_accuracy: 0.9635 - output_2_accuracy: 0.9818 - val_loss: nan - val_output_1_loss: 0.2317 - val_output_2_loss: nan - val_output_1_accuracy: 0.9539 - val_output_2_accuracy: 0.9553\n",
            "Epoch 12/15\n",
            "90/90 [==============================] - 17s 189ms/step - loss: 0.2259 - output_1_loss: 0.1675 - output_2_loss: 0.0584 - output_1_accuracy: 0.9623 - output_2_accuracy: 0.9888 - val_loss: nan - val_output_1_loss: 0.2367 - val_output_2_loss: nan - val_output_1_accuracy: 0.9544 - val_output_2_accuracy: 0.9441\n",
            "Epoch 13/15\n",
            "90/90 [==============================] - 16s 177ms/step - loss: 0.1882 - output_1_loss: 0.1523 - output_2_loss: 0.0359 - output_1_accuracy: 0.9645 - output_2_accuracy: 0.9874 - val_loss: nan - val_output_1_loss: 0.2166 - val_output_2_loss: nan - val_output_1_accuracy: 0.9564 - val_output_2_accuracy: 0.9665\n",
            "Epoch 14/15\n",
            "90/90 [==============================] - 17s 184ms/step - loss: 0.1902 - output_1_loss: 0.1356 - output_2_loss: 0.0545 - output_1_accuracy: 0.9670 - output_2_accuracy: 0.9888 - val_loss: nan - val_output_1_loss: 0.2278 - val_output_2_loss: nan - val_output_1_accuracy: 0.9564 - val_output_2_accuracy: 0.9609\n",
            "Epoch 15/15\n",
            "90/90 [==============================] - 16s 177ms/step - loss: 0.1250 - output_1_loss: 0.1131 - output_2_loss: 0.0120 - output_1_accuracy: 0.9741 - output_2_accuracy: 0.9986 - val_loss: nan - val_output_1_loss: 0.2216 - val_output_2_loss: nan - val_output_1_accuracy: 0.9577 - val_output_2_accuracy: 0.9665\n"
          ]
        }
      ],
      "source": [
        "history = joint_model.fit(\n",
        "    encoded_train,\n",
        "    (slot_train, intent_train),\n",
        "    validation_data=(encoded_valid, (slot_valid, intent_valid)), \n",
        "    epochs=15,\n",
        "    batch_size=8\n",
        ")"
      ]
    },
    {
      "cell_type": "markdown",
      "metadata": {
        "id": "AlYclnfdkTJV"
      },
      "source": [
        "### Save the model"
      ]
    },
    {
      "cell_type": "code",
      "execution_count": 63,
      "metadata": {
        "colab": {
          "base_uri": "https://localhost:8080/"
        },
        "id": "7UJhptRJkVPo",
        "outputId": "8c87af5a-f98e-4102-a8b7-d3a02028cb85"
      },
      "outputs": [
        {
          "output_type": "stream",
          "name": "stderr",
          "text": [
            "WARNING:absl:Found untraced functions such as embeddings_layer_call_fn, embeddings_layer_call_and_return_conditional_losses, encoder_layer_call_fn, encoder_layer_call_and_return_conditional_losses, pooler_layer_call_fn while saving (showing 5 of 426). These functions will not be directly callable after loading.\n"
          ]
        }
      ],
      "source": [
        "model = joint_model\n",
        "\n",
        "model.save(\"/content/drive/MyDrive/JP Morgan/Data/model_ester_swa/best_working\")"
      ]
    },
    {
      "cell_type": "markdown",
      "metadata": {
        "id": "KISsxUXO6aA1"
      },
      "source": [
        "#Making prediction on a single text sequence and displaying both the sequence-wise and the token-wise class labels"
      ]
    },
    {
      "cell_type": "code",
      "execution_count": 64,
      "metadata": {
        "id": "r0hZKphof3Im"
      },
      "outputs": [],
      "source": [
        "def show_predictions(text, tokenizer, model, intent_names, slot_names):\n",
        "\n",
        "    inputs = tf.constant(tokenizer.encode(text))[None, :]  # batch_size = 1\n",
        "    # print(inputs)\n",
        "    outputs = model(inputs)\n",
        "    slot_logits, intent_logits = outputs\n",
        "    # print(outputs)\n",
        "    slot_ids = slot_logits.numpy().argmax(axis=-1)[0, 1:-1]\n",
        "    # print(slot_ids)\n",
        "    intent_id = intent_logits.numpy().argmax(axis=-1)[0]\n",
        "    intent = [k for k, v in intent_names.items() if v == intent_id]\n",
        "\n",
        "    # print(slot_ids)\n",
        "\n",
        "    # print(\"## Intent:\", intent)\n",
        "    # print(\"## Slots:\")\n",
        "    slot_pred = []\n",
        "    \n",
        "    ####\n",
        "    text_split = text.split(' ')\n",
        "    tokens_ids = [(i,j) for i,j in zip(tokenizer.tokenize(text),slot_ids)]\n",
        "    #### Removing ## Tokens\n",
        "    tokens_ids_ = [x for x in tokens_ids if not '##' in x[0]]\n",
        "\n",
        "\n",
        "    for token, slot_id in zip(text_split, tokens_ids_):\n",
        "      slot_pred.append(slot_names[slot_id[1]])\n",
        "\n",
        "    return intent, slot_pred"
      ]
    },
    {
      "cell_type": "code",
      "execution_count": 65,
      "metadata": {
        "id": "lDm5q6qYcRGA"
      },
      "outputs": [],
      "source": [
        "# slot_names"
      ]
    },
    {
      "cell_type": "code",
      "execution_count": 68,
      "metadata": {
        "colab": {
          "base_uri": "https://localhost:8080/"
        },
        "id": "gBfbYCPZ1jZt",
        "outputId": "0c12ee11-660e-47ae-96ab-04b60f177462"
      },
      "outputs": [
        {
          "output_type": "execute_result",
          "data": {
            "text/plain": [
              "('nionyeshe safari za ndege za moja kwa moja kutoka Toronto hadi St. petersburg',\n",
              " 'O O O O O B-ndege_acha I-ndege_acha I-ndege_acha O B-kutoka_mji_jina O B-hadi_mji_jina I-hadi_mji_jina',\n",
              " 'ndege')"
            ]
          },
          "metadata": {},
          "execution_count": 68
        }
      ],
      "source": [
        "df_valid.iloc[55][\"words\"], df_valid.iloc[55][\"word_labels\"], df_valid.iloc[55][\"intent_label\"]"
      ]
    },
    {
      "cell_type": "code",
      "execution_count": 69,
      "metadata": {
        "colab": {
          "base_uri": "https://localhost:8080/"
        },
        "id": "dzzVtd7ag7Hi",
        "outputId": "a4e1122f-741a-4ad7-ec47-a23b98398bee"
      },
      "outputs": [
        {
          "output_type": "execute_result",
          "data": {
            "text/plain": [
              "(['ndege'],\n",
              " ['O',\n",
              "  'O',\n",
              "  'O',\n",
              "  'O',\n",
              "  'O',\n",
              "  'B-ndege_acha',\n",
              "  'I-ndege_acha',\n",
              "  'I-ndege_acha',\n",
              "  'O',\n",
              "  'B-kutoka_mji_jina',\n",
              "  'O',\n",
              "  'B-hadi.mji_jina',\n",
              "  'I-hadi.mji_jina'])"
            ]
          },
          "metadata": {},
          "execution_count": 69
        }
      ],
      "source": [
        "pred_intent, pred_slot = show_predictions(df_valid.iloc[55][\"words\"], tokenizer, joint_model, intent_map, slot_names)\n",
        "pred_intent, pred_slot"
      ]
    },
    {
      "cell_type": "code",
      "execution_count": 70,
      "metadata": {
        "id": "0fZ7_hxdgVcV"
      },
      "outputs": [],
      "source": [
        "\n",
        "# # def evaluate()\n",
        "#       print(idx, len(true_label), len(pred_slot), len(df_valid.iloc[idx][\"words\"].split()))\n",
        "#       print(\"Added\", num_add, [\"PAD\"]*num_add)\n",
        "#       print(df_valid.iloc[idx][\"words\"])\n",
        "#       print(true_label)\n",
        "#       print(pred_slot)\n",
        "#       # break\n"
      ]
    },
    {
      "cell_type": "code",
      "execution_count": 71,
      "metadata": {
        "id": "sWuVXQWE0iTy"
      },
      "outputs": [],
      "source": [
        "# pred_slot\n",
        "from sklearn.metrics import f1_score\n",
        "\n",
        "slot_avg_f1_score = []\n",
        "slot_avg_accuracy_score = []\n",
        "intent_avg_f1_score = []\n",
        "intent_avg_accuracy_score = []\n",
        "\n",
        "count = 0\n",
        "\n",
        "for idx in range(len(df_valid)):\n",
        "  try:\n",
        "    pred_intent, pred_slot = show_predictions(df_valid.iloc[idx][\"words\"], tokenizer, joint_model, intent_map, slot_names)\n",
        "\n",
        "    true_label_slot = df_valid.iloc[idx][\"word_labels\"].split()\n",
        "    true_label_intent = df_valid.iloc[idx][\"intent_label\"].split()\n",
        "    # if(len(true_label) > len(pred_slot)):\n",
        "    #   num_add = len(true_label) - len(pred_slot)\n",
        "    #   pred_slot.extend([\"[PAD]\"]*num_add)\n",
        "    #   count += 1\n",
        "\n",
        "    # elif(len(pred_slot) > len(true_label)):\n",
        "    #   num_add = len(pred_slot) - len(true_label)\n",
        "    #   pred_slot.extend([\"O\"]*num_add)\n",
        "    #   count += 1\n",
        "\n",
        "    f1_slot = f1_score(true_label_slot, pred_slot, average=\"weighted\")\n",
        "    slot_accuracy_score = accuracy_score(true_label_slot, pred_slot)\n",
        "\n",
        "    f1_intent = f1_score(true_label_intent, pred_intent, average=\"weighted\")\n",
        "    intent_accuracy_score = accuracy_score(true_label_intent, pred_intent)\n",
        "\n",
        "\n",
        "    slot_avg_f1_score.append(f1_slot)\n",
        "    slot_avg_accuracy_score.append(slot_accuracy_score)\n",
        "\n",
        "    intent_avg_f1_score.append(f1_intent)\n",
        "    intent_avg_accuracy_score.append(intent_accuracy_score)\n",
        "\n",
        "    # print(len(df_valid.iloc[idx][\"word_labels\"].split()), len(pred_slot))\n",
        "\n",
        "  except:\n",
        "    pass\n",
        "    # print(idx)\n",
        "    # print(df_valid.iloc[idx][\"words\"])\n",
        "    # print(df_valid.iloc[idx][\"word_labels\"].split())\n",
        "    # print(pred_slot)\n",
        "    # print(len(df_valid.iloc[idx][\"word_labels\"].split()), len(pred_slot))\n",
        "    # break\n",
        "# df_valid.iloc[0][\"word_labels\"].split(\" \"), pred_slot"
      ]
    },
    {
      "cell_type": "code",
      "execution_count": 72,
      "metadata": {
        "colab": {
          "base_uri": "https://localhost:8080/"
        },
        "id": "gu6CWpYLpGOA",
        "outputId": "0dcd8f4d-b8b6-4c33-96bd-873f9adbe5de"
      },
      "outputs": [
        {
          "output_type": "stream",
          "name": "stdout",
          "text": [
            "F1 Score:  0.892809277811478 \n",
            "Accuracy: 0.8960848139437718\n"
          ]
        }
      ],
      "source": [
        "print(\"F1 Score: \", np.mean(slot_avg_f1_score), \"\\nAccuracy:\", np.mean(slot_avg_accuracy_score))"
      ]
    },
    {
      "cell_type": "code",
      "execution_count": 73,
      "metadata": {
        "colab": {
          "base_uri": "https://localhost:8080/"
        },
        "id": "KjAzFBWzoMbF",
        "outputId": "adee0bd9-aea5-4c13-b766-d5902b5b2f43"
      },
      "outputs": [
        {
          "output_type": "stream",
          "name": "stdout",
          "text": [
            "F1 Score Intent:  0.9622641509433962 \n",
            "Accuracy Intent: 0.9622641509433962\n"
          ]
        }
      ],
      "source": [
        "print(\"F1 Score Intent: \", np.mean(intent_avg_f1_score), \"\\nAccuracy Intent:\", np.mean(intent_avg_accuracy_score))"
      ]
    },
    {
      "cell_type": "code",
      "source": [
        "from sklearn.metrics import f1_score\n",
        "\n",
        "avg_f1_score = []\n",
        "avg_accuracy_score = []\n",
        "\n",
        "count = 0\n",
        "\n",
        "for idx in range(len(df_valid)):\n",
        "  try:\n",
        "    pred_intent, pred_slot = show_predictions(df_valid.iloc[idx][\"words\"], tokenizer, joint_model, intent_map, slot_names)\n",
        "\n",
        "    true_label = df_valid.iloc[idx][\"word_labels\"].split()\n",
        "\n",
        "    # if(len(true_label) > len(pred_slot)):\n",
        "    #   num_add = len(true_label) - len(pred_slot)\n",
        "    #   pred_slot.extend([\"[PAD]\"]*num_add)\n",
        "    #   count += 1\n",
        "\n",
        "    # elif(len(pred_slot) > len(true_label)):\n",
        "    #   num_add = len(pred_slot) - len(true_label)\n",
        "    #   pred_slot.extend([\"O\"]*num_add)\n",
        "    #   count += 1\n",
        "\n",
        "    f1 = f1_score(true_label, pred_slot, average=\"weighted\")\n",
        "    accuracy = accuracy_score(true_label, pred_slot)\n",
        "\n",
        "    avg_f1_score.append(f1)\n",
        "    avg_accuracy_score.append(accuracy)\n",
        "\n",
        "    # print(len(df_valid.iloc[idx][\"word_labels\"].split()), len(pred_slot))\n",
        "\n",
        "  except:\n",
        "    pass\n",
        "    # print(idx)\n",
        "    # print(df_valid.iloc[idx][\"words\"])\n",
        "    # print(df_valid.iloc[idx][\"word_labels\"].split())\n",
        "    # print(pred_slot)\n",
        "    # print(len(df_valid.iloc[idx][\"word_labels\"].split()), len(pred_slot))\n",
        "    # break\n",
        "# df_valid.iloc[0][\"word_labels\"].split(\" \"), pred_slot"
      ],
      "metadata": {
        "id": "uhx6XrIgwrt9"
      },
      "execution_count": 75,
      "outputs": []
    },
    {
      "cell_type": "code",
      "source": [
        "print(\"F1 Score: \", np.mean(avg_f1_score), \"\\nAccuracy:\", np.mean(avg_accuracy_score))"
      ],
      "metadata": {
        "colab": {
          "base_uri": "https://localhost:8080/"
        },
        "id": "nFMBilCxw183",
        "outputId": "0f8e5969-2c1c-485b-b9f7-be0f59bfb6ac"
      },
      "execution_count": 76,
      "outputs": [
        {
          "output_type": "stream",
          "name": "stdout",
          "text": [
            "F1 Score:  0.892809277811478 \n",
            "Accuracy: 0.8960848139437718\n"
          ]
        }
      ]
    }
  ],
  "metadata": {
    "accelerator": "GPU",
    "colab": {
      "provenance": [],
      "include_colab_link": true
    },
    "gpuClass": "standard",
    "kernelspec": {
      "display_name": "Python 3",
      "language": "python",
      "name": "python3"
    },
    "language_info": {
      "codemirror_mode": {
        "name": "ipython",
        "version": 3
      },
      "file_extension": ".py",
      "mimetype": "text/x-python",
      "name": "python",
      "nbconvert_exporter": "python",
      "pygments_lexer": "ipython3",
      "version": "3.7.6"
    },
    "widgets": {
      "application/vnd.jupyter.widget-state+json": {
        "ae58c45ae2334c3892fddf0820d284d1": {
          "model_module": "@jupyter-widgets/controls",
          "model_name": "HBoxModel",
          "model_module_version": "1.5.0",
          "state": {
            "_dom_classes": [],
            "_model_module": "@jupyter-widgets/controls",
            "_model_module_version": "1.5.0",
            "_model_name": "HBoxModel",
            "_view_count": null,
            "_view_module": "@jupyter-widgets/controls",
            "_view_module_version": "1.5.0",
            "_view_name": "HBoxView",
            "box_style": "",
            "children": [
              "IPY_MODEL_b4da4004e00c4319ad4e98e84a62a927",
              "IPY_MODEL_e149d079a82049c5a824f0c50d02b708",
              "IPY_MODEL_8add4475e669463ca49f679e891a4ca0"
            ],
            "layout": "IPY_MODEL_f5892d3195c74dd494478d9eb449158f"
          }
        },
        "b4da4004e00c4319ad4e98e84a62a927": {
          "model_module": "@jupyter-widgets/controls",
          "model_name": "HTMLModel",
          "model_module_version": "1.5.0",
          "state": {
            "_dom_classes": [],
            "_model_module": "@jupyter-widgets/controls",
            "_model_module_version": "1.5.0",
            "_model_name": "HTMLModel",
            "_view_count": null,
            "_view_module": "@jupyter-widgets/controls",
            "_view_module_version": "1.5.0",
            "_view_name": "HTMLView",
            "description": "",
            "description_tooltip": null,
            "layout": "IPY_MODEL_58d92b9bb3ff4409b32ca4867bcaad2d",
            "placeholder": "​",
            "style": "IPY_MODEL_06aea1a645df496da27aadbc5006e5f3",
            "value": "Downloading: 100%"
          }
        },
        "e149d079a82049c5a824f0c50d02b708": {
          "model_module": "@jupyter-widgets/controls",
          "model_name": "FloatProgressModel",
          "model_module_version": "1.5.0",
          "state": {
            "_dom_classes": [],
            "_model_module": "@jupyter-widgets/controls",
            "_model_module_version": "1.5.0",
            "_model_name": "FloatProgressModel",
            "_view_count": null,
            "_view_module": "@jupyter-widgets/controls",
            "_view_module_version": "1.5.0",
            "_view_name": "ProgressView",
            "bar_style": "success",
            "description": "",
            "description_tooltip": null,
            "layout": "IPY_MODEL_6850f79c5ea0403d962b68bd2d554209",
            "max": 995526,
            "min": 0,
            "orientation": "horizontal",
            "style": "IPY_MODEL_6d3e2a905fda481e829e16b67b811b56",
            "value": 995526
          }
        },
        "8add4475e669463ca49f679e891a4ca0": {
          "model_module": "@jupyter-widgets/controls",
          "model_name": "HTMLModel",
          "model_module_version": "1.5.0",
          "state": {
            "_dom_classes": [],
            "_model_module": "@jupyter-widgets/controls",
            "_model_module_version": "1.5.0",
            "_model_name": "HTMLModel",
            "_view_count": null,
            "_view_module": "@jupyter-widgets/controls",
            "_view_module_version": "1.5.0",
            "_view_name": "HTMLView",
            "description": "",
            "description_tooltip": null,
            "layout": "IPY_MODEL_2df79093d04c47289a8b06614c57a1c2",
            "placeholder": "​",
            "style": "IPY_MODEL_bd2059e4fd47433eb900bccb3a5c5034",
            "value": " 996k/996k [00:01&lt;00:00, 736kB/s]"
          }
        },
        "f5892d3195c74dd494478d9eb449158f": {
          "model_module": "@jupyter-widgets/base",
          "model_name": "LayoutModel",
          "model_module_version": "1.2.0",
          "state": {
            "_model_module": "@jupyter-widgets/base",
            "_model_module_version": "1.2.0",
            "_model_name": "LayoutModel",
            "_view_count": null,
            "_view_module": "@jupyter-widgets/base",
            "_view_module_version": "1.2.0",
            "_view_name": "LayoutView",
            "align_content": null,
            "align_items": null,
            "align_self": null,
            "border": null,
            "bottom": null,
            "display": null,
            "flex": null,
            "flex_flow": null,
            "grid_area": null,
            "grid_auto_columns": null,
            "grid_auto_flow": null,
            "grid_auto_rows": null,
            "grid_column": null,
            "grid_gap": null,
            "grid_row": null,
            "grid_template_areas": null,
            "grid_template_columns": null,
            "grid_template_rows": null,
            "height": null,
            "justify_content": null,
            "justify_items": null,
            "left": null,
            "margin": null,
            "max_height": null,
            "max_width": null,
            "min_height": null,
            "min_width": null,
            "object_fit": null,
            "object_position": null,
            "order": null,
            "overflow": null,
            "overflow_x": null,
            "overflow_y": null,
            "padding": null,
            "right": null,
            "top": null,
            "visibility": null,
            "width": null
          }
        },
        "58d92b9bb3ff4409b32ca4867bcaad2d": {
          "model_module": "@jupyter-widgets/base",
          "model_name": "LayoutModel",
          "model_module_version": "1.2.0",
          "state": {
            "_model_module": "@jupyter-widgets/base",
            "_model_module_version": "1.2.0",
            "_model_name": "LayoutModel",
            "_view_count": null,
            "_view_module": "@jupyter-widgets/base",
            "_view_module_version": "1.2.0",
            "_view_name": "LayoutView",
            "align_content": null,
            "align_items": null,
            "align_self": null,
            "border": null,
            "bottom": null,
            "display": null,
            "flex": null,
            "flex_flow": null,
            "grid_area": null,
            "grid_auto_columns": null,
            "grid_auto_flow": null,
            "grid_auto_rows": null,
            "grid_column": null,
            "grid_gap": null,
            "grid_row": null,
            "grid_template_areas": null,
            "grid_template_columns": null,
            "grid_template_rows": null,
            "height": null,
            "justify_content": null,
            "justify_items": null,
            "left": null,
            "margin": null,
            "max_height": null,
            "max_width": null,
            "min_height": null,
            "min_width": null,
            "object_fit": null,
            "object_position": null,
            "order": null,
            "overflow": null,
            "overflow_x": null,
            "overflow_y": null,
            "padding": null,
            "right": null,
            "top": null,
            "visibility": null,
            "width": null
          }
        },
        "06aea1a645df496da27aadbc5006e5f3": {
          "model_module": "@jupyter-widgets/controls",
          "model_name": "DescriptionStyleModel",
          "model_module_version": "1.5.0",
          "state": {
            "_model_module": "@jupyter-widgets/controls",
            "_model_module_version": "1.5.0",
            "_model_name": "DescriptionStyleModel",
            "_view_count": null,
            "_view_module": "@jupyter-widgets/base",
            "_view_module_version": "1.2.0",
            "_view_name": "StyleView",
            "description_width": ""
          }
        },
        "6850f79c5ea0403d962b68bd2d554209": {
          "model_module": "@jupyter-widgets/base",
          "model_name": "LayoutModel",
          "model_module_version": "1.2.0",
          "state": {
            "_model_module": "@jupyter-widgets/base",
            "_model_module_version": "1.2.0",
            "_model_name": "LayoutModel",
            "_view_count": null,
            "_view_module": "@jupyter-widgets/base",
            "_view_module_version": "1.2.0",
            "_view_name": "LayoutView",
            "align_content": null,
            "align_items": null,
            "align_self": null,
            "border": null,
            "bottom": null,
            "display": null,
            "flex": null,
            "flex_flow": null,
            "grid_area": null,
            "grid_auto_columns": null,
            "grid_auto_flow": null,
            "grid_auto_rows": null,
            "grid_column": null,
            "grid_gap": null,
            "grid_row": null,
            "grid_template_areas": null,
            "grid_template_columns": null,
            "grid_template_rows": null,
            "height": null,
            "justify_content": null,
            "justify_items": null,
            "left": null,
            "margin": null,
            "max_height": null,
            "max_width": null,
            "min_height": null,
            "min_width": null,
            "object_fit": null,
            "object_position": null,
            "order": null,
            "overflow": null,
            "overflow_x": null,
            "overflow_y": null,
            "padding": null,
            "right": null,
            "top": null,
            "visibility": null,
            "width": null
          }
        },
        "6d3e2a905fda481e829e16b67b811b56": {
          "model_module": "@jupyter-widgets/controls",
          "model_name": "ProgressStyleModel",
          "model_module_version": "1.5.0",
          "state": {
            "_model_module": "@jupyter-widgets/controls",
            "_model_module_version": "1.5.0",
            "_model_name": "ProgressStyleModel",
            "_view_count": null,
            "_view_module": "@jupyter-widgets/base",
            "_view_module_version": "1.2.0",
            "_view_name": "StyleView",
            "bar_color": null,
            "description_width": ""
          }
        },
        "2df79093d04c47289a8b06614c57a1c2": {
          "model_module": "@jupyter-widgets/base",
          "model_name": "LayoutModel",
          "model_module_version": "1.2.0",
          "state": {
            "_model_module": "@jupyter-widgets/base",
            "_model_module_version": "1.2.0",
            "_model_name": "LayoutModel",
            "_view_count": null,
            "_view_module": "@jupyter-widgets/base",
            "_view_module_version": "1.2.0",
            "_view_name": "LayoutView",
            "align_content": null,
            "align_items": null,
            "align_self": null,
            "border": null,
            "bottom": null,
            "display": null,
            "flex": null,
            "flex_flow": null,
            "grid_area": null,
            "grid_auto_columns": null,
            "grid_auto_flow": null,
            "grid_auto_rows": null,
            "grid_column": null,
            "grid_gap": null,
            "grid_row": null,
            "grid_template_areas": null,
            "grid_template_columns": null,
            "grid_template_rows": null,
            "height": null,
            "justify_content": null,
            "justify_items": null,
            "left": null,
            "margin": null,
            "max_height": null,
            "max_width": null,
            "min_height": null,
            "min_width": null,
            "object_fit": null,
            "object_position": null,
            "order": null,
            "overflow": null,
            "overflow_x": null,
            "overflow_y": null,
            "padding": null,
            "right": null,
            "top": null,
            "visibility": null,
            "width": null
          }
        },
        "bd2059e4fd47433eb900bccb3a5c5034": {
          "model_module": "@jupyter-widgets/controls",
          "model_name": "DescriptionStyleModel",
          "model_module_version": "1.5.0",
          "state": {
            "_model_module": "@jupyter-widgets/controls",
            "_model_module_version": "1.5.0",
            "_model_name": "DescriptionStyleModel",
            "_view_count": null,
            "_view_module": "@jupyter-widgets/base",
            "_view_module_version": "1.2.0",
            "_view_name": "StyleView",
            "description_width": ""
          }
        },
        "d598a42566124a47b0008a0fffc567af": {
          "model_module": "@jupyter-widgets/controls",
          "model_name": "HBoxModel",
          "model_module_version": "1.5.0",
          "state": {
            "_dom_classes": [],
            "_model_module": "@jupyter-widgets/controls",
            "_model_module_version": "1.5.0",
            "_model_name": "HBoxModel",
            "_view_count": null,
            "_view_module": "@jupyter-widgets/controls",
            "_view_module_version": "1.5.0",
            "_view_name": "HBoxView",
            "box_style": "",
            "children": [
              "IPY_MODEL_3c87b230721741b2b10a859d7592e2f2",
              "IPY_MODEL_5fd736e291054990a0f6acf1f298dec9",
              "IPY_MODEL_a3c063f36b41417c908325803afbf15f"
            ],
            "layout": "IPY_MODEL_2dc9d5e7f9c848d99245423dc8727a6d"
          }
        },
        "3c87b230721741b2b10a859d7592e2f2": {
          "model_module": "@jupyter-widgets/controls",
          "model_name": "HTMLModel",
          "model_module_version": "1.5.0",
          "state": {
            "_dom_classes": [],
            "_model_module": "@jupyter-widgets/controls",
            "_model_module_version": "1.5.0",
            "_model_name": "HTMLModel",
            "_view_count": null,
            "_view_module": "@jupyter-widgets/controls",
            "_view_module_version": "1.5.0",
            "_view_name": "HTMLView",
            "description": "",
            "description_tooltip": null,
            "layout": "IPY_MODEL_3a3a7bb163344769bf97188bcf54acad",
            "placeholder": "​",
            "style": "IPY_MODEL_b182db4106b5498cab0c122a116c0606",
            "value": "Downloading: 100%"
          }
        },
        "5fd736e291054990a0f6acf1f298dec9": {
          "model_module": "@jupyter-widgets/controls",
          "model_name": "FloatProgressModel",
          "model_module_version": "1.5.0",
          "state": {
            "_dom_classes": [],
            "_model_module": "@jupyter-widgets/controls",
            "_model_module_version": "1.5.0",
            "_model_name": "FloatProgressModel",
            "_view_count": null,
            "_view_module": "@jupyter-widgets/controls",
            "_view_module_version": "1.5.0",
            "_view_name": "ProgressView",
            "bar_style": "success",
            "description": "",
            "description_tooltip": null,
            "layout": "IPY_MODEL_18a74418db1c47f9942e2c6946f08887",
            "max": 625,
            "min": 0,
            "orientation": "horizontal",
            "style": "IPY_MODEL_a8e4d6ac18c9400aa808eb591e9d71d2",
            "value": 625
          }
        },
        "a3c063f36b41417c908325803afbf15f": {
          "model_module": "@jupyter-widgets/controls",
          "model_name": "HTMLModel",
          "model_module_version": "1.5.0",
          "state": {
            "_dom_classes": [],
            "_model_module": "@jupyter-widgets/controls",
            "_model_module_version": "1.5.0",
            "_model_name": "HTMLModel",
            "_view_count": null,
            "_view_module": "@jupyter-widgets/controls",
            "_view_module_version": "1.5.0",
            "_view_name": "HTMLView",
            "description": "",
            "description_tooltip": null,
            "layout": "IPY_MODEL_977816fded1e49149542da046f09e8da",
            "placeholder": "​",
            "style": "IPY_MODEL_c412912a9d6440a0b05cd15cab3a1b16",
            "value": " 625/625 [00:00&lt;00:00, 20.8kB/s]"
          }
        },
        "2dc9d5e7f9c848d99245423dc8727a6d": {
          "model_module": "@jupyter-widgets/base",
          "model_name": "LayoutModel",
          "model_module_version": "1.2.0",
          "state": {
            "_model_module": "@jupyter-widgets/base",
            "_model_module_version": "1.2.0",
            "_model_name": "LayoutModel",
            "_view_count": null,
            "_view_module": "@jupyter-widgets/base",
            "_view_module_version": "1.2.0",
            "_view_name": "LayoutView",
            "align_content": null,
            "align_items": null,
            "align_self": null,
            "border": null,
            "bottom": null,
            "display": null,
            "flex": null,
            "flex_flow": null,
            "grid_area": null,
            "grid_auto_columns": null,
            "grid_auto_flow": null,
            "grid_auto_rows": null,
            "grid_column": null,
            "grid_gap": null,
            "grid_row": null,
            "grid_template_areas": null,
            "grid_template_columns": null,
            "grid_template_rows": null,
            "height": null,
            "justify_content": null,
            "justify_items": null,
            "left": null,
            "margin": null,
            "max_height": null,
            "max_width": null,
            "min_height": null,
            "min_width": null,
            "object_fit": null,
            "object_position": null,
            "order": null,
            "overflow": null,
            "overflow_x": null,
            "overflow_y": null,
            "padding": null,
            "right": null,
            "top": null,
            "visibility": null,
            "width": null
          }
        },
        "3a3a7bb163344769bf97188bcf54acad": {
          "model_module": "@jupyter-widgets/base",
          "model_name": "LayoutModel",
          "model_module_version": "1.2.0",
          "state": {
            "_model_module": "@jupyter-widgets/base",
            "_model_module_version": "1.2.0",
            "_model_name": "LayoutModel",
            "_view_count": null,
            "_view_module": "@jupyter-widgets/base",
            "_view_module_version": "1.2.0",
            "_view_name": "LayoutView",
            "align_content": null,
            "align_items": null,
            "align_self": null,
            "border": null,
            "bottom": null,
            "display": null,
            "flex": null,
            "flex_flow": null,
            "grid_area": null,
            "grid_auto_columns": null,
            "grid_auto_flow": null,
            "grid_auto_rows": null,
            "grid_column": null,
            "grid_gap": null,
            "grid_row": null,
            "grid_template_areas": null,
            "grid_template_columns": null,
            "grid_template_rows": null,
            "height": null,
            "justify_content": null,
            "justify_items": null,
            "left": null,
            "margin": null,
            "max_height": null,
            "max_width": null,
            "min_height": null,
            "min_width": null,
            "object_fit": null,
            "object_position": null,
            "order": null,
            "overflow": null,
            "overflow_x": null,
            "overflow_y": null,
            "padding": null,
            "right": null,
            "top": null,
            "visibility": null,
            "width": null
          }
        },
        "b182db4106b5498cab0c122a116c0606": {
          "model_module": "@jupyter-widgets/controls",
          "model_name": "DescriptionStyleModel",
          "model_module_version": "1.5.0",
          "state": {
            "_model_module": "@jupyter-widgets/controls",
            "_model_module_version": "1.5.0",
            "_model_name": "DescriptionStyleModel",
            "_view_count": null,
            "_view_module": "@jupyter-widgets/base",
            "_view_module_version": "1.2.0",
            "_view_name": "StyleView",
            "description_width": ""
          }
        },
        "18a74418db1c47f9942e2c6946f08887": {
          "model_module": "@jupyter-widgets/base",
          "model_name": "LayoutModel",
          "model_module_version": "1.2.0",
          "state": {
            "_model_module": "@jupyter-widgets/base",
            "_model_module_version": "1.2.0",
            "_model_name": "LayoutModel",
            "_view_count": null,
            "_view_module": "@jupyter-widgets/base",
            "_view_module_version": "1.2.0",
            "_view_name": "LayoutView",
            "align_content": null,
            "align_items": null,
            "align_self": null,
            "border": null,
            "bottom": null,
            "display": null,
            "flex": null,
            "flex_flow": null,
            "grid_area": null,
            "grid_auto_columns": null,
            "grid_auto_flow": null,
            "grid_auto_rows": null,
            "grid_column": null,
            "grid_gap": null,
            "grid_row": null,
            "grid_template_areas": null,
            "grid_template_columns": null,
            "grid_template_rows": null,
            "height": null,
            "justify_content": null,
            "justify_items": null,
            "left": null,
            "margin": null,
            "max_height": null,
            "max_width": null,
            "min_height": null,
            "min_width": null,
            "object_fit": null,
            "object_position": null,
            "order": null,
            "overflow": null,
            "overflow_x": null,
            "overflow_y": null,
            "padding": null,
            "right": null,
            "top": null,
            "visibility": null,
            "width": null
          }
        },
        "a8e4d6ac18c9400aa808eb591e9d71d2": {
          "model_module": "@jupyter-widgets/controls",
          "model_name": "ProgressStyleModel",
          "model_module_version": "1.5.0",
          "state": {
            "_model_module": "@jupyter-widgets/controls",
            "_model_module_version": "1.5.0",
            "_model_name": "ProgressStyleModel",
            "_view_count": null,
            "_view_module": "@jupyter-widgets/base",
            "_view_module_version": "1.2.0",
            "_view_name": "StyleView",
            "bar_color": null,
            "description_width": ""
          }
        },
        "977816fded1e49149542da046f09e8da": {
          "model_module": "@jupyter-widgets/base",
          "model_name": "LayoutModel",
          "model_module_version": "1.2.0",
          "state": {
            "_model_module": "@jupyter-widgets/base",
            "_model_module_version": "1.2.0",
            "_model_name": "LayoutModel",
            "_view_count": null,
            "_view_module": "@jupyter-widgets/base",
            "_view_module_version": "1.2.0",
            "_view_name": "LayoutView",
            "align_content": null,
            "align_items": null,
            "align_self": null,
            "border": null,
            "bottom": null,
            "display": null,
            "flex": null,
            "flex_flow": null,
            "grid_area": null,
            "grid_auto_columns": null,
            "grid_auto_flow": null,
            "grid_auto_rows": null,
            "grid_column": null,
            "grid_gap": null,
            "grid_row": null,
            "grid_template_areas": null,
            "grid_template_columns": null,
            "grid_template_rows": null,
            "height": null,
            "justify_content": null,
            "justify_items": null,
            "left": null,
            "margin": null,
            "max_height": null,
            "max_width": null,
            "min_height": null,
            "min_width": null,
            "object_fit": null,
            "object_position": null,
            "order": null,
            "overflow": null,
            "overflow_x": null,
            "overflow_y": null,
            "padding": null,
            "right": null,
            "top": null,
            "visibility": null,
            "width": null
          }
        },
        "c412912a9d6440a0b05cd15cab3a1b16": {
          "model_module": "@jupyter-widgets/controls",
          "model_name": "DescriptionStyleModel",
          "model_module_version": "1.5.0",
          "state": {
            "_model_module": "@jupyter-widgets/controls",
            "_model_module_version": "1.5.0",
            "_model_name": "DescriptionStyleModel",
            "_view_count": null,
            "_view_module": "@jupyter-widgets/base",
            "_view_module_version": "1.2.0",
            "_view_name": "StyleView",
            "description_width": ""
          }
        },
        "50be28c1643f4691a10e2986078aa116": {
          "model_module": "@jupyter-widgets/controls",
          "model_name": "HBoxModel",
          "model_module_version": "1.5.0",
          "state": {
            "_dom_classes": [],
            "_model_module": "@jupyter-widgets/controls",
            "_model_module_version": "1.5.0",
            "_model_name": "HBoxModel",
            "_view_count": null,
            "_view_module": "@jupyter-widgets/controls",
            "_view_module_version": "1.5.0",
            "_view_name": "HBoxView",
            "box_style": "",
            "children": [
              "IPY_MODEL_cf57646f679349d59c225a2deadcb18c",
              "IPY_MODEL_a750fc4d4e584997a7aea79d7807c3df",
              "IPY_MODEL_e1b1420b68884f959c7be643af164298"
            ],
            "layout": "IPY_MODEL_d35614cd8e0c4a3091f5bed21d332d5a"
          }
        },
        "cf57646f679349d59c225a2deadcb18c": {
          "model_module": "@jupyter-widgets/controls",
          "model_name": "HTMLModel",
          "model_module_version": "1.5.0",
          "state": {
            "_dom_classes": [],
            "_model_module": "@jupyter-widgets/controls",
            "_model_module_version": "1.5.0",
            "_model_name": "HTMLModel",
            "_view_count": null,
            "_view_module": "@jupyter-widgets/controls",
            "_view_module_version": "1.5.0",
            "_view_name": "HTMLView",
            "description": "",
            "description_tooltip": null,
            "layout": "IPY_MODEL_415a5c519fae4f298c8d412434328ace",
            "placeholder": "​",
            "style": "IPY_MODEL_c845a04e628c44d8bd633fbc31314a59",
            "value": "Downloading: 100%"
          }
        },
        "a750fc4d4e584997a7aea79d7807c3df": {
          "model_module": "@jupyter-widgets/controls",
          "model_name": "FloatProgressModel",
          "model_module_version": "1.5.0",
          "state": {
            "_dom_classes": [],
            "_model_module": "@jupyter-widgets/controls",
            "_model_module_version": "1.5.0",
            "_model_name": "FloatProgressModel",
            "_view_count": null,
            "_view_module": "@jupyter-widgets/controls",
            "_view_module_version": "1.5.0",
            "_view_name": "ProgressView",
            "bar_style": "success",
            "description": "",
            "description_tooltip": null,
            "layout": "IPY_MODEL_0436ea18f33846a0ba319f92e05db598",
            "max": 1083389348,
            "min": 0,
            "orientation": "horizontal",
            "style": "IPY_MODEL_8fdce8287d464aca9d878b87d15d2916",
            "value": 1083389348
          }
        },
        "e1b1420b68884f959c7be643af164298": {
          "model_module": "@jupyter-widgets/controls",
          "model_name": "HTMLModel",
          "model_module_version": "1.5.0",
          "state": {
            "_dom_classes": [],
            "_model_module": "@jupyter-widgets/controls",
            "_model_module_version": "1.5.0",
            "_model_name": "HTMLModel",
            "_view_count": null,
            "_view_module": "@jupyter-widgets/controls",
            "_view_module_version": "1.5.0",
            "_view_name": "HTMLView",
            "description": "",
            "description_tooltip": null,
            "layout": "IPY_MODEL_27f86b0990624afcb5383dcbc57ee4fa",
            "placeholder": "​",
            "style": "IPY_MODEL_67c52b01765b486fb5e45c6d301aa23e",
            "value": " 1.08G/1.08G [00:14&lt;00:00, 75.5MB/s]"
          }
        },
        "d35614cd8e0c4a3091f5bed21d332d5a": {
          "model_module": "@jupyter-widgets/base",
          "model_name": "LayoutModel",
          "model_module_version": "1.2.0",
          "state": {
            "_model_module": "@jupyter-widgets/base",
            "_model_module_version": "1.2.0",
            "_model_name": "LayoutModel",
            "_view_count": null,
            "_view_module": "@jupyter-widgets/base",
            "_view_module_version": "1.2.0",
            "_view_name": "LayoutView",
            "align_content": null,
            "align_items": null,
            "align_self": null,
            "border": null,
            "bottom": null,
            "display": null,
            "flex": null,
            "flex_flow": null,
            "grid_area": null,
            "grid_auto_columns": null,
            "grid_auto_flow": null,
            "grid_auto_rows": null,
            "grid_column": null,
            "grid_gap": null,
            "grid_row": null,
            "grid_template_areas": null,
            "grid_template_columns": null,
            "grid_template_rows": null,
            "height": null,
            "justify_content": null,
            "justify_items": null,
            "left": null,
            "margin": null,
            "max_height": null,
            "max_width": null,
            "min_height": null,
            "min_width": null,
            "object_fit": null,
            "object_position": null,
            "order": null,
            "overflow": null,
            "overflow_x": null,
            "overflow_y": null,
            "padding": null,
            "right": null,
            "top": null,
            "visibility": null,
            "width": null
          }
        },
        "415a5c519fae4f298c8d412434328ace": {
          "model_module": "@jupyter-widgets/base",
          "model_name": "LayoutModel",
          "model_module_version": "1.2.0",
          "state": {
            "_model_module": "@jupyter-widgets/base",
            "_model_module_version": "1.2.0",
            "_model_name": "LayoutModel",
            "_view_count": null,
            "_view_module": "@jupyter-widgets/base",
            "_view_module_version": "1.2.0",
            "_view_name": "LayoutView",
            "align_content": null,
            "align_items": null,
            "align_self": null,
            "border": null,
            "bottom": null,
            "display": null,
            "flex": null,
            "flex_flow": null,
            "grid_area": null,
            "grid_auto_columns": null,
            "grid_auto_flow": null,
            "grid_auto_rows": null,
            "grid_column": null,
            "grid_gap": null,
            "grid_row": null,
            "grid_template_areas": null,
            "grid_template_columns": null,
            "grid_template_rows": null,
            "height": null,
            "justify_content": null,
            "justify_items": null,
            "left": null,
            "margin": null,
            "max_height": null,
            "max_width": null,
            "min_height": null,
            "min_width": null,
            "object_fit": null,
            "object_position": null,
            "order": null,
            "overflow": null,
            "overflow_x": null,
            "overflow_y": null,
            "padding": null,
            "right": null,
            "top": null,
            "visibility": null,
            "width": null
          }
        },
        "c845a04e628c44d8bd633fbc31314a59": {
          "model_module": "@jupyter-widgets/controls",
          "model_name": "DescriptionStyleModel",
          "model_module_version": "1.5.0",
          "state": {
            "_model_module": "@jupyter-widgets/controls",
            "_model_module_version": "1.5.0",
            "_model_name": "DescriptionStyleModel",
            "_view_count": null,
            "_view_module": "@jupyter-widgets/base",
            "_view_module_version": "1.2.0",
            "_view_name": "StyleView",
            "description_width": ""
          }
        },
        "0436ea18f33846a0ba319f92e05db598": {
          "model_module": "@jupyter-widgets/base",
          "model_name": "LayoutModel",
          "model_module_version": "1.2.0",
          "state": {
            "_model_module": "@jupyter-widgets/base",
            "_model_module_version": "1.2.0",
            "_model_name": "LayoutModel",
            "_view_count": null,
            "_view_module": "@jupyter-widgets/base",
            "_view_module_version": "1.2.0",
            "_view_name": "LayoutView",
            "align_content": null,
            "align_items": null,
            "align_self": null,
            "border": null,
            "bottom": null,
            "display": null,
            "flex": null,
            "flex_flow": null,
            "grid_area": null,
            "grid_auto_columns": null,
            "grid_auto_flow": null,
            "grid_auto_rows": null,
            "grid_column": null,
            "grid_gap": null,
            "grid_row": null,
            "grid_template_areas": null,
            "grid_template_columns": null,
            "grid_template_rows": null,
            "height": null,
            "justify_content": null,
            "justify_items": null,
            "left": null,
            "margin": null,
            "max_height": null,
            "max_width": null,
            "min_height": null,
            "min_width": null,
            "object_fit": null,
            "object_position": null,
            "order": null,
            "overflow": null,
            "overflow_x": null,
            "overflow_y": null,
            "padding": null,
            "right": null,
            "top": null,
            "visibility": null,
            "width": null
          }
        },
        "8fdce8287d464aca9d878b87d15d2916": {
          "model_module": "@jupyter-widgets/controls",
          "model_name": "ProgressStyleModel",
          "model_module_version": "1.5.0",
          "state": {
            "_model_module": "@jupyter-widgets/controls",
            "_model_module_version": "1.5.0",
            "_model_name": "ProgressStyleModel",
            "_view_count": null,
            "_view_module": "@jupyter-widgets/base",
            "_view_module_version": "1.2.0",
            "_view_name": "StyleView",
            "bar_color": null,
            "description_width": ""
          }
        },
        "27f86b0990624afcb5383dcbc57ee4fa": {
          "model_module": "@jupyter-widgets/base",
          "model_name": "LayoutModel",
          "model_module_version": "1.2.0",
          "state": {
            "_model_module": "@jupyter-widgets/base",
            "_model_module_version": "1.2.0",
            "_model_name": "LayoutModel",
            "_view_count": null,
            "_view_module": "@jupyter-widgets/base",
            "_view_module_version": "1.2.0",
            "_view_name": "LayoutView",
            "align_content": null,
            "align_items": null,
            "align_self": null,
            "border": null,
            "bottom": null,
            "display": null,
            "flex": null,
            "flex_flow": null,
            "grid_area": null,
            "grid_auto_columns": null,
            "grid_auto_flow": null,
            "grid_auto_rows": null,
            "grid_column": null,
            "grid_gap": null,
            "grid_row": null,
            "grid_template_areas": null,
            "grid_template_columns": null,
            "grid_template_rows": null,
            "height": null,
            "justify_content": null,
            "justify_items": null,
            "left": null,
            "margin": null,
            "max_height": null,
            "max_width": null,
            "min_height": null,
            "min_width": null,
            "object_fit": null,
            "object_position": null,
            "order": null,
            "overflow": null,
            "overflow_x": null,
            "overflow_y": null,
            "padding": null,
            "right": null,
            "top": null,
            "visibility": null,
            "width": null
          }
        },
        "67c52b01765b486fb5e45c6d301aa23e": {
          "model_module": "@jupyter-widgets/controls",
          "model_name": "DescriptionStyleModel",
          "model_module_version": "1.5.0",
          "state": {
            "_model_module": "@jupyter-widgets/controls",
            "_model_module_version": "1.5.0",
            "_model_name": "DescriptionStyleModel",
            "_view_count": null,
            "_view_module": "@jupyter-widgets/base",
            "_view_module_version": "1.2.0",
            "_view_name": "StyleView",
            "description_width": ""
          }
        }
      }
    }
  },
  "nbformat": 4,
  "nbformat_minor": 0
}