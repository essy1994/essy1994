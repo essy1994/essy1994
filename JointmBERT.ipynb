{
  "cells": [
    {
      "cell_type": "markdown",
      "metadata": {
        "id": "view-in-github",
        "colab_type": "text"
      },
      "source": [
        "<a href=\"https://colab.research.google.com/github/essy1994/essy1994/blob/master/JointmBERT.ipynb\" target=\"_parent\"><img src=\"https://colab.research.google.com/assets/colab-badge.svg\" alt=\"Open In Colab\"/></a>"
      ]
    },
    {
      "cell_type": "code",
      "execution_count": null,
      "metadata": {
        "colab": {
          "base_uri": "https://localhost:8080/"
        },
        "id": "AWusIgdObskV",
        "outputId": "27f04353-97ed-4014-c53d-4c0df088004d"
      },
      "outputs": [
        {
          "name": "stdout",
          "output_type": "stream",
          "text": [
            "Mounted at /content/drive\n"
          ]
        }
      ],
      "source": [
        "from google.colab import drive\n",
        "drive.mount('/content/drive')"
      ]
    },
    {
      "cell_type": "code",
      "execution_count": null,
      "metadata": {
        "id": "FRIrLtyAkO2u"
      },
      "outputs": [],
      "source": [
        "# !nvidia-smi"
      ]
    },
    {
      "cell_type": "code",
      "execution_count": null,
      "metadata": {
        "colab": {
          "base_uri": "https://localhost:8080/"
        },
        "id": "nOowDdspRyUc",
        "outputId": "caf84ac2-53de-4b38-862a-c8f13b841b97"
      },
      "outputs": [
        {
          "name": "stdout",
          "output_type": "stream",
          "text": [
            "\u001b[?25l\r\u001b[K     |███████▌                        | 10 kB 30.8 MB/s eta 0:00:01\r\u001b[K     |███████████████                 | 20 kB 36.0 MB/s eta 0:00:01\r\u001b[K     |██████████████████████▌         | 30 kB 42.1 MB/s eta 0:00:01\r\u001b[K     |██████████████████████████████  | 40 kB 37.6 MB/s eta 0:00:01\r\u001b[K     |████████████████████████████████| 43 kB 2.1 MB/s \n",
            "\u001b[?25h  Building wheel for seqeval (setup.py) ... \u001b[?25l\u001b[?25hdone\n",
            "\u001b[K     |████████████████████████████████| 674 kB 25.1 MB/s \n",
            "\u001b[K     |████████████████████████████████| 880 kB 61.2 MB/s \n",
            "\u001b[K     |████████████████████████████████| 7.5 MB 60.7 MB/s \n",
            "\u001b[K     |████████████████████████████████| 1.3 MB 62.2 MB/s \n",
            "\u001b[?25h  Building wheel for sacremoses (setup.py) ... \u001b[?25l\u001b[?25hdone\n"
          ]
        }
      ],
      "source": [
        "!pip install seqeval -qqq\n",
        "# TODO: update this notebook to work with the latest version of transformers\n",
        "!pip install -q transformers==2.11.0"
      ]
    },
    {
      "cell_type": "code",
      "execution_count": null,
      "metadata": {
        "colab": {
          "base_uri": "https://localhost:8080/",
          "height": 35
        },
        "id": "jfbzohmskRzZ",
        "outputId": "ad530b30-f649-4362-a73e-79de9d5881b8"
      },
      "outputs": [
        {
          "data": {
            "application/vnd.google.colaboratory.intrinsic+json": {
              "type": "string"
            },
            "text/plain": [
              "'2.9.2'"
            ]
          },
          "execution_count": 4,
          "metadata": {},
          "output_type": "execute_result"
        }
      ],
      "source": [
        "import tensorflow as tf\n",
        "tf.__version__"
      ]
    },
    {
      "cell_type": "markdown",
      "metadata": {
        "id": "XUIbeqcldJiX"
      },
      "source": [
        "#Importing Libraries"
      ]
    },
    {
      "cell_type": "code",
      "execution_count": null,
      "metadata": {
        "id": "jbhE0jzNRvJk"
      },
      "outputs": [],
      "source": [
        "import os\n",
        "from tqdm import tqdm\n",
        "import pandas as pd\n",
        "import numpy as np\n",
        "from sklearn.preprocessing import LabelEncoder\n",
        "from transformers import BertTokenizer, TFBertModel\n",
        "import warnings\n",
        "warnings.filterwarnings('ignore')\n",
        "from tensorflow.keras.layers import Dropout, Dense\n",
        "from tensorflow.keras.optimizers import Adam\n",
        "from tensorflow.keras.losses import SparseCategoricalCrossentropy\n",
        "from tensorflow.keras.metrics import SparseCategoricalAccuracy\n",
        "from tensorflow.keras.preprocessing.text import Tokenizer\n",
        "from tensorflow.keras.callbacks import EarlyStopping, ReduceLROnPlateau, LearningRateScheduler, ModelCheckpoint, TensorBoard\n",
        "from seqeval.metrics import classification_report\n",
        "from transformers import TFAutoModel\n",
        "from tensorflow.keras.layers import Dropout, Dense\n",
        "import matplotlib.pyplot as plt\n",
        "from tensorflow.keras.optimizers import Adam\n",
        "from tensorflow.keras.losses import SparseCategoricalCrossentropy\n",
        "from tensorflow.keras.metrics import SparseCategoricalAccuracy\n",
        "import shutil\n",
        "import pickle\n",
        "from seqeval.metrics import classification_report\n",
        "\n",
        "from sklearn.model_selection import train_test_split\n",
        "\n",
        "from sklearn.metrics import accuracy_score, precision_score, recall_score"
      ]
    },
    {
      "cell_type": "markdown",
      "metadata": {
        "id": "JcQruOIhbL__"
      },
      "source": [
        "#Loading Data"
      ]
    },
    {
      "cell_type": "code",
      "execution_count": null,
      "metadata": {
        "id": "BvOfTo0c0Be-"
      },
      "outputs": [],
      "source": [
        "df = pd.read_excel(\"/content/drive/MyDrive/JP Morgan/Data/translated_set/corrected slot labels data/translated_swa_test_slot_labels.xlsx\")"
      ]
    },
    {
      "cell_type": "code",
      "execution_count": null,
      "metadata": {
        "colab": {
          "base_uri": "https://localhost:8080/"
        },
        "id": "3Ft3m8KlFfnp",
        "outputId": "01a3e490-5a16-41c0-970c-fb19d45955bb"
      },
      "outputs": [
        {
          "data": {
            "text/plain": [
              "(893, 6)"
            ]
          },
          "execution_count": 17,
          "metadata": {},
          "output_type": "execute_result"
        }
      ],
      "source": [
        "df.shape"
      ]
    },
    {
      "cell_type": "code",
      "execution_count": null,
      "metadata": {
        "colab": {
          "base_uri": "https://localhost:8080/",
          "height": 208
        },
        "id": "4WiJmwg_vS2k",
        "outputId": "92ae7031-cd4d-4eec-9bfe-19f118f1a307"
      },
      "outputs": [
        {
          "data": {
            "text/html": [
              "\n",
              "  <div id=\"df-ff9f13e1-46a4-4c47-83e7-3ee9fbeb39a2\">\n",
              "    <div class=\"colab-df-container\">\n",
              "      <div>\n",
              "<style scoped>\n",
              "    .dataframe tbody tr th:only-of-type {\n",
              "        vertical-align: middle;\n",
              "    }\n",
              "\n",
              "    .dataframe tbody tr th {\n",
              "        vertical-align: top;\n",
              "    }\n",
              "\n",
              "    .dataframe thead th {\n",
              "        text-align: right;\n",
              "    }\n",
              "</style>\n",
              "<table border=\"1\" class=\"dataframe\">\n",
              "  <thead>\n",
              "    <tr style=\"text-align: right;\">\n",
              "      <th></th>\n",
              "      <th>utterance</th>\n",
              "      <th>slot_labels</th>\n",
              "      <th>intent</th>\n",
              "      <th>utterance_swa</th>\n",
              "      <th>slot_labels_swa</th>\n",
              "      <th>intent_swa</th>\n",
              "    </tr>\n",
              "  </thead>\n",
              "  <tbody>\n",
              "    <tr>\n",
              "      <th>0</th>\n",
              "      <td>what are the flights from tacoma to miami that...</td>\n",
              "      <td>O O O O O B-fromloc.city_name O B-toloc.city_n...</td>\n",
              "      <td>flight</td>\n",
              "      <td>ni safari gani za ndege kutoka tacoma hadi mia...</td>\n",
              "      <td>O O O O O O B-kutoka_mji_jina O B-hadi_mji_jin...</td>\n",
              "      <td>ndege</td>\n",
              "    </tr>\n",
              "    <tr>\n",
              "      <th>1</th>\n",
              "      <td>what flights arrive at love field on june sixth</td>\n",
              "      <td>O O O O B-toloc.airport_name I-toloc.airport_n...</td>\n",
              "      <td>flight</td>\n",
              "      <td>ni ndege gani zinazofika kwenye uwanja wa love...</td>\n",
              "      <td>O O O O O O O B-hadi_uwanja_wa_ndege_jina I-ha...</td>\n",
              "      <td>ndege</td>\n",
              "    </tr>\n",
              "  </tbody>\n",
              "</table>\n",
              "</div>\n",
              "      <button class=\"colab-df-convert\" onclick=\"convertToInteractive('df-ff9f13e1-46a4-4c47-83e7-3ee9fbeb39a2')\"\n",
              "              title=\"Convert this dataframe to an interactive table.\"\n",
              "              style=\"display:none;\">\n",
              "        \n",
              "  <svg xmlns=\"http://www.w3.org/2000/svg\" height=\"24px\"viewBox=\"0 0 24 24\"\n",
              "       width=\"24px\">\n",
              "    <path d=\"M0 0h24v24H0V0z\" fill=\"none\"/>\n",
              "    <path d=\"M18.56 5.44l.94 2.06.94-2.06 2.06-.94-2.06-.94-.94-2.06-.94 2.06-2.06.94zm-11 1L8.5 8.5l.94-2.06 2.06-.94-2.06-.94L8.5 2.5l-.94 2.06-2.06.94zm10 10l.94 2.06.94-2.06 2.06-.94-2.06-.94-.94-2.06-.94 2.06-2.06.94z\"/><path d=\"M17.41 7.96l-1.37-1.37c-.4-.4-.92-.59-1.43-.59-.52 0-1.04.2-1.43.59L10.3 9.45l-7.72 7.72c-.78.78-.78 2.05 0 2.83L4 21.41c.39.39.9.59 1.41.59.51 0 1.02-.2 1.41-.59l7.78-7.78 2.81-2.81c.8-.78.8-2.07 0-2.86zM5.41 20L4 18.59l7.72-7.72 1.47 1.35L5.41 20z\"/>\n",
              "  </svg>\n",
              "      </button>\n",
              "      \n",
              "  <style>\n",
              "    .colab-df-container {\n",
              "      display:flex;\n",
              "      flex-wrap:wrap;\n",
              "      gap: 12px;\n",
              "    }\n",
              "\n",
              "    .colab-df-convert {\n",
              "      background-color: #E8F0FE;\n",
              "      border: none;\n",
              "      border-radius: 50%;\n",
              "      cursor: pointer;\n",
              "      display: none;\n",
              "      fill: #1967D2;\n",
              "      height: 32px;\n",
              "      padding: 0 0 0 0;\n",
              "      width: 32px;\n",
              "    }\n",
              "\n",
              "    .colab-df-convert:hover {\n",
              "      background-color: #E2EBFA;\n",
              "      box-shadow: 0px 1px 2px rgba(60, 64, 67, 0.3), 0px 1px 3px 1px rgba(60, 64, 67, 0.15);\n",
              "      fill: #174EA6;\n",
              "    }\n",
              "\n",
              "    [theme=dark] .colab-df-convert {\n",
              "      background-color: #3B4455;\n",
              "      fill: #D2E3FC;\n",
              "    }\n",
              "\n",
              "    [theme=dark] .colab-df-convert:hover {\n",
              "      background-color: #434B5C;\n",
              "      box-shadow: 0px 1px 3px 1px rgba(0, 0, 0, 0.15);\n",
              "      filter: drop-shadow(0px 1px 2px rgba(0, 0, 0, 0.3));\n",
              "      fill: #FFFFFF;\n",
              "    }\n",
              "  </style>\n",
              "\n",
              "      <script>\n",
              "        const buttonEl =\n",
              "          document.querySelector('#df-ff9f13e1-46a4-4c47-83e7-3ee9fbeb39a2 button.colab-df-convert');\n",
              "        buttonEl.style.display =\n",
              "          google.colab.kernel.accessAllowed ? 'block' : 'none';\n",
              "\n",
              "        async function convertToInteractive(key) {\n",
              "          const element = document.querySelector('#df-ff9f13e1-46a4-4c47-83e7-3ee9fbeb39a2');\n",
              "          const dataTable =\n",
              "            await google.colab.kernel.invokeFunction('convertToInteractive',\n",
              "                                                     [key], {});\n",
              "          if (!dataTable) return;\n",
              "\n",
              "          const docLinkHtml = 'Like what you see? Visit the ' +\n",
              "            '<a target=\"_blank\" href=https://colab.research.google.com/notebooks/data_table.ipynb>data table notebook</a>'\n",
              "            + ' to learn more about interactive tables.';\n",
              "          element.innerHTML = '';\n",
              "          dataTable['output_type'] = 'display_data';\n",
              "          await google.colab.output.renderOutput(dataTable, element);\n",
              "          const docLink = document.createElement('div');\n",
              "          docLink.innerHTML = docLinkHtml;\n",
              "          element.appendChild(docLink);\n",
              "        }\n",
              "      </script>\n",
              "    </div>\n",
              "  </div>\n",
              "  "
            ],
            "text/plain": [
              "                                           utterance  \\\n",
              "0  what are the flights from tacoma to miami that...   \n",
              "1    what flights arrive at love field on june sixth   \n",
              "\n",
              "                                         slot_labels  intent  \\\n",
              "0  O O O O O B-fromloc.city_name O B-toloc.city_n...  flight   \n",
              "1  O O O O B-toloc.airport_name I-toloc.airport_n...  flight   \n",
              "\n",
              "                                       utterance_swa  \\\n",
              "0  ni safari gani za ndege kutoka tacoma hadi mia...   \n",
              "1  ni ndege gani zinazofika kwenye uwanja wa love...   \n",
              "\n",
              "                                     slot_labels_swa intent_swa  \n",
              "0  O O O O O O B-kutoka_mji_jina O B-hadi_mji_jin...      ndege  \n",
              "1  O O O O O O O B-hadi_uwanja_wa_ndege_jina I-ha...      ndege  "
            ]
          },
          "execution_count": 18,
          "metadata": {},
          "output_type": "execute_result"
        }
      ],
      "source": [
        "df.head(2)"
      ]
    },
    {
      "cell_type": "code",
      "execution_count": null,
      "metadata": {
        "id": "rxtwtVrrhRdg"
      },
      "outputs": [],
      "source": [
        "df.rename(columns = {'utterance_swa\t':'words','slot_labels_swa':'word_labels','intent_swa':'intent_label'}, inplace = True)"
      ]
    },
    {
      "cell_type": "code",
      "execution_count": null,
      "metadata": {
        "id": "NjiUuXsrHzI2"
      },
      "outputs": [],
      "source": [
        "# df.head(2)"
      ]
    },
    {
      "cell_type": "code",
      "execution_count": null,
      "metadata": {
        "colab": {
          "base_uri": "https://localhost:8080/",
          "height": 208
        },
        "id": "oA3453r9hjXf",
        "outputId": "c32cf2b1-16ee-43f5-c7ca-6fb9f89f176a"
      },
      "outputs": [
        {
          "data": {
            "text/html": [
              "\n",
              "  <div id=\"df-5ad1797b-9515-4862-91e5-943d15e9aca0\">\n",
              "    <div class=\"colab-df-container\">\n",
              "      <div>\n",
              "<style scoped>\n",
              "    .dataframe tbody tr th:only-of-type {\n",
              "        vertical-align: middle;\n",
              "    }\n",
              "\n",
              "    .dataframe tbody tr th {\n",
              "        vertical-align: top;\n",
              "    }\n",
              "\n",
              "    .dataframe thead th {\n",
              "        text-align: right;\n",
              "    }\n",
              "</style>\n",
              "<table border=\"1\" class=\"dataframe\">\n",
              "  <thead>\n",
              "    <tr style=\"text-align: right;\">\n",
              "      <th></th>\n",
              "      <th>utterance</th>\n",
              "      <th>slot_labels</th>\n",
              "      <th>intent</th>\n",
              "      <th>word_labels</th>\n",
              "      <th>intent_label</th>\n",
              "      <th>words</th>\n",
              "    </tr>\n",
              "  </thead>\n",
              "  <tbody>\n",
              "    <tr>\n",
              "      <th>0</th>\n",
              "      <td>what are the flights from tacoma to miami that...</td>\n",
              "      <td>O O O O O B-fromloc.city_name O B-toloc.city_n...</td>\n",
              "      <td>flight</td>\n",
              "      <td>O O O O O O B-kutoka_mji_jina O B-hadi_mji_jin...</td>\n",
              "      <td>ndege</td>\n",
              "      <td>ni safari gani za ndege kutoka tacoma hadi mia...</td>\n",
              "    </tr>\n",
              "    <tr>\n",
              "      <th>1</th>\n",
              "      <td>what flights arrive at love field on june sixth</td>\n",
              "      <td>O O O O B-toloc.airport_name I-toloc.airport_n...</td>\n",
              "      <td>flight</td>\n",
              "      <td>O O O O O O O B-hadi_uwanja_wa_ndege_jina I-ha...</td>\n",
              "      <td>ndege</td>\n",
              "      <td>ni ndege gani zinazofika kwenye uwanja wa love...</td>\n",
              "    </tr>\n",
              "  </tbody>\n",
              "</table>\n",
              "</div>\n",
              "      <button class=\"colab-df-convert\" onclick=\"convertToInteractive('df-5ad1797b-9515-4862-91e5-943d15e9aca0')\"\n",
              "              title=\"Convert this dataframe to an interactive table.\"\n",
              "              style=\"display:none;\">\n",
              "        \n",
              "  <svg xmlns=\"http://www.w3.org/2000/svg\" height=\"24px\"viewBox=\"0 0 24 24\"\n",
              "       width=\"24px\">\n",
              "    <path d=\"M0 0h24v24H0V0z\" fill=\"none\"/>\n",
              "    <path d=\"M18.56 5.44l.94 2.06.94-2.06 2.06-.94-2.06-.94-.94-2.06-.94 2.06-2.06.94zm-11 1L8.5 8.5l.94-2.06 2.06-.94-2.06-.94L8.5 2.5l-.94 2.06-2.06.94zm10 10l.94 2.06.94-2.06 2.06-.94-2.06-.94-.94-2.06-.94 2.06-2.06.94z\"/><path d=\"M17.41 7.96l-1.37-1.37c-.4-.4-.92-.59-1.43-.59-.52 0-1.04.2-1.43.59L10.3 9.45l-7.72 7.72c-.78.78-.78 2.05 0 2.83L4 21.41c.39.39.9.59 1.41.59.51 0 1.02-.2 1.41-.59l7.78-7.78 2.81-2.81c.8-.78.8-2.07 0-2.86zM5.41 20L4 18.59l7.72-7.72 1.47 1.35L5.41 20z\"/>\n",
              "  </svg>\n",
              "      </button>\n",
              "      \n",
              "  <style>\n",
              "    .colab-df-container {\n",
              "      display:flex;\n",
              "      flex-wrap:wrap;\n",
              "      gap: 12px;\n",
              "    }\n",
              "\n",
              "    .colab-df-convert {\n",
              "      background-color: #E8F0FE;\n",
              "      border: none;\n",
              "      border-radius: 50%;\n",
              "      cursor: pointer;\n",
              "      display: none;\n",
              "      fill: #1967D2;\n",
              "      height: 32px;\n",
              "      padding: 0 0 0 0;\n",
              "      width: 32px;\n",
              "    }\n",
              "\n",
              "    .colab-df-convert:hover {\n",
              "      background-color: #E2EBFA;\n",
              "      box-shadow: 0px 1px 2px rgba(60, 64, 67, 0.3), 0px 1px 3px 1px rgba(60, 64, 67, 0.15);\n",
              "      fill: #174EA6;\n",
              "    }\n",
              "\n",
              "    [theme=dark] .colab-df-convert {\n",
              "      background-color: #3B4455;\n",
              "      fill: #D2E3FC;\n",
              "    }\n",
              "\n",
              "    [theme=dark] .colab-df-convert:hover {\n",
              "      background-color: #434B5C;\n",
              "      box-shadow: 0px 1px 3px 1px rgba(0, 0, 0, 0.15);\n",
              "      filter: drop-shadow(0px 1px 2px rgba(0, 0, 0, 0.3));\n",
              "      fill: #FFFFFF;\n",
              "    }\n",
              "  </style>\n",
              "\n",
              "      <script>\n",
              "        const buttonEl =\n",
              "          document.querySelector('#df-5ad1797b-9515-4862-91e5-943d15e9aca0 button.colab-df-convert');\n",
              "        buttonEl.style.display =\n",
              "          google.colab.kernel.accessAllowed ? 'block' : 'none';\n",
              "\n",
              "        async function convertToInteractive(key) {\n",
              "          const element = document.querySelector('#df-5ad1797b-9515-4862-91e5-943d15e9aca0');\n",
              "          const dataTable =\n",
              "            await google.colab.kernel.invokeFunction('convertToInteractive',\n",
              "                                                     [key], {});\n",
              "          if (!dataTable) return;\n",
              "\n",
              "          const docLinkHtml = 'Like what you see? Visit the ' +\n",
              "            '<a target=\"_blank\" href=https://colab.research.google.com/notebooks/data_table.ipynb>data table notebook</a>'\n",
              "            + ' to learn more about interactive tables.';\n",
              "          element.innerHTML = '';\n",
              "          dataTable['output_type'] = 'display_data';\n",
              "          await google.colab.output.renderOutput(dataTable, element);\n",
              "          const docLink = document.createElement('div');\n",
              "          docLink.innerHTML = docLinkHtml;\n",
              "          element.appendChild(docLink);\n",
              "        }\n",
              "      </script>\n",
              "    </div>\n",
              "  </div>\n",
              "  "
            ],
            "text/plain": [
              "                                           utterance  \\\n",
              "0  what are the flights from tacoma to miami that...   \n",
              "1    what flights arrive at love field on june sixth   \n",
              "\n",
              "                                         slot_labels  intent  \\\n",
              "0  O O O O O B-fromloc.city_name O B-toloc.city_n...  flight   \n",
              "1  O O O O B-toloc.airport_name I-toloc.airport_n...  flight   \n",
              "\n",
              "                                         word_labels intent_label  \\\n",
              "0  O O O O O O B-kutoka_mji_jina O B-hadi_mji_jin...        ndege   \n",
              "1  O O O O O O O B-hadi_uwanja_wa_ndege_jina I-ha...        ndege   \n",
              "\n",
              "                                               words  \n",
              "0  ni safari gani za ndege kutoka tacoma hadi mia...  \n",
              "1  ni ndege gani zinazofika kwenye uwanja wa love...  "
            ]
          },
          "execution_count": 22,
          "metadata": {},
          "output_type": "execute_result"
        }
      ],
      "source": [
        "df[\"words\"] = df[\"utterance_swa\"]\n",
        "del df[\"utterance_swa\"]\n",
        "df.head(2)"
      ]
    },
    {
      "cell_type": "code",
      "execution_count": null,
      "metadata": {
        "id": "qJEzCeu2H823"
      },
      "outputs": [],
      "source": [
        "# df.head(2)"
      ]
    },
    {
      "cell_type": "code",
      "execution_count": null,
      "metadata": {
        "id": "QH1bhCNBcaE6"
      },
      "outputs": [],
      "source": [
        "df_train, df_valid = train_test_split(df, test_size=0.2)"
      ]
    },
    {
      "cell_type": "code",
      "execution_count": null,
      "metadata": {
        "colab": {
          "base_uri": "https://localhost:8080/",
          "height": 208
        },
        "id": "t58xcFNfcmzI",
        "outputId": "24177822-520b-438d-fd88-2935c4191609"
      },
      "outputs": [
        {
          "data": {
            "text/html": [
              "\n",
              "  <div id=\"df-92c842c8-00ae-4492-84bf-83d2cc7f0460\">\n",
              "    <div class=\"colab-df-container\">\n",
              "      <div>\n",
              "<style scoped>\n",
              "    .dataframe tbody tr th:only-of-type {\n",
              "        vertical-align: middle;\n",
              "    }\n",
              "\n",
              "    .dataframe tbody tr th {\n",
              "        vertical-align: top;\n",
              "    }\n",
              "\n",
              "    .dataframe thead th {\n",
              "        text-align: right;\n",
              "    }\n",
              "</style>\n",
              "<table border=\"1\" class=\"dataframe\">\n",
              "  <thead>\n",
              "    <tr style=\"text-align: right;\">\n",
              "      <th></th>\n",
              "      <th>utterance</th>\n",
              "      <th>slot_labels</th>\n",
              "      <th>intent</th>\n",
              "      <th>word_labels</th>\n",
              "      <th>intent_label</th>\n",
              "      <th>words</th>\n",
              "    </tr>\n",
              "  </thead>\n",
              "  <tbody>\n",
              "    <tr>\n",
              "      <th>344</th>\n",
              "      <td>flights newark to los angeles wednesday morning</td>\n",
              "      <td>O B-fromloc.city_name O B-toloc.city_name I-to...</td>\n",
              "      <td>flight</td>\n",
              "      <td>O O O B-kutoka_mji_jina O B-hadi.mji_jina I-ha...</td>\n",
              "      <td>ndege</td>\n",
              "      <td>safari za ndege newark hadi los angeles jumata...</td>\n",
              "    </tr>\n",
              "    <tr>\n",
              "      <th>598</th>\n",
              "      <td>show me a return flight from miami to jfk please</td>\n",
              "      <td>O O O B-round_trip O O B-fromloc.city_name O B...</td>\n",
              "      <td>flight</td>\n",
              "      <td>O O O B-safari_ya_kurudi O B-kutoka_mji_jina O...</td>\n",
              "      <td>ndege</td>\n",
              "      <td>nionyeshe ndege ya kurudi kutoka miami hadi jf...</td>\n",
              "    </tr>\n",
              "  </tbody>\n",
              "</table>\n",
              "</div>\n",
              "      <button class=\"colab-df-convert\" onclick=\"convertToInteractive('df-92c842c8-00ae-4492-84bf-83d2cc7f0460')\"\n",
              "              title=\"Convert this dataframe to an interactive table.\"\n",
              "              style=\"display:none;\">\n",
              "        \n",
              "  <svg xmlns=\"http://www.w3.org/2000/svg\" height=\"24px\"viewBox=\"0 0 24 24\"\n",
              "       width=\"24px\">\n",
              "    <path d=\"M0 0h24v24H0V0z\" fill=\"none\"/>\n",
              "    <path d=\"M18.56 5.44l.94 2.06.94-2.06 2.06-.94-2.06-.94-.94-2.06-.94 2.06-2.06.94zm-11 1L8.5 8.5l.94-2.06 2.06-.94-2.06-.94L8.5 2.5l-.94 2.06-2.06.94zm10 10l.94 2.06.94-2.06 2.06-.94-2.06-.94-.94-2.06-.94 2.06-2.06.94z\"/><path d=\"M17.41 7.96l-1.37-1.37c-.4-.4-.92-.59-1.43-.59-.52 0-1.04.2-1.43.59L10.3 9.45l-7.72 7.72c-.78.78-.78 2.05 0 2.83L4 21.41c.39.39.9.59 1.41.59.51 0 1.02-.2 1.41-.59l7.78-7.78 2.81-2.81c.8-.78.8-2.07 0-2.86zM5.41 20L4 18.59l7.72-7.72 1.47 1.35L5.41 20z\"/>\n",
              "  </svg>\n",
              "      </button>\n",
              "      \n",
              "  <style>\n",
              "    .colab-df-container {\n",
              "      display:flex;\n",
              "      flex-wrap:wrap;\n",
              "      gap: 12px;\n",
              "    }\n",
              "\n",
              "    .colab-df-convert {\n",
              "      background-color: #E8F0FE;\n",
              "      border: none;\n",
              "      border-radius: 50%;\n",
              "      cursor: pointer;\n",
              "      display: none;\n",
              "      fill: #1967D2;\n",
              "      height: 32px;\n",
              "      padding: 0 0 0 0;\n",
              "      width: 32px;\n",
              "    }\n",
              "\n",
              "    .colab-df-convert:hover {\n",
              "      background-color: #E2EBFA;\n",
              "      box-shadow: 0px 1px 2px rgba(60, 64, 67, 0.3), 0px 1px 3px 1px rgba(60, 64, 67, 0.15);\n",
              "      fill: #174EA6;\n",
              "    }\n",
              "\n",
              "    [theme=dark] .colab-df-convert {\n",
              "      background-color: #3B4455;\n",
              "      fill: #D2E3FC;\n",
              "    }\n",
              "\n",
              "    [theme=dark] .colab-df-convert:hover {\n",
              "      background-color: #434B5C;\n",
              "      box-shadow: 0px 1px 3px 1px rgba(0, 0, 0, 0.15);\n",
              "      filter: drop-shadow(0px 1px 2px rgba(0, 0, 0, 0.3));\n",
              "      fill: #FFFFFF;\n",
              "    }\n",
              "  </style>\n",
              "\n",
              "      <script>\n",
              "        const buttonEl =\n",
              "          document.querySelector('#df-92c842c8-00ae-4492-84bf-83d2cc7f0460 button.colab-df-convert');\n",
              "        buttonEl.style.display =\n",
              "          google.colab.kernel.accessAllowed ? 'block' : 'none';\n",
              "\n",
              "        async function convertToInteractive(key) {\n",
              "          const element = document.querySelector('#df-92c842c8-00ae-4492-84bf-83d2cc7f0460');\n",
              "          const dataTable =\n",
              "            await google.colab.kernel.invokeFunction('convertToInteractive',\n",
              "                                                     [key], {});\n",
              "          if (!dataTable) return;\n",
              "\n",
              "          const docLinkHtml = 'Like what you see? Visit the ' +\n",
              "            '<a target=\"_blank\" href=https://colab.research.google.com/notebooks/data_table.ipynb>data table notebook</a>'\n",
              "            + ' to learn more about interactive tables.';\n",
              "          element.innerHTML = '';\n",
              "          dataTable['output_type'] = 'display_data';\n",
              "          await google.colab.output.renderOutput(dataTable, element);\n",
              "          const docLink = document.createElement('div');\n",
              "          docLink.innerHTML = docLinkHtml;\n",
              "          element.appendChild(docLink);\n",
              "        }\n",
              "      </script>\n",
              "    </div>\n",
              "  </div>\n",
              "  "
            ],
            "text/plain": [
              "                                            utterance  \\\n",
              "344   flights newark to los angeles wednesday morning   \n",
              "598  show me a return flight from miami to jfk please   \n",
              "\n",
              "                                           slot_labels  intent  \\\n",
              "344  O B-fromloc.city_name O B-toloc.city_name I-to...  flight   \n",
              "598  O O O B-round_trip O O B-fromloc.city_name O B...  flight   \n",
              "\n",
              "                                           word_labels intent_label  \\\n",
              "344  O O O B-kutoka_mji_jina O B-hadi.mji_jina I-ha...        ndege   \n",
              "598  O O O B-safari_ya_kurudi O B-kutoka_mji_jina O...        ndege   \n",
              "\n",
              "                                                 words  \n",
              "344  safari za ndege newark hadi los angeles jumata...  \n",
              "598  nionyeshe ndege ya kurudi kutoka miami hadi jf...  "
            ]
          },
          "execution_count": 26,
          "metadata": {},
          "output_type": "execute_result"
        }
      ],
      "source": [
        "df_train.head(2)"
      ]
    },
    {
      "cell_type": "code",
      "execution_count": null,
      "metadata": {
        "colab": {
          "base_uri": "https://localhost:8080/",
          "height": 191
        },
        "id": "KhKLOxQFSFKT",
        "outputId": "2f54512d-75f8-4113-ce52-5d87ea756bbf"
      },
      "outputs": [
        {
          "data": {
            "text/html": [
              "\n",
              "  <div id=\"df-204d9b79-cd03-4438-abfc-209ab15119f8\">\n",
              "    <div class=\"colab-df-container\">\n",
              "      <div>\n",
              "<style scoped>\n",
              "    .dataframe tbody tr th:only-of-type {\n",
              "        vertical-align: middle;\n",
              "    }\n",
              "\n",
              "    .dataframe tbody tr th {\n",
              "        vertical-align: top;\n",
              "    }\n",
              "\n",
              "    .dataframe thead th {\n",
              "        text-align: right;\n",
              "    }\n",
              "</style>\n",
              "<table border=\"1\" class=\"dataframe\">\n",
              "  <thead>\n",
              "    <tr style=\"text-align: right;\">\n",
              "      <th></th>\n",
              "      <th>utterance</th>\n",
              "      <th>slot_labels</th>\n",
              "      <th>intent</th>\n",
              "      <th>word_labels</th>\n",
              "      <th>intent_label</th>\n",
              "      <th>words</th>\n",
              "    </tr>\n",
              "  </thead>\n",
              "  <tbody>\n",
              "    <tr>\n",
              "      <th>333</th>\n",
              "      <td>kansas city to atlanta monday morning flights</td>\n",
              "      <td>B-fromloc.city_name I-fromloc.city_name O B-to...</td>\n",
              "      <td>flight</td>\n",
              "      <td>B-kutoka_mji_jina I-kutoka_mji_jina O B-hadi.m...</td>\n",
              "      <td>ndege</td>\n",
              "      <td>kansas city hadi atlanta jumatatu asubuhi safa...</td>\n",
              "    </tr>\n",
              "    <tr>\n",
              "      <th>775</th>\n",
              "      <td>list all flights arriving in denver between 8 ...</td>\n",
              "      <td>O O O O O B-toloc.city_name O B-arrive_time.st...</td>\n",
              "      <td>flight</td>\n",
              "      <td>O O O O B-hadi.mji_jina O O B-kufika_muda.kuan...</td>\n",
              "      <td>ndege</td>\n",
              "      <td>orodhesha ndege zote zinazowasili denver kati ...</td>\n",
              "    </tr>\n",
              "  </tbody>\n",
              "</table>\n",
              "</div>\n",
              "      <button class=\"colab-df-convert\" onclick=\"convertToInteractive('df-204d9b79-cd03-4438-abfc-209ab15119f8')\"\n",
              "              title=\"Convert this dataframe to an interactive table.\"\n",
              "              style=\"display:none;\">\n",
              "        \n",
              "  <svg xmlns=\"http://www.w3.org/2000/svg\" height=\"24px\"viewBox=\"0 0 24 24\"\n",
              "       width=\"24px\">\n",
              "    <path d=\"M0 0h24v24H0V0z\" fill=\"none\"/>\n",
              "    <path d=\"M18.56 5.44l.94 2.06.94-2.06 2.06-.94-2.06-.94-.94-2.06-.94 2.06-2.06.94zm-11 1L8.5 8.5l.94-2.06 2.06-.94-2.06-.94L8.5 2.5l-.94 2.06-2.06.94zm10 10l.94 2.06.94-2.06 2.06-.94-2.06-.94-.94-2.06-.94 2.06-2.06.94z\"/><path d=\"M17.41 7.96l-1.37-1.37c-.4-.4-.92-.59-1.43-.59-.52 0-1.04.2-1.43.59L10.3 9.45l-7.72 7.72c-.78.78-.78 2.05 0 2.83L4 21.41c.39.39.9.59 1.41.59.51 0 1.02-.2 1.41-.59l7.78-7.78 2.81-2.81c.8-.78.8-2.07 0-2.86zM5.41 20L4 18.59l7.72-7.72 1.47 1.35L5.41 20z\"/>\n",
              "  </svg>\n",
              "      </button>\n",
              "      \n",
              "  <style>\n",
              "    .colab-df-container {\n",
              "      display:flex;\n",
              "      flex-wrap:wrap;\n",
              "      gap: 12px;\n",
              "    }\n",
              "\n",
              "    .colab-df-convert {\n",
              "      background-color: #E8F0FE;\n",
              "      border: none;\n",
              "      border-radius: 50%;\n",
              "      cursor: pointer;\n",
              "      display: none;\n",
              "      fill: #1967D2;\n",
              "      height: 32px;\n",
              "      padding: 0 0 0 0;\n",
              "      width: 32px;\n",
              "    }\n",
              "\n",
              "    .colab-df-convert:hover {\n",
              "      background-color: #E2EBFA;\n",
              "      box-shadow: 0px 1px 2px rgba(60, 64, 67, 0.3), 0px 1px 3px 1px rgba(60, 64, 67, 0.15);\n",
              "      fill: #174EA6;\n",
              "    }\n",
              "\n",
              "    [theme=dark] .colab-df-convert {\n",
              "      background-color: #3B4455;\n",
              "      fill: #D2E3FC;\n",
              "    }\n",
              "\n",
              "    [theme=dark] .colab-df-convert:hover {\n",
              "      background-color: #434B5C;\n",
              "      box-shadow: 0px 1px 3px 1px rgba(0, 0, 0, 0.15);\n",
              "      filter: drop-shadow(0px 1px 2px rgba(0, 0, 0, 0.3));\n",
              "      fill: #FFFFFF;\n",
              "    }\n",
              "  </style>\n",
              "\n",
              "      <script>\n",
              "        const buttonEl =\n",
              "          document.querySelector('#df-204d9b79-cd03-4438-abfc-209ab15119f8 button.colab-df-convert');\n",
              "        buttonEl.style.display =\n",
              "          google.colab.kernel.accessAllowed ? 'block' : 'none';\n",
              "\n",
              "        async function convertToInteractive(key) {\n",
              "          const element = document.querySelector('#df-204d9b79-cd03-4438-abfc-209ab15119f8');\n",
              "          const dataTable =\n",
              "            await google.colab.kernel.invokeFunction('convertToInteractive',\n",
              "                                                     [key], {});\n",
              "          if (!dataTable) return;\n",
              "\n",
              "          const docLinkHtml = 'Like what you see? Visit the ' +\n",
              "            '<a target=\"_blank\" href=https://colab.research.google.com/notebooks/data_table.ipynb>data table notebook</a>'\n",
              "            + ' to learn more about interactive tables.';\n",
              "          element.innerHTML = '';\n",
              "          dataTable['output_type'] = 'display_data';\n",
              "          await google.colab.output.renderOutput(dataTable, element);\n",
              "          const docLink = document.createElement('div');\n",
              "          docLink.innerHTML = docLinkHtml;\n",
              "          element.appendChild(docLink);\n",
              "        }\n",
              "      </script>\n",
              "    </div>\n",
              "  </div>\n",
              "  "
            ],
            "text/plain": [
              "                                             utterance  \\\n",
              "333      kansas city to atlanta monday morning flights   \n",
              "775  list all flights arriving in denver between 8 ...   \n",
              "\n",
              "                                           slot_labels  intent  \\\n",
              "333  B-fromloc.city_name I-fromloc.city_name O B-to...  flight   \n",
              "775  O O O O O B-toloc.city_name O B-arrive_time.st...  flight   \n",
              "\n",
              "                                           word_labels intent_label  \\\n",
              "333  B-kutoka_mji_jina I-kutoka_mji_jina O B-hadi.m...        ndege   \n",
              "775  O O O O B-hadi.mji_jina O O B-kufika_muda.kuan...        ndege   \n",
              "\n",
              "                                                 words  \n",
              "333  kansas city hadi atlanta jumatatu asubuhi safa...  \n",
              "775  orodhesha ndege zote zinazowasili denver kati ...  "
            ]
          },
          "execution_count": 27,
          "metadata": {},
          "output_type": "execute_result"
        }
      ],
      "source": [
        "df_valid.head(2)"
      ]
    },
    {
      "cell_type": "markdown",
      "metadata": {
        "id": "8-RqFpLgqI6u"
      },
      "source": [
        "\n",
        "## A First Model: Intent Classification (Sentence Level)\n",
        "\n",
        "Let's ignore the slot filling task for now and let's try to build a sentence level classifier by fine-tuning a pre-trained Transformer-based model using the `huggingface/transformers` package that provides both TF2/Keras and Pytorch APIs.\n",
        "\n",
        "### The BERT Tokenizer\n",
        "\n",
        "First let's load a pre-trained tokenizer and test it on a test sentence from the training set:"
      ]
    },
    {
      "cell_type": "code",
      "execution_count": null,
      "metadata": {
        "colab": {
          "background_save": true
        },
        "id": "8waNlSO-tkkP",
        "outputId": "e97e8c69-7618-4d02-a87e-3a7aefe7055f"
      },
      "outputs": [
        {
          "ename": "ModuleNotFoundError",
          "evalue": "ignored",
          "output_type": "error",
          "traceback": [
            "\u001b[0;31m---------------------------------------------------------------------------\u001b[0m",
            "\u001b[0;31mModuleNotFoundError\u001b[0m                       Traceback (most recent call last)",
            "\u001b[0;32m<ipython-input-1-bebb8c28eaa3>\u001b[0m in \u001b[0;36m<module>\u001b[0;34m\u001b[0m\n\u001b[0;32m----> 1\u001b[0;31m \u001b[0;32mfrom\u001b[0m \u001b[0mtransformers\u001b[0m \u001b[0;32mimport\u001b[0m \u001b[0mBertTokenizer\u001b[0m\u001b[0;34m\u001b[0m\u001b[0;34m\u001b[0m\u001b[0m\n\u001b[0m\u001b[1;32m      2\u001b[0m \u001b[0mmodel_name\u001b[0m \u001b[0;34m=\u001b[0m \u001b[0;34m\"bert-base-multilingual-cased\"\u001b[0m\u001b[0;34m\u001b[0m\u001b[0;34m\u001b[0m\u001b[0m\n\u001b[1;32m      3\u001b[0m \u001b[0mtokenizer\u001b[0m \u001b[0;34m=\u001b[0m \u001b[0mBertTokenizer\u001b[0m\u001b[0;34m.\u001b[0m\u001b[0mfrom_pretrained\u001b[0m\u001b[0;34m(\u001b[0m\u001b[0mmodel_name\u001b[0m\u001b[0;34m)\u001b[0m\u001b[0;34m\u001b[0m\u001b[0;34m\u001b[0m\u001b[0m\n",
            "\u001b[0;31mModuleNotFoundError\u001b[0m: No module named 'transformers'",
            "",
            "\u001b[0;31m---------------------------------------------------------------------------\u001b[0;32m\nNOTE: If your import is failing due to a missing package, you can\nmanually install dependencies using either !pip or !apt.\n\nTo view examples of installing some common dependencies, click the\n\"Open Examples\" button below.\n\u001b[0;31m---------------------------------------------------------------------------\u001b[0m\n"
          ]
        }
      ],
      "source": [
        "from transformers import BertTokenizer\n",
        "model_name = \"bert-base-multilingual-cased\"\n",
        "tokenizer = BertTokenizer.from_pretrained(model_name)"
      ]
    },
    {
      "cell_type": "markdown",
      "metadata": {
        "id": "E2kDm0-tbeXb"
      },
      "source": [
        "#Testing word tokenization using Bert"
      ]
    },
    {
      "cell_type": "code",
      "execution_count": null,
      "metadata": {
        "colab": {
          "base_uri": "https://localhost:8080/",
          "height": 35
        },
        "id": "kfIeG0rvuywQ",
        "outputId": "f63626a6-2133-4986-8fdb-e5316159f48d"
      },
      "outputs": [
        {
          "data": {
            "application/vnd.google.colaboratory.intrinsic+json": {
              "type": "string"
            },
            "text/plain": [
              "'safari za ndege newark hadi los angeles jumatano asubuhi'"
            ]
          },
          "execution_count": 29,
          "metadata": {},
          "output_type": "execute_result"
        }
      ],
      "source": [
        "first_sentence = df_train.iloc[0][\"words\"]\n",
        "first_sentence"
      ]
    },
    {
      "cell_type": "code",
      "execution_count": null,
      "metadata": {
        "colab": {
          "base_uri": "https://localhost:8080/"
        },
        "id": "T1NdNH7btohS",
        "outputId": "0f8c3f6c-e47b-4cd5-9d0f-9f34f7590788"
      },
      "outputs": [
        {
          "name": "stdout",
          "output_type": "stream",
          "text": [
            "['[CLS]', 'sa', '##fari', 'za', 'nde', '##ge', 'new', '##ark', 'hadi', 'los', 'ang', '##eles', 'ju', '##matan', '##o', 'asub', '##uh', '##i', '[SEP]']\n"
          ]
        }
      ],
      "source": [
        "encoding = tokenizer.encode(first_sentence)\n",
        "print(tokenizer.convert_ids_to_tokens(encoding))"
      ]
    },
    {
      "cell_type": "markdown",
      "metadata": {
        "id": "mV0nkrwDvVlc"
      },
      "source": [
        "It can be noticed that BERT uses subword tokens so the length of the tokenized sentence is likely to be larger than the number of words in the sentence.\n"
      ]
    },
    {
      "cell_type": "markdown",
      "metadata": {
        "id": "DXvGt8fAmW6o"
      },
      "source": [
        "Remarks:\n",
        "\n",
        "- The first token `[CLS]` is used by the pre-training task for sequence classification.\n",
        "- The last token `[SEP]` is a separator for the pre-training task that classifiies if a pair of sentences are consecutive in a corpus or not (next sentence prediction)."
      ]
    },
    {
      "cell_type": "markdown",
      "metadata": {
        "id": "wqgWOetUcemB"
      },
      "source": [
        "#Data Preprocessing"
      ]
    },
    {
      "cell_type": "markdown",
      "metadata": {
        "id": "EveW9CTmcjLT"
      },
      "source": [
        "Checking the length of sequences after tokenization, so that we could assign them to equal dummy vectors in the training set"
      ]
    },
    {
      "cell_type": "code",
      "execution_count": null,
      "metadata": {
        "colab": {
          "base_uri": "https://localhost:8080/",
          "height": 298
        },
        "id": "HDRfHq45uXtE",
        "outputId": "16777b2f-e233-4e62-9223-d1bddebc488b"
      },
      "outputs": [
        {
          "data": {
            "text/plain": [
              "Text(0.5, 1.0, 'max sequence length: 55')"
            ]
          },
          "execution_count": 31,
          "metadata": {},
          "output_type": "execute_result"
        },
        {
          "data": {
            "image/png": "[encoded data removed]",
            "text/plain": [
              "<Figure size 432x288 with 1 Axes>"
            ]
          },
          "metadata": {},
          "output_type": "display_data"
        }
      ],
      "source": [
        "train_sequence_lengths = [len(tokenizer.encode(text))\n",
        "                          for text in df_train[\"words\"]]\n",
        "plt.hist(train_sequence_lengths, bins=30)\n",
        "plt.title(f\"max sequence length: {max(train_sequence_lengths)}\")"
      ]
    },
    {
      "cell_type": "markdown",
      "metadata": {
        "id": "e80rCfLZo0ms"
      },
      "source": [
        "[link text](https://)The mapping can be introspected in the `tokenizer.vocab` attribute:"
      ]
    },
    {
      "cell_type": "markdown",
      "metadata": {
        "id": "q399LhkCjCa8"
      },
      "source": [
        "### Encoding the Dataset with the Tokenizer\n",
        "\n",
        "Encoding the full train / valid and test sets with Bert tokenizer to get a padded integer numpy arrays:"
      ]
    },
    {
      "cell_type": "code",
      "execution_count": null,
      "metadata": {
        "colab": {
          "base_uri": "https://localhost:8080/"
        },
        "id": "KI7fXQKmpQFY",
        "outputId": "8248dd28-8624-471a-996c-f8690fd5e971"
      },
      "outputs": [
        {
          "data": {
            "text/plain": [
              "array([[   101,  10148, 110066, ...,      0,      0,      0],\n",
              "       [   101,  10414,  16131, ...,      0,      0,      0],\n",
              "       [   101,  14441,  73840, ...,      0,      0,      0],\n",
              "       ...,\n",
              "       [   101,  10414,  23105, ...,      0,      0,      0],\n",
              "       [   101,  10153,  61478, ...,      0,      0,      0],\n",
              "       [   101,  23105,  10525, ...,      0,      0,      0]], dtype=int32)"
            ]
          },
          "execution_count": 32,
          "metadata": {},
          "output_type": "execute_result"
        }
      ],
      "source": [
        "import numpy as np\n",
        "\n",
        "def encode_dataset(tokenizer, text_sequences, max_length):\n",
        "    token_ids = np.zeros(shape=(len(text_sequences), max_length),\n",
        "                         dtype=np.int32)\n",
        "    for i, text_sequence in enumerate(text_sequences):\n",
        "        encoded = tokenizer.encode(text_sequence)\n",
        "        token_ids[i, 0:len(encoded)] = encoded\n",
        "    attention_masks = (token_ids != 0).astype(np.int32)\n",
        "    return {\"input_ids\": token_ids, \"attention_masks\": attention_masks}\n",
        "\n",
        "encoded_train = encode_dataset(tokenizer, df_train[\"words\"], 60)\n",
        "encoded_train[\"input_ids\"]"
      ]
    },
    {
      "cell_type": "code",
      "execution_count": null,
      "metadata": {
        "colab": {
          "base_uri": "https://localhost:8080/"
        },
        "id": "MPZjHqv3rdY-",
        "outputId": "d0e62041-019e-46bb-9e12-3864064dae03"
      },
      "outputs": [
        {
          "data": {
            "text/plain": [
              "array([[1, 1, 1, ..., 0, 0, 0],\n",
              "       [1, 1, 1, ..., 0, 0, 0],\n",
              "       [1, 1, 1, ..., 0, 0, 0],\n",
              "       ...,\n",
              "       [1, 1, 1, ..., 0, 0, 0],\n",
              "       [1, 1, 1, ..., 0, 0, 0],\n",
              "       [1, 1, 1, ..., 0, 0, 0]], dtype=int32)"
            ]
          },
          "execution_count": 33,
          "metadata": {},
          "output_type": "execute_result"
        }
      ],
      "source": [
        "encoded_train[\"attention_masks\"]"
      ]
    },
    {
      "cell_type": "code",
      "execution_count": null,
      "metadata": {
        "id": "YLiTJg4Sqwuk"
      },
      "outputs": [],
      "source": [
        "encoded_valid = encode_dataset(tokenizer, df_valid[\"words\"], 60)\n",
        "# encoded_test = encode_dataset(tokenizer, df_test[\"words\"], 90)"
      ]
    },
    {
      "cell_type": "markdown",
      "metadata": {
        "id": "xIgGo8ECtvfy"
      },
      "source": [
        "### Encoding the Sequence Classification Targets\n",
        "\n",
        "To do so we build a simple mapping from the auxiliary files:"
      ]
    },
    {
      "cell_type": "code",
      "execution_count": null,
      "metadata": {
        "id": "cBHehraHRilo"
      },
      "outputs": [],
      "source": [
        "seq_out_tokenizer = Tokenizer(filters='!\"#$%&()*+,/:;<=>?@[\\\\]^`{|}~\\t\\n', oov_token=\"UNK\",lower=False)"
      ]
    },
    {
      "cell_type": "code",
      "execution_count": null,
      "metadata": {
        "id": "3q3p80CziFlm"
      },
      "outputs": [],
      "source": [
        "##Preprocessing\n",
        "\n",
        "df_train.fillna('O',inplace = True)\n",
        "\n",
        "df_valid.fillna('O',inplace = True)"
      ]
    },
    {
      "cell_type": "code",
      "execution_count": null,
      "metadata": {
        "id": "m6z1Q9O5aBpQ"
      },
      "outputs": [],
      "source": [
        "seq_out_tokenizer.fit_on_texts(df_train[\"word_labels\"].tolist())"
      ]
    },
    {
      "cell_type": "code",
      "execution_count": null,
      "metadata": {
        "id": "NZEXJYjaaC4U"
      },
      "outputs": [],
      "source": [
        "seq_out_tokenizer.fit_on_texts(df_valid[\"word_labels\"].tolist())"
      ]
    },
    {
      "cell_type": "code",
      "execution_count": null,
      "metadata": {
        "colab": {
          "base_uri": "https://localhost:8080/"
        },
        "id": "HMaj59KkSs-k",
        "outputId": "c5fc39d3-efc3-46a8-8f8b-fa3fbdc6b8b8"
      },
      "outputs": [
        {
          "data": {
            "text/plain": [
              "140"
            ]
          },
          "execution_count": 39,
          "metadata": {},
          "output_type": "execute_result"
        }
      ],
      "source": [
        "seq_out_word_to_index = seq_out_tokenizer.word_index\n",
        "len(seq_out_word_to_index)"
      ]
    },
    {
      "cell_type": "code",
      "execution_count": null,
      "metadata": {
        "colab": {
          "base_uri": "https://localhost:8080/"
        },
        "id": "07ERpux0Sz1H",
        "outputId": "5d8e019b-7fa6-4fd4-9524-73215dd7cf4f"
      },
      "outputs": [
        {
          "data": {
            "text/plain": [
              "{'UNK': 1,\n",
              " 'O': 2,\n",
              " 'B-hadi.mji_jina': 3,\n",
              " 'B-kutoka_mji_jina': 4,\n",
              " 'I-hadi.mji_jina': 5,\n",
              " 'B-kuondoka_terehe.siku_jina': 6,\n",
              " 'I-kutoka_mji_jina': 7,\n",
              " 'B-kuondoka_muda.kipindi_cha_siku': 8,\n",
              " 'B-ndege_jina': 9,\n",
              " 'I-safari_ya_kurudi': 10,\n",
              " 'B-kutoka.mji_jina': 11,\n",
              " 'B-hadi_mji_jina': 12,\n",
              " 'I-kufika_muda.muda': 13,\n",
              " 'B-ndege_kanuni': 14,\n",
              " 'I-kuondoka_muda.muda': 15,\n",
              " 'I-ndege_jina': 16,\n",
              " 'B-safari_ya_kurudi': 17,\n",
              " 'B-mji_jina': 18,\n",
              " 'B-kuondoka_muda.muda_jamaa': 19,\n",
              " 'B-kuondoka_muda.muda': 20,\n",
              " 'B-kufika_muda.muda': 21,\n",
              " 'B-kuondoka_tarehe.siku_jina': 22,\n",
              " 'I-ndege_acha': 23,\n",
              " 'B-gharama_jamaa': 24,\n",
              " 'I-hadi_mji_jina': 25,\n",
              " 'I-kategoria_aina': 26,\n",
              " 'I-gharama_jamaa': 27,\n",
              " 'I-kuondoka_terehe.siku_nambari': 28,\n",
              " 'B-chakula_nambari': 29,\n",
              " 'I-kutoka.mji_jina': 30,\n",
              " 'B-ndege_mod': 31,\n",
              " 'B-ndege_acha': 32,\n",
              " 'I-mji_jina': 33,\n",
              " 'B-kufika_muda.muda_jamaa': 34,\n",
              " 'B-kategoria_aina': 35,\n",
              " 'I-uchumi': 36,\n",
              " 'B-kuondoka_terehe.mwezi_jina': 37,\n",
              " 'B-kuondoka_terehe.siku_nambari': 38,\n",
              " 'I-kuondoka_tarehe.siku_nambari': 39,\n",
              " 'B-kuondoka_tarehe.siku_nambari': 40,\n",
              " 'B-msimbo_msingi_wa_nauli': 41,\n",
              " 'B-kuondoka_tarehe.mwezi_jina': 42,\n",
              " 'I-kuondoka_muda.kipindi_cha_siku': 43,\n",
              " 'I-ndege_mod': 44,\n",
              " 'B-kutoka_uwanja_wa_ndege_jina': 45,\n",
              " 'B-uwanjya_wa_ndege_jina': 46,\n",
              " 'B-acha_mji_jina': 47,\n",
              " 'B-uchumi': 48,\n",
              " 'B-ndege_days': 49,\n",
              " 'I-ndege_days': 50,\n",
              " 'B-kufika_tarehe.siku_jina': 51,\n",
              " 'B-uwanjya_wa_ndege_kanuni': 52,\n",
              " 'B-kuondoka_terehe.tarehe_jamaa': 53,\n",
              " 'B-bila_kurudi': 54,\n",
              " 'I-bila_kurudi': 55,\n",
              " 'B-kufika_muda.kipindi_cha_siku': 56,\n",
              " 'B-ndege_number': 57,\n",
              " 'B-kuondoka_tarehe.tarehe_jamaa': 58,\n",
              " 'B-kufika_muda.kuanza_muda': 59,\n",
              " 'B-kufika_muda.mwisho_muda': 60,\n",
              " 'I-kufika_muda.mwisho_muda': 61,\n",
              " 'I-mlo_maelezo': 62,\n",
              " 'B-depart_time.period_mod': 63,\n",
              " 'I-chakula_nambari_description': 64,\n",
              " 'I-safari_kurudi': 65,\n",
              " 'I-safiri_bila_kurudi': 66,\n",
              " 'I-acha_mji_jina': 67,\n",
              " 'B-usafiri_aina': 68,\n",
              " 'B-kutoka_uwanja_wa_ndege_kanuni': 69,\n",
              " 'B-kuondoka_terehe.leo_jamaa': 70,\n",
              " 'I-kutoka_uwanja_wa_ndege_jina': 71,\n",
              " 'B-hadi.jina_la_jimbo': 72,\n",
              " 'B-kuunganisha': 73,\n",
              " 'I-uwanjya_wa_ndege_jina': 74,\n",
              " 'B-hadi_uwanja_wa_ndege_kanuni': 75,\n",
              " 'B-kizuizi_kanuni': 76,\n",
              " 'B-chakula_nambari_description': 77,\n",
              " 'B-hadi_uwanja_wa_ndege_jina': 78,\n",
              " 'B-mlo_maelezo': 79,\n",
              " 'B-kufika_tarehe.siku_nambari': 80,\n",
              " 'B-kuondoka_terehe.mwaka': 81,\n",
              " 'I-kizuizi_kanuni': 82,\n",
              " 'B-safari_kurudi': 83,\n",
              " 'B-kipicha_cha_siku': 84,\n",
              " 'B-ndege_hali': 85,\n",
              " 'B-safiri_bila_kurudi': 86,\n",
              " 'I-darasa_aina': 87,\n",
              " 'B-kuondoka.wakati_jamaa': 88,\n",
              " 'B-nauli_kiasi': 89,\n",
              " 'I-nauli_kiasi': 90,\n",
              " 'I-usafiri_aina': 91,\n",
              " 'B-kuondoka_tarehe.leo_jamaa': 92,\n",
              " 'B-kuondoka_saa.wakati_jamaa': 93,\n",
              " 'B-kuondoka_wakati.wakati': 94,\n",
              " 'I-kuondoka_wakati.wakati': 95,\n",
              " 'B-kurudi_tarehe.siku_jina': 96,\n",
              " 'B-kutoka.jina_la_jimbo': 97,\n",
              " 'B-ndege_nambari': 98,\n",
              " 'B-siku_kanuni': 99,\n",
              " 'I-hadi_uwanja_wa_ndege_jina': 100,\n",
              " 'B-kufika_terehe.mwezi_jina': 101,\n",
              " 'B-acha.mji_jina': 102,\n",
              " 'B-kuondoka.jina_la_jimbo': 103,\n",
              " 'I-kipicha_cha_siku': 104,\n",
              " 'B-au': 105,\n",
              " 'I-ndege_hali': 106,\n",
              " 'B-kuondoka_muda.kuanza_muda': 107,\n",
              " 'B-kuondoka_muda.mwisho_muda': 108,\n",
              " 'B-kupitia.mji_jina': 109,\n",
              " 'B-kurudi_tarehe.siku_jamaa': 110,\n",
              " 'I-kuunganisha': 111,\n",
              " 'I-kufika_muda.muda_jamaa': 112,\n",
              " 'I-kufika_muda.kuanza_muda': 113,\n",
              " 'B-uwanja_wa_ndege_jina': 114,\n",
              " 'B-darasa_aina': 115,\n",
              " 'B-hadi.jimbo_jina': 116,\n",
              " 'B-kufika_tarehe.mwezi_jina': 117,\n",
              " 'B-kuondoka_terehe.kesho': 118,\n",
              " 'B-kutoka_mji_kanuni': 119,\n",
              " 'B-kuweka_nafasi_aina': 120,\n",
              " 'I-acha.mji_jina': 121,\n",
              " 'B-kufika_muda.mwisho_muda.kipindi_cha_siku': 122,\n",
              " 'B-siku_jina': 123,\n",
              " 'I-B-kuondoka_tarehe.siku_jina': 124,\n",
              " 'B-bila_kukoma': 125,\n",
              " 'I-bila_kukoma': 126,\n",
              " 'I-kupitia.mji_jina': 127,\n",
              " 'B-acha_uwanja_wa_ndege_kanuni': 128,\n",
              " 'B-bila_kikomo': 129,\n",
              " 'I-bila_kikomo': 130,\n",
              " 'B-kuondoka.mji_jina': 131,\n",
              " 'I-kuondoka.mji_jina': 132,\n",
              " 'B-kutoka_muda.kipindi_cha_siku': 133,\n",
              " 'B-kurudi_tarehe.tarehe_jamaa': 134,\n",
              " 'I-kurudi_tarehe.tarehe_jamaa': 135,\n",
              " 'I-kurudi_tarehe.siku_jamaa': 136,\n",
              " 'B-kufika_tarehe.tarehe_jamaa': 137,\n",
              " 'I-kuondoka_muda.mwisho_muda': 138,\n",
              " 'B-mapumziko': 139,\n",
              " 'B-kuodoka_tarehe.leo_jamaa': 140}"
            ]
          },
          "execution_count": 40,
          "metadata": {},
          "output_type": "execute_result"
        }
      ],
      "source": [
        "seq_out_word_to_index"
      ]
    },
    {
      "cell_type": "code",
      "execution_count": null,
      "metadata": {
        "colab": {
          "base_uri": "https://localhost:8080/"
        },
        "id": "xqcSXpgOwcbX",
        "outputId": "79009d1b-58c0-4b6e-cef1-c474baa23db3"
      },
      "outputs": [
        {
          "data": {
            "text/plain": [
              "{'ndege_nambari#atis_shirika_la_ndege': 0,\n",
              " 'Ndege': 1,\n",
              " 'mlo': 2,\n",
              " 'mji': 3,\n",
              " 'muda_wa_ndege': 4,\n",
              " 'nauli_ya_ndege': 5,\n",
              " 'nauli_ya_ndege#atis_ndege': 6,\n",
              " 'shirika_la_ndege': 7,\n",
              " 'uwezo': 8,\n",
              " 'nauli_ya_ardhini': 9,\n",
              " 'uwanja_wa_ndege': 10,\n",
              " 'ndege#atis_nauli_ya_ndege': 11,\n",
              " 'umbali': 12,\n",
              " 'kiasi': 13,\n",
              " 'huduma_ya_ardhini': 14,\n",
              " 'siku_jina': 15,\n",
              " 'ndege_nambari': 16,\n",
              " 'ufupisho': 17,\n",
              " 'ndege': 18}"
            ]
          },
          "execution_count": 41,
          "metadata": {},
          "output_type": "execute_result"
        }
      ],
      "source": [
        "intent_names = set(df_train.intent_label)\n",
        "intent_map = dict((label, idx) for idx, label in enumerate(intent_names))\n",
        "intent_map"
      ]
    },
    {
      "cell_type": "code",
      "execution_count": null,
      "metadata": {
        "id": "wFjLpaFxxQk6"
      },
      "outputs": [],
      "source": [
        "intent_train = df_train[\"intent_label\"].map(intent_map).values"
      ]
    },
    {
      "cell_type": "code",
      "execution_count": null,
      "metadata": {
        "id": "aRbvVXuPndoN"
      },
      "outputs": [],
      "source": [
        "intent_valid = df_valid[\"intent_label\"].map(intent_map).values"
      ]
    },
    {
      "cell_type": "markdown",
      "metadata": {
        "id": "b5TuDZR26jwq"
      },
      "source": [
        "### Loading and Feeding a Pretrained BERT model\n",
        "\n",
        "Loading a pretrained BERT Large model using the [huggingface transformers](https://github.com/huggingface/transformers) package:"
      ]
    },
    {
      "cell_type": "code",
      "execution_count": null,
      "metadata": {
        "colab": {
          "base_uri": "https://localhost:8080/",
          "height": 272
        },
        "id": "73ZrDDm-0wYS",
        "outputId": "af3a3ef4-bab1-4801-e66f-6ac0af051274"
      },
      "outputs": [
        {
          "data": {
            "application/vnd.jupyter.widget-view+json": {
              "model_id": "5f6d55d84c144cf1b61f5fbaf809553c",
              "version_major": 2,
              "version_minor": 0
            },
            "text/plain": [
              "Downloading:   0%|          | 0.00/625 [00:00<?, ?B/s]"
            ]
          },
          "metadata": {},
          "output_type": "display_data"
        },
        {
          "data": {
            "application/vnd.jupyter.widget-view+json": {
              "model_id": "c16f7ee65f074797b6748ed1d9e1d99c",
              "version_major": 2,
              "version_minor": 0
            },
            "text/plain": [
              "Downloading:   0%|          | 0.00/1.08G [00:00<?, ?B/s]"
            ]
          },
          "metadata": {},
          "output_type": "display_data"
        },
        {
          "name": "stdout",
          "output_type": "stream",
          "text": [
            "Model: \"tf_bert_model\"\n",
            "_________________________________________________________________\n",
            " Layer (type)                Output Shape              Param #   \n",
            "=================================================================\n",
            " bert (TFBertMainLayer)      multiple                  177853440 \n",
            "                                                                 \n",
            "=================================================================\n",
            "Total params: 177,853,440\n",
            "Trainable params: 177,853,440\n",
            "Non-trainable params: 0\n",
            "_________________________________________________________________\n"
          ]
        }
      ],
      "source": [
        "from transformers import TFAutoModel\n",
        "\n",
        "large_bert_model = TFAutoModel.from_pretrained(\"bert-base-multilingual-cased\")\n",
        "large_bert_model.summary()"
      ]
    },
    {
      "cell_type": "code",
      "execution_count": null,
      "metadata": {
        "colab": {
          "base_uri": "https://localhost:8080/"
        },
        "id": "TwgRCE2h6QUT",
        "outputId": "33c33eb0-d6a3-41eb-8b31-f32f67b15807"
      },
      "outputs": [
        {
          "data": {
            "text/plain": [
              "{'input_ids': array([[   101,  81212,  10403, ...,      0,      0,      0],\n",
              "        [   101,  16002,  20193, ...,      0,      0,      0],\n",
              "        [   101,  62137,  10213, ...,      0,      0,      0],\n",
              "        ...,\n",
              "        [   101,  13587, 100962, ...,      0,      0,      0],\n",
              "        [   101,  12411,  86267, ...,      0,      0,      0],\n",
              "        [   101,  62137,  10213, ...,      0,      0,      0]], dtype=int32),\n",
              " 'attention_masks': array([[1, 1, 1, ..., 0, 0, 0],\n",
              "        [1, 1, 1, ..., 0, 0, 0],\n",
              "        [1, 1, 1, ..., 0, 0, 0],\n",
              "        ...,\n",
              "        [1, 1, 1, ..., 0, 0, 0],\n",
              "        [1, 1, 1, ..., 0, 0, 0],\n",
              "        [1, 1, 1, ..., 0, 0, 0]], dtype=int32)}"
            ]
          },
          "execution_count": 45,
          "metadata": {},
          "output_type": "execute_result"
        }
      ],
      "source": [
        "encoded_valid"
      ]
    },
    {
      "cell_type": "code",
      "execution_count": null,
      "metadata": {
        "colab": {
          "base_uri": "https://localhost:8080/"
        },
        "id": "htMv_pQt5aYl",
        "outputId": "c8d5948b-541c-41b6-d1ad-93bcf69fcbb0"
      },
      "outputs": [
        {
          "data": {
            "text/plain": [
              "2"
            ]
          },
          "execution_count": 46,
          "metadata": {},
          "output_type": "execute_result"
        }
      ],
      "source": [
        "outputs = large_bert_model(encoded_valid)\n",
        "len(outputs)"
      ]
    },
    {
      "cell_type": "markdown",
      "metadata": {
        "id": "pkwN4INi8eSh"
      },
      "source": [
        "The **first ouput** of the BERT model is a tensor with shape: `(batch_size, seq_len, output_dim)` which computes **features for each token in the input sequence**:"
      ]
    },
    {
      "cell_type": "code",
      "execution_count": null,
      "metadata": {
        "colab": {
          "base_uri": "https://localhost:8080/"
        },
        "id": "0PoQyA_A7CS4",
        "outputId": "aa095b8a-dcda-4311-869b-45dd54391645"
      },
      "outputs": [
        {
          "data": {
            "text/plain": [
              "TensorShape([179, 60, 768])"
            ]
          },
          "execution_count": 47,
          "metadata": {},
          "output_type": "execute_result"
        }
      ],
      "source": [
        "outputs[0].shape"
      ]
    },
    {
      "cell_type": "markdown",
      "metadata": {
        "id": "kxjU9Wpi8vyM"
      },
      "source": [
        "The **second output** of the BERT model is a tensor with shape `(batch_size, output_dim)` which is the vector representation of the special token `[CLS]`. This vector is typically used as a **pooled representation for the sequence as a whole**."
      ]
    },
    {
      "cell_type": "code",
      "execution_count": null,
      "metadata": {
        "colab": {
          "base_uri": "https://localhost:8080/"
        },
        "id": "gbg9Yd6MTlQQ",
        "outputId": "fdf4e426-c675-4d88-dea7-e634d294731c"
      },
      "outputs": [
        {
          "data": {
            "text/plain": [
              "TensorShape([179, 768])"
            ]
          },
          "execution_count": 48,
          "metadata": {},
          "output_type": "execute_result"
        }
      ],
      "source": [
        "outputs[1].shape"
      ]
    },
    {
      "cell_type": "markdown",
      "metadata": {
        "id": "PoTr6Et0hoKm"
      },
      "source": [
        "#Mapping slots to the corresponding indexes"
      ]
    },
    {
      "cell_type": "code",
      "execution_count": null,
      "metadata": {
        "colab": {
          "base_uri": "https://localhost:8080/"
        },
        "id": "PgYp8XkWMkpx",
        "outputId": "56255231-7284-4a20-c180-d225f8b3ffd6"
      },
      "outputs": [
        {
          "data": {
            "text/plain": [
              "['[PAD]',\n",
              " 'O',\n",
              " 'B-hadi.mji_jina',\n",
              " 'B-kutoka_mji_jina',\n",
              " 'I-hadi.mji_jina',\n",
              " 'B-kuondoka_terehe.siku_jina',\n",
              " 'I-kutoka_mji_jina',\n",
              " 'B-kuondoka_muda.kipindi_cha_siku',\n",
              " 'B-ndege_jina',\n",
              " 'I-safari_ya_kurudi',\n",
              " 'B-kutoka.mji_jina',\n",
              " 'B-hadi_mji_jina',\n",
              " 'I-kufika_muda.muda',\n",
              " 'B-ndege_kanuni',\n",
              " 'I-kuondoka_muda.muda',\n",
              " 'I-ndege_jina',\n",
              " 'B-safari_ya_kurudi',\n",
              " 'B-kuondoka_muda.muda_jamaa',\n",
              " 'B-mji_jina',\n",
              " 'B-kuondoka_muda.muda',\n",
              " 'B-kuondoka_tarehe.siku_jina',\n",
              " 'B-kufika_muda.muda',\n",
              " 'I-ndege_acha',\n",
              " 'B-gharama_jamaa',\n",
              " 'I-hadi_mji_jina',\n",
              " 'I-kategoria_aina',\n",
              " 'I-gharama_jamaa',\n",
              " 'I-kuondoka_terehe.siku_nambari',\n",
              " 'I-kutoka.mji_jina',\n",
              " 'B-chakula_nambari',\n",
              " 'B-ndege_mod',\n",
              " 'B-ndege_acha',\n",
              " 'I-mji_jina',\n",
              " 'B-kategoria_aina',\n",
              " 'B-kufika_muda.muda_jamaa',\n",
              " 'I-uchumi',\n",
              " 'B-kuondoka_terehe.mwezi_jina',\n",
              " 'B-kuondoka_terehe.siku_nambari',\n",
              " 'I-kuondoka_tarehe.siku_nambari',\n",
              " 'B-kuondoka_tarehe.siku_nambari',\n",
              " 'B-msimbo_msingi_wa_nauli',\n",
              " 'B-kuondoka_tarehe.mwezi_jina',\n",
              " 'I-kuondoka_muda.kipindi_cha_siku',\n",
              " 'B-kutoka_uwanja_wa_ndege_jina',\n",
              " 'B-uwanjya_wa_ndege_jina',\n",
              " 'I-ndege_mod',\n",
              " 'B-acha_mji_jina',\n",
              " 'B-uchumi',\n",
              " 'B-ndege_days',\n",
              " 'I-ndege_days',\n",
              " 'B-kuondoka_terehe.tarehe_jamaa',\n",
              " 'B-kufika_tarehe.siku_jina',\n",
              " 'B-uwanjya_wa_ndege_kanuni',\n",
              " 'B-kufika_muda.kuanza_muda',\n",
              " 'B-kufika_muda.mwisho_muda',\n",
              " 'I-kufika_muda.mwisho_muda',\n",
              " 'B-kufika_muda.kipindi_cha_siku',\n",
              " 'B-kuondoka_tarehe.tarehe_jamaa',\n",
              " 'B-bila_kurudi',\n",
              " 'I-bila_kurudi',\n",
              " 'B-ndege_number',\n",
              " 'I-mlo_maelezo',\n",
              " 'I-safari_kurudi',\n",
              " 'B-depart_time.period_mod',\n",
              " 'I-safiri_bila_kurudi',\n",
              " 'I-chakula_nambari_description',\n",
              " 'B-kuunganisha',\n",
              " 'B-kutoka_uwanja_wa_ndege_kanuni',\n",
              " 'B-hadi.jina_la_jimbo',\n",
              " 'I-uwanjya_wa_ndege_jina',\n",
              " 'I-kutoka_uwanja_wa_ndege_jina',\n",
              " 'B-kuondoka_terehe.leo_jamaa',\n",
              " 'I-acha_mji_jina',\n",
              " 'B-usafiri_aina',\n",
              " 'B-kizuizi_kanuni',\n",
              " 'B-chakula_nambari_description',\n",
              " 'B-hadi_uwanja_wa_ndege_kanuni',\n",
              " 'B-hadi_uwanja_wa_ndege_jina',\n",
              " 'B-mlo_maelezo',\n",
              " 'B-safari_kurudi',\n",
              " 'I-kizuizi_kanuni',\n",
              " 'B-ndege_hali',\n",
              " 'B-safiri_bila_kurudi',\n",
              " 'B-kipicha_cha_siku',\n",
              " 'B-kuondoka_terehe.mwaka',\n",
              " 'B-kufika_tarehe.siku_nambari',\n",
              " 'I-kuunganisha',\n",
              " 'I-darasa_aina',\n",
              " 'B-ndege_nambari',\n",
              " 'B-kuondoka.wakati_jamaa',\n",
              " 'I-ndege_hali',\n",
              " 'B-kutoka.jina_la_jimbo',\n",
              " 'B-kuondoka_tarehe.leo_jamaa',\n",
              " 'B-siku_kanuni',\n",
              " 'B-kurudi_tarehe.siku_jina',\n",
              " 'B-kurudi_tarehe.siku_jamaa',\n",
              " 'B-acha.mji_jina',\n",
              " 'B-au',\n",
              " 'B-nauli_kiasi',\n",
              " 'I-nauli_kiasi',\n",
              " 'I-kipicha_cha_siku',\n",
              " 'I-hadi_uwanja_wa_ndege_jina',\n",
              " 'B-kufika_terehe.mwezi_jina',\n",
              " 'B-kuondoka_muda.kuanza_muda',\n",
              " 'B-kuondoka_muda.mwisho_muda',\n",
              " 'I-kufika_muda.kuanza_muda',\n",
              " 'B-kupitia.mji_jina',\n",
              " 'I-kufika_muda.muda_jamaa',\n",
              " 'B-kuondoka_saa.wakati_jamaa',\n",
              " 'B-kuondoka_wakati.wakati',\n",
              " 'I-kuondoka_wakati.wakati',\n",
              " 'I-usafiri_aina',\n",
              " 'B-kuondoka.jina_la_jimbo',\n",
              " 'B-bila_kukoma',\n",
              " 'I-bila_kukoma',\n",
              " 'B-darasa_aina',\n",
              " 'B-kurudi_tarehe.tarehe_jamaa',\n",
              " 'I-kurudi_tarehe.tarehe_jamaa',\n",
              " 'B-kufika_tarehe.tarehe_jamaa',\n",
              " 'B-mapumziko',\n",
              " 'B-kuodoka_tarehe.leo_jamaa',\n",
              " 'B-siku_jina',\n",
              " 'B-kufika_muda.mwisho_muda.kipindi_cha_siku',\n",
              " 'B-kutoka_mji_kanuni',\n",
              " 'I-kurudi_tarehe.siku_jamaa',\n",
              " 'B-uwanja_wa_ndege_jina',\n",
              " 'I-acha.mji_jina',\n",
              " 'I-kupitia.mji_jina',\n",
              " 'B-kuondoka_terehe.kesho',\n",
              " 'B-acha_uwanja_wa_ndege_kanuni',\n",
              " 'I-kuondoka_muda.mwisho_muda',\n",
              " 'B-bila_kikomo',\n",
              " 'I-bila_kikomo',\n",
              " 'B-hadi.jimbo_jina',\n",
              " 'B-kufika_tarehe.mwezi_jina',\n",
              " 'B-kuweka_nafasi_aina',\n",
              " 'I-B-kuondoka_tarehe.siku_jina',\n",
              " 'B-kuondoka.mji_jina',\n",
              " 'I-kuondoka.mji_jina',\n",
              " 'B-kutoka_muda.kipindi_cha_siku']"
            ]
          },
          "execution_count": 34,
          "metadata": {},
          "output_type": "execute_result"
        }
      ],
      "source": [
        "slot_names = [\"[PAD]\"]\n",
        "slot_names += list(seq_out_word_to_index.keys())[1:]\n",
        "slot_names"
      ]
    },
    {
      "cell_type": "code",
      "execution_count": null,
      "metadata": {
        "colab": {
          "base_uri": "https://localhost:8080/"
        },
        "id": "FngyzONckFR_",
        "outputId": "cb7b71fb-5692-40bc-9ff6-4608309ca165"
      },
      "outputs": [
        {
          "data": {
            "text/plain": [
              "{'[PAD]': 0,\n",
              " 'O': 1,\n",
              " 'B-hadi.mji_jina': 2,\n",
              " 'B-kutoka_mji_jina': 3,\n",
              " 'I-hadi.mji_jina': 4,\n",
              " 'B-kuondoka_terehe.siku_jina': 5,\n",
              " 'I-kutoka_mji_jina': 6,\n",
              " 'B-kuondoka_muda.kipindi_cha_siku': 7,\n",
              " 'B-ndege_jina': 8,\n",
              " 'I-safari_ya_kurudi': 9,\n",
              " 'B-kutoka.mji_jina': 10,\n",
              " 'B-hadi_mji_jina': 11,\n",
              " 'I-kufika_muda.muda': 12,\n",
              " 'B-ndege_kanuni': 13,\n",
              " 'I-kuondoka_muda.muda': 14,\n",
              " 'I-ndege_jina': 15,\n",
              " 'B-safari_ya_kurudi': 16,\n",
              " 'B-kuondoka_muda.muda_jamaa': 17,\n",
              " 'B-mji_jina': 18,\n",
              " 'B-kuondoka_muda.muda': 19,\n",
              " 'B-kuondoka_tarehe.siku_jina': 20,\n",
              " 'B-kufika_muda.muda': 21,\n",
              " 'I-ndege_acha': 22,\n",
              " 'B-gharama_jamaa': 23,\n",
              " 'I-hadi_mji_jina': 24,\n",
              " 'I-kategoria_aina': 25,\n",
              " 'I-gharama_jamaa': 26,\n",
              " 'I-kuondoka_terehe.siku_nambari': 27,\n",
              " 'I-kutoka.mji_jina': 28,\n",
              " 'B-chakula_nambari': 29,\n",
              " 'B-ndege_mod': 30,\n",
              " 'B-ndege_acha': 31,\n",
              " 'I-mji_jina': 32,\n",
              " 'B-kategoria_aina': 33,\n",
              " 'B-kufika_muda.muda_jamaa': 34,\n",
              " 'I-uchumi': 35,\n",
              " 'B-kuondoka_terehe.mwezi_jina': 36,\n",
              " 'B-kuondoka_terehe.siku_nambari': 37,\n",
              " 'I-kuondoka_tarehe.siku_nambari': 38,\n",
              " 'B-kuondoka_tarehe.siku_nambari': 39,\n",
              " 'B-msimbo_msingi_wa_nauli': 40,\n",
              " 'B-kuondoka_tarehe.mwezi_jina': 41,\n",
              " 'I-kuondoka_muda.kipindi_cha_siku': 42,\n",
              " 'B-kutoka_uwanja_wa_ndege_jina': 43,\n",
              " 'B-uwanjya_wa_ndege_jina': 44,\n",
              " 'I-ndege_mod': 45,\n",
              " 'B-acha_mji_jina': 46,\n",
              " 'B-uchumi': 47,\n",
              " 'B-ndege_days': 48,\n",
              " 'I-ndege_days': 49,\n",
              " 'B-kuondoka_terehe.tarehe_jamaa': 50,\n",
              " 'B-kufika_tarehe.siku_jina': 51,\n",
              " 'B-uwanjya_wa_ndege_kanuni': 52,\n",
              " 'B-kufika_muda.kuanza_muda': 53,\n",
              " 'B-kufika_muda.mwisho_muda': 54,\n",
              " 'I-kufika_muda.mwisho_muda': 55,\n",
              " 'B-kufika_muda.kipindi_cha_siku': 56,\n",
              " 'B-kuondoka_tarehe.tarehe_jamaa': 57,\n",
              " 'B-bila_kurudi': 58,\n",
              " 'I-bila_kurudi': 59,\n",
              " 'B-ndege_number': 60,\n",
              " 'I-mlo_maelezo': 61,\n",
              " 'I-safari_kurudi': 62,\n",
              " 'B-depart_time.period_mod': 63,\n",
              " 'I-safiri_bila_kurudi': 64,\n",
              " 'I-chakula_nambari_description': 65,\n",
              " 'B-kuunganisha': 66,\n",
              " 'B-kutoka_uwanja_wa_ndege_kanuni': 67,\n",
              " 'B-hadi.jina_la_jimbo': 68,\n",
              " 'I-uwanjya_wa_ndege_jina': 69,\n",
              " 'I-kutoka_uwanja_wa_ndege_jina': 70,\n",
              " 'B-kuondoka_terehe.leo_jamaa': 71,\n",
              " 'I-acha_mji_jina': 72,\n",
              " 'B-usafiri_aina': 73,\n",
              " 'B-kizuizi_kanuni': 74,\n",
              " 'B-chakula_nambari_description': 75,\n",
              " 'B-hadi_uwanja_wa_ndege_kanuni': 76,\n",
              " 'B-hadi_uwanja_wa_ndege_jina': 77,\n",
              " 'B-mlo_maelezo': 78,\n",
              " 'B-safari_kurudi': 79,\n",
              " 'I-kizuizi_kanuni': 80,\n",
              " 'B-ndege_hali': 81,\n",
              " 'B-safiri_bila_kurudi': 82,\n",
              " 'B-kipicha_cha_siku': 83,\n",
              " 'B-kuondoka_terehe.mwaka': 84,\n",
              " 'B-kufika_tarehe.siku_nambari': 85,\n",
              " 'I-kuunganisha': 86,\n",
              " 'I-darasa_aina': 87,\n",
              " 'B-ndege_nambari': 88,\n",
              " 'B-kuondoka.wakati_jamaa': 89,\n",
              " 'I-ndege_hali': 90,\n",
              " 'B-kutoka.jina_la_jimbo': 91,\n",
              " 'B-kuondoka_tarehe.leo_jamaa': 92,\n",
              " 'B-siku_kanuni': 93,\n",
              " 'B-kurudi_tarehe.siku_jina': 94,\n",
              " 'B-kurudi_tarehe.siku_jamaa': 95,\n",
              " 'B-acha.mji_jina': 96,\n",
              " 'B-au': 97,\n",
              " 'B-nauli_kiasi': 98,\n",
              " 'I-nauli_kiasi': 99,\n",
              " 'I-kipicha_cha_siku': 100,\n",
              " 'I-hadi_uwanja_wa_ndege_jina': 101,\n",
              " 'B-kufika_terehe.mwezi_jina': 102,\n",
              " 'B-kuondoka_muda.kuanza_muda': 103,\n",
              " 'B-kuondoka_muda.mwisho_muda': 104,\n",
              " 'I-kufika_muda.kuanza_muda': 105,\n",
              " 'B-kupitia.mji_jina': 106,\n",
              " 'I-kufika_muda.muda_jamaa': 107,\n",
              " 'B-kuondoka_saa.wakati_jamaa': 108,\n",
              " 'B-kuondoka_wakati.wakati': 109,\n",
              " 'I-kuondoka_wakati.wakati': 110,\n",
              " 'I-usafiri_aina': 111,\n",
              " 'B-kuondoka.jina_la_jimbo': 112,\n",
              " 'B-bila_kukoma': 113,\n",
              " 'I-bila_kukoma': 114,\n",
              " 'B-darasa_aina': 115,\n",
              " 'B-kurudi_tarehe.tarehe_jamaa': 116,\n",
              " 'I-kurudi_tarehe.tarehe_jamaa': 117,\n",
              " 'B-kufika_tarehe.tarehe_jamaa': 118,\n",
              " 'B-mapumziko': 119,\n",
              " 'B-kuodoka_tarehe.leo_jamaa': 120,\n",
              " 'B-siku_jina': 121,\n",
              " 'B-kufika_muda.mwisho_muda.kipindi_cha_siku': 122,\n",
              " 'B-kutoka_mji_kanuni': 123,\n",
              " 'I-kurudi_tarehe.siku_jamaa': 124,\n",
              " 'B-uwanja_wa_ndege_jina': 125,\n",
              " 'I-acha.mji_jina': 126,\n",
              " 'I-kupitia.mji_jina': 127,\n",
              " 'B-kuondoka_terehe.kesho': 128,\n",
              " 'B-acha_uwanja_wa_ndege_kanuni': 129,\n",
              " 'I-kuondoka_muda.mwisho_muda': 130,\n",
              " 'B-bila_kikomo': 131,\n",
              " 'I-bila_kikomo': 132,\n",
              " 'B-hadi.jimbo_jina': 133,\n",
              " 'B-kufika_tarehe.mwezi_jina': 134,\n",
              " 'B-kuweka_nafasi_aina': 135,\n",
              " 'I-B-kuondoka_tarehe.siku_jina': 136,\n",
              " 'B-kuondoka.mji_jina': 137,\n",
              " 'I-kuondoka.mji_jina': 138,\n",
              " 'B-kutoka_muda.kipindi_cha_siku': 139}"
            ]
          },
          "execution_count": 35,
          "metadata": {},
          "output_type": "execute_result"
        }
      ],
      "source": [
        "slot_map = {}\n",
        "for label in slot_names:\n",
        "    slot_map[label] = len(slot_map)\n",
        "slot_map"
      ]
    },
    {
      "cell_type": "markdown",
      "metadata": {
        "id": "v8CX6LxYmhRh"
      },
      "source": [
        "The following function generates token-aligned integer labels from the BIO word-level annotations. In particular, if a specific word is too long to be represented as a single token, we expand its label for all the tokens of that word while taking care of using \"B-\" labels only for the first token and then use \"I-\" for the matching slot type for subsequent tokens of the same word:"
      ]
    },
    {
      "cell_type": "code",
      "execution_count": null,
      "metadata": {
        "id": "6LLkBWFJM6tr"
      },
      "outputs": [],
      "source": [
        "def encode_token_labels(text_sequences, slot_names, tokenizer, slot_map,max_length):\n",
        "  \n",
        "    encoded = np.zeros(shape=(len(text_sequences), max_length), dtype=np.int32)\n",
        "    for i, (text_sequence, word_labels) in enumerate(\n",
        "            zip(text_sequences, slot_names)):\n",
        "        encoded_labels = []\n",
        "        for word, word_label in zip(text_sequence.split(), word_labels.split()):\n",
        "            tokens = tokenizer.tokenize(word)\n",
        "            encoded_labels.append(slot_map[word_label])\n",
        "            expand_label = word_label.replace(\"B-\", \"I-\")\n",
        "            if not expand_label in slot_map:\n",
        "                expand_label = word_label\n",
        "            encoded_labels.extend([slot_map[expand_label]] * (len(tokens) - 1))\n",
        "        encoded[i, 1:len(encoded_labels) + 1] = encoded_labels\n",
        "    return encoded\n",
        "\n",
        "slot_train = encode_token_labels(\n",
        "    df_train[\"words\"], df_train[\"word_labels\"], tokenizer, slot_map, 60)\n",
        "slot_valid = encode_token_labels(\n",
        "    df_valid[\"words\"], df_valid[\"word_labels\"], tokenizer, slot_map, 60)\n",
        "# slot_test = encode_token_labels(\n",
        "#     df_test[\"words\"], df_test[\"word_labels\"], tokenizer, slot_map, 90)"
      ]
    },
    {
      "cell_type": "code",
      "execution_count": null,
      "metadata": {
        "colab": {
          "base_uri": "https://localhost:8080/"
        },
        "id": "z1agpFmmA4fJ",
        "outputId": "70410f81-26ba-4154-8c14-d2323efc4e25"
      },
      "outputs": [
        {
          "data": {
            "text/plain": [
              "array([  0,  20,  20,  20,   7,  42,  42, 113, 114, 114, 114, 114,   1,\n",
              "         1,  10,   1,   2,   0,   0,   0,   0,   0,   0,   0,   0,   0,\n",
              "         0,   0,   0,   0,   0,   0,   0,   0,   0,   0,   0,   0,   0,\n",
              "         0,   0,   0,   0,   0,   0,   0,   0,   0,   0,   0,   0,   0,\n",
              "         0,   0,   0,   0,   0,   0,   0,   0], dtype=int32)"
            ]
          },
          "execution_count": 37,
          "metadata": {},
          "output_type": "execute_result"
        }
      ],
      "source": [
        "########################\n",
        "######### Debbuging proccess\n",
        "\n",
        "slot_train[0]"
      ]
    },
    {
      "cell_type": "code",
      "execution_count": null,
      "metadata": {
        "colab": {
          "base_uri": "https://localhost:8080/"
        },
        "id": "aqjvB3jXCnfP",
        "outputId": "aa051798-398e-4ae5-f5f8-02889fe2b748"
      },
      "outputs": [
        {
          "data": {
            "text/plain": [
              "array([ 0,  1,  1,  1,  1,  1,  1,  3,  6,  6,  6,  1,  1,  1,  2,  4,  5,\n",
              "        5,  5,  7, 42,  1,  1, 29, 29,  0,  0,  0,  0,  0,  0,  0,  0,  0,\n",
              "        0,  0,  0,  0,  0,  0,  0,  0,  0,  0,  0,  0,  0,  0,  0,  0,  0,\n",
              "        0,  0,  0,  0,  0,  0,  0,  0,  0], dtype=int32)"
            ]
          },
          "execution_count": 38,
          "metadata": {},
          "output_type": "execute_result"
        }
      ],
      "source": [
        "slot_valid[0]"
      ]
    },
    {
      "cell_type": "code",
      "execution_count": null,
      "metadata": {
        "id": "mYfBulefDZqu"
      },
      "outputs": [],
      "source": [
        "# slot_map"
      ]
    },
    {
      "cell_type": "code",
      "execution_count": null,
      "metadata": {
        "id": "BOLFQGIgEmY-"
      },
      "outputs": [],
      "source": [
        "# # def encode_token_labels(text_sequences, slot_names, tokenizer, slot_map,max_length):\n",
        "\n",
        "# text_sequences = df_train[\"words\"]\n",
        "# slot_names = df_train[\"word_labels\"]\n",
        "# slot_map = slot_map\n",
        "# max_length  = 63\n",
        "\n",
        "# encoded = np.zeros(shape=(len(text_sequences), max_length), dtype=np.int32)\n",
        "# for i, (text_sequence, word_labels) in enumerate(\n",
        "#         zip(text_sequences, slot_names)):\n",
        "#     encoded_labels = []\n",
        "\n",
        "#     for word, word_label in zip(text_sequence.split(), word_labels.split()):\n",
        "\n",
        "#         tokens = tokenizer.tokenize(word)\n",
        "#         # print(word_label)\n",
        "\n",
        "#         encoded_labels.append(slot_map[word_label])\n",
        "\n",
        "#         expand_label = word_label.replace(\"B-\", \"I-\")\n",
        "\n",
        "#         if not expand_label in slot_map:\n",
        "\n",
        "#             expand_label = word_label\n",
        "#         encoded_labels.extend([slot_map[expand_label]] * (len(tokens) - 1))\n",
        "#     encoded[i, 1:len(encoded_labels) + 1] = encoded_labels\n",
        "\n",
        "# # print(encoded)\n",
        "\n",
        "# slot_train = encode_token_labels(\n",
        "#     df_train[\"words\"], df_train[\"word_labels\"], tokenizer, slot_map, 63)\n",
        "# slot_valid = encode_token_labels(\n",
        "#     df_valid[\"words\"], df_valid[\"word_labels\"], tokenizer, slot_map, 63)\n",
        "# slot_test = encode_token_labels(\n",
        "#     df_test[\"words\"], df_test[\"word_labels\"], tokenizer, slot_map, 63)"
      ]
    },
    {
      "cell_type": "code",
      "execution_count": null,
      "metadata": {
        "id": "aIs1xOdkHU7Y"
      },
      "outputs": [],
      "source": [
        "# df_train[\"words\"][0]"
      ]
    },
    {
      "cell_type": "code",
      "execution_count": null,
      "metadata": {
        "id": "L7WAu26sG75s"
      },
      "outputs": [],
      "source": [
        "# df_train[\"word_labels\"][0]"
      ]
    },
    {
      "cell_type": "code",
      "execution_count": null,
      "metadata": {
        "colab": {
          "base_uri": "https://localhost:8080/"
        },
        "id": "NDgOINVrF8Un",
        "outputId": "169ab0b4-cde0-452b-c664-b049f1f57ded"
      },
      "outputs": [
        {
          "data": {
            "text/plain": [
              "1"
            ]
          },
          "execution_count": 39,
          "metadata": {},
          "output_type": "execute_result"
        }
      ],
      "source": [
        "slot_map['O']"
      ]
    },
    {
      "cell_type": "markdown",
      "metadata": {
        "id": "n33S5n-TnVjd"
      },
      "source": [
        "Note that the special tokens such as \"[PAD]\" and \"[SEP]\" and all padded positions recieve a 0 label."
      ]
    },
    {
      "cell_type": "markdown",
      "metadata": {
        "id": "LATnIrGKiMzO"
      },
      "source": [
        "#Joint Intent And Slot Filling Model"
      ]
    },
    {
      "cell_type": "code",
      "execution_count": null,
      "metadata": {
        "id": "FwkvLq3KzU4G"
      },
      "outputs": [],
      "source": [
        "class JointIntentAndSlotFillingModel(tf.keras.Model):\n",
        "\n",
        "    def __init__(self, intent_num_labels=None, slot_num_labels=None,\n",
        "                 model_name=\"bert-base-multilingual-cased\", dropout_prob=0.1):\n",
        "        super().__init__(name=\"joint_intent_slot\")\n",
        "        self.bert = TFAutoModel.from_pretrained(model_name)\n",
        "        self.dropout = Dropout(dropout_prob)\n",
        "        self.intent_classifier = Dense(intent_num_labels,\n",
        "                                       name=\"intent_classifier\")\n",
        "        self.slot_classifier = Dense(slot_num_labels,\n",
        "                                     name=\"slot_classifier\")\n",
        "\n",
        "    def call(self, inputs, training=False):\n",
        "        sequence_output, pooled_output = self.bert(inputs, training=training)\n",
        "\n",
        "        # The first output of the main BERT layer has shape:\n",
        "        # (batch_size, max_length, output_dim)\n",
        "        sequence_output = self.dropout(sequence_output, training=training)\n",
        "        slot_logits = self.slot_classifier(sequence_output)\n",
        "\n",
        "        # The second output of the main BERT layer has shape:\n",
        "        # (batch_size, output_dim)\n",
        "        # and gives a \"pooled\" representation for the full sequence from the\n",
        "        # hidden state that corresponds to the \"[CLS]\" token.\n",
        "        pooled_output = self.dropout(pooled_output, training=training)\n",
        "        intent_logits = self.intent_classifier(pooled_output)\n",
        "\n",
        "        return slot_logits, intent_logits\n",
        "\n",
        "joint_model = JointIntentAndSlotFillingModel(intent_num_labels=len(intent_map), slot_num_labels=len(slot_map))\n",
        "        \n",
        "# joint_model.compile(optimizer=Adam(learning_rate=3e-5, epsilon=1e-08),loss=losses)\n"
      ]
    },
    {
      "cell_type": "code",
      "execution_count": null,
      "metadata": {
        "id": "cCPRwf2Czf_d"
      },
      "outputs": [],
      "source": [
        "opt = Adam(learning_rate=3e-5, epsilon=1e-08)\n",
        "losses = [SparseCategoricalCrossentropy(from_logits=True),\n",
        "          SparseCategoricalCrossentropy(from_logits=True)]\n",
        "metrics = [SparseCategoricalAccuracy('accuracy')]\n",
        "joint_model.compile(optimizer=opt, loss=losses, metrics=metrics)"
      ]
    },
    {
      "cell_type": "code",
      "execution_count": null,
      "metadata": {
        "id": "zdWv-2CxqjOh"
      },
      "outputs": [],
      "source": [
        "#########\n",
        "\n",
        "# checkpoint_path = \"/content/drive/MyDrive/JP Morgan/Data/model_ester_swa/cp.ckpt\"\n",
        "# checkpoint_dir = os.path.dirname(checkpoint_path)\n",
        "\n",
        "# # Create a callback that saves the model's weights\n",
        "# cp_callback = tf.keras.callbacks.ModelCheckpoint(filepath=checkpoint_path,\n",
        "#                                                  save_weights_only=True,\n",
        "#                                                  verbose=1)"
      ]
    },
    {
      "cell_type": "code",
      "execution_count": null,
      "metadata": {
        "id": "2iaklleRsH88"
      },
      "outputs": [],
      "source": [
        "#### Loading Model weights for training \n",
        "\n",
        "################\n",
        "\n",
        "# joint_model.load_weights('/content/drive/MyDrive/JP Morgan/Data/model_ester_swa/cp.ckpt')"
      ]
    },
    {
      "cell_type": "code",
      "execution_count": null,
      "metadata": {
        "colab": {
          "base_uri": "https://localhost:8080/"
        },
        "id": "Q8A0qr1K2Q-s",
        "outputId": "b78fe981-30cb-4261-ca23-a6d34b234015"
      },
      "outputs": [
        {
          "name": "stdout",
          "output_type": "stream",
          "text": [
            "Epoch 1/15\n",
            "90/90 [==============================] - 16s 177ms/step - loss: 1.5449 - output_1_loss: 0.4974 - output_2_loss: 1.0475 - output_1_accuracy: 0.9021 - output_2_accuracy: 0.7339 - val_loss: 1.2495 - val_output_1_loss: 0.4143 - val_output_2_loss: 0.8352 - val_output_1_accuracy: 0.9227 - val_output_2_accuracy: 0.7821\n",
            "Epoch 2/15\n",
            "90/90 [==============================] - 16s 177ms/step - loss: 1.0740 - output_1_loss: 0.3977 - output_2_loss: 0.6763 - output_1_accuracy: 0.9228 - output_2_accuracy: 0.8333 - val_loss: 1.0894 - val_output_1_loss: 0.3569 - val_output_2_loss: 0.7326 - val_output_1_accuracy: 0.9313 - val_output_2_accuracy: 0.8156\n",
            "Epoch 3/15\n",
            "90/90 [==============================] - 16s 179ms/step - loss: 0.8450 - output_1_loss: 0.3515 - output_2_loss: 0.4935 - output_1_accuracy: 0.9304 - output_2_accuracy: 0.8852 - val_loss: 0.9142 - val_output_1_loss: 0.3243 - val_output_2_loss: 0.5898 - val_output_1_accuracy: 0.9339 - val_output_2_accuracy: 0.8436\n",
            "Epoch 4/15\n",
            "90/90 [==============================] - 18s 203ms/step - loss: 0.6075 - output_1_loss: 0.3092 - output_2_loss: 0.2983 - output_1_accuracy: 0.9370 - output_2_accuracy: 0.9202 - val_loss: 0.6840 - val_output_1_loss: 0.2932 - val_output_2_loss: 0.3908 - val_output_1_accuracy: 0.9406 - val_output_2_accuracy: 0.8883\n",
            "Epoch 5/15\n",
            "90/90 [==============================] - 19s 215ms/step - loss: 0.4799 - output_1_loss: 0.2795 - output_2_loss: 0.2004 - output_1_accuracy: 0.9420 - output_2_accuracy: 0.9524 - val_loss: 0.5148 - val_output_1_loss: 0.2800 - val_output_2_loss: 0.2348 - val_output_1_accuracy: 0.9421 - val_output_2_accuracy: 0.9441\n",
            "Epoch 6/15\n",
            "90/90 [==============================] - 16s 175ms/step - loss: 0.3740 - output_1_loss: 0.2494 - output_2_loss: 0.1246 - output_1_accuracy: 0.9471 - output_2_accuracy: 0.9748 - val_loss: 0.3994 - val_output_1_loss: 0.2604 - val_output_2_loss: 0.1390 - val_output_1_accuracy: 0.9464 - val_output_2_accuracy: 0.9665\n",
            "Epoch 7/15\n",
            "90/90 [==============================] - 17s 189ms/step - loss: 0.2921 - output_1_loss: 0.2205 - output_2_loss: 0.0716 - output_1_accuracy: 0.9521 - output_2_accuracy: 0.9846 - val_loss: 0.3547 - val_output_1_loss: 0.2394 - val_output_2_loss: 0.1153 - val_output_1_accuracy: 0.9482 - val_output_2_accuracy: 0.9721\n",
            "Epoch 8/15\n",
            "90/90 [==============================] - 16s 176ms/step - loss: 0.2310 - output_1_loss: 0.1963 - output_2_loss: 0.0347 - output_1_accuracy: 0.9564 - output_2_accuracy: 0.9944 - val_loss: 0.3854 - val_output_1_loss: 0.2362 - val_output_2_loss: 0.1492 - val_output_1_accuracy: 0.9513 - val_output_2_accuracy: 0.9609\n",
            "Epoch 9/15\n",
            "90/90 [==============================] - 16s 176ms/step - loss: 0.2219 - output_1_loss: 0.1746 - output_2_loss: 0.0473 - output_1_accuracy: 0.9614 - output_2_accuracy: 0.9902 - val_loss: 0.3992 - val_output_1_loss: 0.2292 - val_output_2_loss: 0.1700 - val_output_1_accuracy: 0.9549 - val_output_2_accuracy: 0.9609\n",
            "Epoch 10/15\n",
            "90/90 [==============================] - 16s 176ms/step - loss: 0.1989 - output_1_loss: 0.1625 - output_2_loss: 0.0365 - output_1_accuracy: 0.9629 - output_2_accuracy: 0.9902 - val_loss: 0.3451 - val_output_1_loss: 0.2194 - val_output_2_loss: 0.1257 - val_output_1_accuracy: 0.9553 - val_output_2_accuracy: 0.9777\n",
            "Epoch 11/15\n",
            "90/90 [==============================] - 16s 181ms/step - loss: 0.1816 - output_1_loss: 0.1535 - output_2_loss: 0.0281 - output_1_accuracy: 0.9640 - output_2_accuracy: 0.9944 - val_loss: 0.3494 - val_output_1_loss: 0.2183 - val_output_2_loss: 0.1310 - val_output_1_accuracy: 0.9553 - val_output_2_accuracy: 0.9609\n",
            "Epoch 12/15\n",
            "90/90 [==============================] - 16s 175ms/step - loss: 0.1751 - output_1_loss: 0.1452 - output_2_loss: 0.0299 - output_1_accuracy: 0.9661 - output_2_accuracy: 0.9944 - val_loss: 0.3352 - val_output_1_loss: 0.2192 - val_output_2_loss: 0.1160 - val_output_1_accuracy: 0.9542 - val_output_2_accuracy: 0.9721\n",
            "Epoch 13/15\n",
            "90/90 [==============================] - 16s 175ms/step - loss: 0.1559 - output_1_loss: 0.1310 - output_2_loss: 0.0249 - output_1_accuracy: 0.9689 - output_2_accuracy: 0.9958 - val_loss: 0.3313 - val_output_1_loss: 0.2056 - val_output_2_loss: 0.1257 - val_output_1_accuracy: 0.9583 - val_output_2_accuracy: 0.9665\n",
            "Epoch 14/15\n",
            "90/90 [==============================] - 16s 179ms/step - loss: 0.1214 - output_1_loss: 0.1126 - output_2_loss: 0.0088 - output_1_accuracy: 0.9728 - output_2_accuracy: 0.9986 - val_loss: 0.3240 - val_output_1_loss: 0.2089 - val_output_2_loss: 0.1151 - val_output_1_accuracy: 0.9602 - val_output_2_accuracy: 0.9721\n",
            "Epoch 15/15\n",
            "90/90 [==============================] - 16s 176ms/step - loss: 0.1020 - output_1_loss: 0.0980 - output_2_loss: 0.0040 - output_1_accuracy: 0.9764 - output_2_accuracy: 1.0000 - val_loss: 0.3447 - val_output_1_loss: 0.2387 - val_output_2_loss: 0.1060 - val_output_1_accuracy: 0.9522 - val_output_2_accuracy: 0.9721\n"
          ]
        }
      ],
      "source": [
        "history = joint_model.fit(\n",
        "    encoded_train,\n",
        "    (slot_train, intent_train),\n",
        "    validation_data=(encoded_valid, (slot_valid, intent_valid)), \n",
        "    epochs=15,\n",
        "    batch_size=8\n",
        ")"
      ]
    },
    {
      "cell_type": "markdown",
      "metadata": {
        "id": "AlYclnfdkTJV"
      },
      "source": [
        "### Save the model"
      ]
    },
    {
      "cell_type": "code",
      "execution_count": null,
      "metadata": {
        "colab": {
          "base_uri": "https://localhost:8080/"
        },
        "id": "7UJhptRJkVPo",
        "outputId": "55fee8b0-be3f-465d-a3ea-87970006a165"
      },
      "outputs": [
        {
          "name": "stderr",
          "output_type": "stream",
          "text": [
            "WARNING:absl:Found untraced functions such as embeddings_layer_call_fn, embeddings_layer_call_and_return_conditional_losses, encoder_layer_call_fn, encoder_layer_call_and_return_conditional_losses, pooler_layer_call_fn while saving (showing 5 of 426). These functions will not be directly callable after loading.\n"
          ]
        }
      ],
      "source": [
        "model = joint_model\n",
        "\n",
        "model.save(\"/content/drive/MyDrive/JP Morgan/Data/model_ester_swa/best_working\")"
      ]
    },
    {
      "cell_type": "markdown",
      "metadata": {
        "id": "KISsxUXO6aA1"
      },
      "source": [
        "#Making prediction on a single text sequence and displaying both the sequence-wise and the token-wise class labels"
      ]
    },
    {
      "cell_type": "code",
      "execution_count": null,
      "metadata": {
        "id": "r0hZKphof3Im"
      },
      "outputs": [],
      "source": [
        "def show_predictions(text, tokenizer, model, intent_names, slot_names):\n",
        "\n",
        "    inputs = tf.constant(tokenizer.encode(text))[None, :]  # batch_size = 1\n",
        "    # print(inputs)\n",
        "    outputs = model(inputs)\n",
        "    slot_logits, intent_logits = outputs\n",
        "    # print(outputs)\n",
        "    slot_ids = slot_logits.numpy().argmax(axis=-1)[0, 1:-1]\n",
        "    # print(slot_ids)\n",
        "    intent_id = intent_logits.numpy().argmax(axis=-1)[0]\n",
        "    intent = [k for k, v in intent_names.items() if v == intent_id]\n",
        "\n",
        "    # print(slot_ids)\n",
        "\n",
        "    # print(\"## Intent:\", intent)\n",
        "    # print(\"## Slots:\")\n",
        "    slot_pred = []\n",
        "    \n",
        "    ####\n",
        "    text_split = text.split(' ')\n",
        "    tokens_ids = [(i,j) for i,j in zip(tokenizer.tokenize(text),slot_ids)]\n",
        "    #### Removing ## Tokens\n",
        "    tokens_ids_ = [x for x in tokens_ids if not '##' in x[0]]\n",
        "\n",
        "\n",
        "    for token, slot_id in zip(text_split, tokens_ids_):\n",
        "      slot_pred.append(slot_names[slot_id[1]])\n",
        "\n",
        "    return intent, slot_pred"
      ]
    },
    {
      "cell_type": "code",
      "execution_count": null,
      "metadata": {
        "id": "lDm5q6qYcRGA"
      },
      "outputs": [],
      "source": [
        "# slot_names"
      ]
    },
    {
      "cell_type": "code",
      "execution_count": null,
      "metadata": {
        "colab": {
          "base_uri": "https://localhost:8080/"
        },
        "id": "gBfbYCPZ1jZt",
        "outputId": "ea31e96c-d340-43f9-856c-8ed9e4844c73"
      },
      "outputs": [
        {
          "data": {
            "text/plain": [
              "('ni ndege gani huondoka kutoka baltimore na kufika san francisco siku ya Ijumaa',\n",
              " 'O O O B-kutoka_mji_jina O B-hadi_mji_jina O O B-chakula_nambari O B-ndege_jina')"
            ]
          },
          "execution_count": 74,
          "metadata": {},
          "output_type": "execute_result"
        }
      ],
      "source": [
        "df_valid.iloc[55][\"words\"], df_valid.iloc[55][\"word_labels\"]"
      ]
    },
    {
      "cell_type": "code",
      "execution_count": null,
      "metadata": {
        "colab": {
          "base_uri": "https://localhost:8080/"
        },
        "id": "dzzVtd7ag7Hi",
        "outputId": "c9e09ddc-4d93-4c82-c0a8-4deef1db3b9e"
      },
      "outputs": [
        {
          "data": {
            "text/plain": [
              "(['ndege'],\n",
              " ['O',\n",
              "  'O',\n",
              "  'O',\n",
              "  'O',\n",
              "  'B-kutoka_mji_jina',\n",
              "  'I-kutoka_mji_jina',\n",
              "  'I-kutoka_mji_jina',\n",
              "  'O',\n",
              "  'B-hadi.mji_jina',\n",
              "  'B-hadi.mji_jina',\n",
              "  'B-kuondoka_terehe.siku_jina',\n",
              "  'B-kuondoka_muda.kipindi_cha_siku',\n",
              "  'O',\n",
              "  'O'])"
            ]
          },
          "execution_count": 54,
          "metadata": {},
          "output_type": "execute_result"
        }
      ],
      "source": [
        "pred_intent, pred_slot = show_predictions(df_valid.iloc[0][\"words\"], tokenizer, joint_model, intent_map, slot_names)\n",
        "pred_intent, pred_slot"
      ]
    },
    {
      "cell_type": "code",
      "execution_count": null,
      "metadata": {
        "id": "0fZ7_hxdgVcV"
      },
      "outputs": [],
      "source": [
        "\n",
        "# # def evaluate()\n",
        "#       print(idx, len(true_label), len(pred_slot), len(df_valid.iloc[idx][\"words\"].split()))\n",
        "#       print(\"Added\", num_add, [\"PAD\"]*num_add)\n",
        "#       print(df_valid.iloc[idx][\"words\"])\n",
        "#       print(true_label)\n",
        "#       print(pred_slot)\n",
        "#       # break\n"
      ]
    },
    {
      "cell_type": "code",
      "execution_count": null,
      "metadata": {
        "id": "sWuVXQWE0iTy"
      },
      "outputs": [],
      "source": [
        "# pred_slot\n",
        "from sklearn.metrics import f1_score\n",
        "\n",
        "avg_f1_score = []\n",
        "avg_accuracy_score = []\n",
        "\n",
        "count = 0\n",
        "\n",
        "for idx in range(len(df_valid)):\n",
        "  try:\n",
        "    pred_intent, pred_slot = show_predictions(df_valid.iloc[idx][\"words\"], tokenizer, joint_model, intent_map, slot_names)\n",
        "\n",
        "    true_label = df_valid.iloc[idx][\"word_labels\"].split()\n",
        "\n",
        "    # if(len(true_label) > len(pred_slot)):\n",
        "    #   num_add = len(true_label) - len(pred_slot)\n",
        "    #   pred_slot.extend([\"[PAD]\"]*num_add)\n",
        "    #   count += 1\n",
        "\n",
        "    # elif(len(pred_slot) > len(true_label)):\n",
        "    #   num_add = len(pred_slot) - len(true_label)\n",
        "    #   pred_slot.extend([\"O\"]*num_add)\n",
        "    #   count += 1\n",
        "\n",
        "    f1 = f1_score(true_label, pred_slot, average=\"macro\")\n",
        "    accuracy = accuracy_score(true_label, pred_slot)\n",
        "\n",
        "    avg_f1_score.append(f1)\n",
        "    avg_accuracy_score.append(accuracy)\n",
        "\n",
        "    # print(len(df_valid.iloc[idx][\"word_labels\"].split()), len(pred_slot))\n",
        "\n",
        "  except:\n",
        "    pass\n",
        "    # print(idx)\n",
        "    # print(df_valid.iloc[idx][\"words\"])\n",
        "    # print(df_valid.iloc[idx][\"word_labels\"].split())\n",
        "    # print(pred_slot)\n",
        "    # print(len(df_valid.iloc[idx][\"word_labels\"].split()), len(pred_slot))\n",
        "    # break\n",
        "# df_valid.iloc[0][\"word_labels\"].split(\" \"), pred_slot"
      ]
    },
    {
      "cell_type": "code",
      "execution_count": null,
      "metadata": {
        "colab": {
          "base_uri": "https://localhost:8080/"
        },
        "id": "gu6CWpYLpGOA",
        "outputId": "060473dc-682f-4fde-f3ee-eefea3bf8c07"
      },
      "outputs": [
        {
          "name": "stdout",
          "output_type": "stream",
          "text": [
            "F1 Score:  0.7492170157204592 \n",
            "Accuracy: 0.8881970588779987\n"
          ]
        }
      ],
      "source": [
        "print(\"F1 Score: \", np.mean(avg_f1_score), \"\\nAccuracy:\", np.mean(avg_accuracy_score))"
      ]
    },
    {
      "cell_type": "code",
      "execution_count": null,
      "metadata": {
        "colab": {
          "base_uri": "https://localhost:8080/"
        },
        "id": "KjAzFBWzoMbF",
        "outputId": "271298ac-bad0-453c-c8fb-07b21f43a657"
      },
      "outputs": [
        {
          "name": "stdout",
          "output_type": "stream",
          "text": [
            "23\n"
          ]
        },
        {
          "data": {
            "text/plain": [
              "(None, 179)"
            ]
          },
          "execution_count": 83,
          "metadata": {},
          "output_type": "execute_result"
        }
      ],
      "source": [
        "print(count), len(df_valid)"
      ]
    },
    {
      "cell_type": "code",
      "execution_count": null,
      "metadata": {
        "colab": {
          "base_uri": "https://localhost:8080/"
        },
        "id": "9h6Qn_dJjPmM",
        "outputId": "46ec2507-a35a-45bc-b3cb-00c98db9df2e"
      },
      "outputs": [
        {
          "data": {
            "text/plain": [
              "0.9"
            ]
          },
          "execution_count": 66,
          "metadata": {},
          "output_type": "execute_result"
        }
      ],
      "source": [
        "a = ['O', 'O', 'O', 'O', 'B-safari_kurudi', 'I-safari_kurudi', 'I-safari_kurudi', 'O', 'B-kutoka.mji_jina', 'B-kuondoka_tarehe.siku_jina', 'B-kuondoka_tarehe.tarehe_jamaa', 'O', 'O', 'B-hadi.mji_jina', 'O', 'O', 'B-kufika_muda.muda', 'I-kufika_muda.muda', 'I-kufika_muda.muda', 'B-kufika_muda.kipindi_cha_siku']\n",
        "b = ['O', 'O', 'O', 'O', 'B-safari_ya_kurudi', 'I-safari_kurudi', 'I-safari_kurudi', 'O', 'B-kutoka.mji_jina', 'B-kuondoka_tarehe.siku_jina', 'B-kuondoka_tarehe.tarehe_jamaa', 'O', 'O', 'B-hadi.mji_jina', 'O', 'O', 'B-kufika_muda.muda', 'I-kufika_muda.muda', 'I-kufika_muda.muda', 'I-kufika_muda.muda']\n",
        "\n",
        "f1_score(a, b, average=\"micro\")"
      ]
    },
    {
      "cell_type": "code",
      "execution_count": null,
      "metadata": {
        "colab": {
          "base_uri": "https://localhost:8080/"
        },
        "id": "Nd0jcT53nzH4",
        "outputId": "b25a33c9-688d-49f8-d098-8741cd7ef09e"
      },
      "outputs": [
        {
          "data": {
            "text/plain": [
              "179"
            ]
          },
          "execution_count": 106,
          "metadata": {},
          "output_type": "execute_result"
        }
      ],
      "source": [
        "len(df_valid)"
      ]
    },
    {
      "cell_type": "code",
      "execution_count": null,
      "metadata": {
        "id": "OCpydUWx3Ahm"
      },
      "outputs": [],
      "source": [
        "# O O O O B-kuva.umujyi_izina B-igihe_umunsi I-igihe_umunsi O B-kugera.umujyi_izina O   B-igihe_umunsi"
      ]
    },
    {
      "cell_type": "code",
      "execution_count": null,
      "metadata": {
        "colab": {
          "base_uri": "https://localhost:8080/"
        },
        "id": "B2-HW5Ay31yy",
        "outputId": "db60adcd-387e-4afb-d755-5b05a3510265"
      },
      "outputs": [
        {
          "data": {
            "text/plain": [
              "(['ndege'],\n",
              " ['O',\n",
              "  'O',\n",
              "  'O',\n",
              "  'B-hadi.mji_jina',\n",
              "  'O',\n",
              "  'B-hadi.mji_jina',\n",
              "  'I-kutoka_mji_jina',\n",
              "  'I-hadi.mji_jina',\n",
              "  'O'])"
            ]
          },
          "execution_count": 108,
          "metadata": {},
          "output_type": "execute_result"
        }
      ],
      "source": [
        "show_predictions(\"kwerekana indege kuva burbank kuri st. louis on monday\",\n",
        "                 tokenizer, joint_model, intent_map, slot_names)"
      ]
    },
    {
      "cell_type": "code",
      "execution_count": null,
      "metadata": {
        "id": "p3N-_igFe_lW"
      },
      "outputs": [],
      "source": [
        "# from transformers import AutoTokenizer, AutoModelForTokenClassification\n",
        "# from transformers import pipeline\n",
        "# model_name = 'mbeukman/xlm-roberta-base-finetuned-ner-kinyarwanda'\n",
        "# tokenizer = AutoTokenizer.from_pretrained(model_name)\n",
        "# model = AutoModelForTokenClassification.from_pretrained(model_name)\n",
        "\n",
        "# nlp = pipeline(\"ner\", model=model, tokenizer=tokenizer)\n",
        "# example = \"Ambasaderi wa EU mu Rwanda , Nicola Bellomo yagize ati “ Inkunga yacu ni imwe mu nkunga yagutse yiswe # TeamEurope .\"\n",
        "\n",
        "# ner_results = nlp(example)\n",
        "# print(ner_results)"
      ]
    },
    {
      "cell_type": "code",
      "execution_count": null,
      "metadata": {
        "id": "ZxkO6_0uq6xL"
      },
      "outputs": [],
      "source": [
        "# from transformers import AutoTokenizer, AutoModelForTokenClassification\n",
        "# from transformers import pipeline\n",
        "\n",
        "# tokenizer = AutoTokenizer.from_pretrained(\"dslim/bert-base-NER\")\n",
        "# model = AutoModelForTokenClassification.from_pretrained(\"dslim/bert-base-NER\")\n",
        "\n",
        "# nlp = pipeline(\"ner\", model=model, tokenizer=tokenizer)\n",
        "# example = \"My name is Wolfgang and I live in Berlin\"\n",
        "\n",
        "# ner_results = nlp(example)\n",
        "# print(ner_results)"
      ]
    },
    {
      "cell_type": "code",
      "execution_count": null,
      "metadata": {
        "id": "7mcSS6BfrFxC"
      },
      "outputs": [],
      "source": [
        "# from transformers import AutoTokenizer, AutoModelForTokenClassification\n",
        "# from transformers import pipeline\n",
        "# model_name = 'mbeukman/xlm-roberta-base-finetuned-kinyarwanda-finetuned-ner-kinyarwanda'\n",
        "# tokenizer = AutoTokenizer.from_pretrained(model_name)\n",
        "# model = AutoModelForTokenClassification.from_pretrained(model_name)\n",
        "\n",
        "# nlp = pipeline(\"ner\", model=model, tokenizer=tokenizer)\n",
        "# example = \"Ambasaderi wa EU mu Rwanda , Nicola Bellomo yagize ati “ Inkunga yacu ni imwe mu nkunga yagutse yiswe # TeamEurope .\"\n",
        "\n",
        "# ner_results = nlp(example)\n",
        "# print(ner_results)\n"
      ]
    },
    {
      "cell_type": "code",
      "execution_count": null,
      "metadata": {
        "id": "UNWbz9ysrlhG"
      },
      "outputs": [],
      "source": [
        "# XLM and roberta"
      ]
    },
    {
      "cell_type": "code",
      "execution_count": null,
      "metadata": {
        "id": "vNpLVuMsru04"
      },
      "outputs": [],
      "source": []
    }
  ],
  "metadata": {
    "accelerator": "GPU",
    "colab": {
      "provenance": [],
      "include_colab_link": true
    },
    "gpuClass": "standard",
    "kernelspec": {
      "display_name": "Python 3",
      "language": "python",
      "name": "python3"
    },
    "language_info": {
      "codemirror_mode": {
        "name": "ipython",
        "version": 3
      },
      "file_extension": ".py",
      "mimetype": "text/x-python",
      "name": "python",
      "nbconvert_exporter": "python",
      "pygments_lexer": "ipython3",
      "version": "3.7.6"
    }
  },
  "nbformat": 4,
  "nbformat_minor": 0
}